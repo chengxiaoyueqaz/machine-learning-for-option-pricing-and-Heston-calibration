{
  "cells": [
    {
      "cell_type": "code",
      "execution_count": null,
      "metadata": {
        "colab": {
          "base_uri": "https://localhost:8080/"
        },
        "id": "vewRJlHt2K_I",
        "outputId": "a93e4984-fc64-4c42-cc9f-8ee41ae2d75f"
      },
      "outputs": [
        {
          "output_type": "stream",
          "name": "stdout",
          "text": [
            "Mounted at /content/drive\n"
          ]
        }
      ],
      "source": [
        "from google.colab import drive\n",
        "drive.mount('/content/drive', force_remount=True)"
      ]
    },
    {
      "cell_type": "code",
      "execution_count": null,
      "metadata": {
        "id": "t7F6v8UT3_hw"
      },
      "outputs": [],
      "source": [
        "import copy\n",
        "import numpy as np\n",
        "import pandas as pd\n",
        "import matplotlib\n",
        "import matplotlib.pyplot as plt\n",
        "import random\n",
        "\n",
        "from sklearn import preprocessing\n",
        "from sklearn.preprocessing import MinMaxScaler\n",
        "from sklearn import model_selection\n",
        "from sklearn.model_selection import train_test_split\n",
        "from sklearn.model_selection import StratifiedKFold\n",
        "from sklearn.model_selection import KFold\n",
        "from sklearn.model_selection import GridSearchCV, RandomizedSearchCV\n",
        "from sklearn.ensemble import RandomForestRegressor\n",
        "from sklearn import metrics\n",
        "from sklearn.metrics import mean_squared_error, mean_absolute_error\n",
        "\n",
        "from scipy import stats\n",
        "from scipy.stats import norm\n",
        "\n",
        "import xgboost as xgb\n",
        "import lightgbm as lgb\n",
        "\n",
        "import os\n",
        "os.chdir(\"/content/drive/MyDrive/Practicum\")\n",
        "#from google.colab import drive\n",
        "#drive.mount('/content/drive')\n",
        "import os\n",
        "\n",
        "from share_funcs import *\n",
        "\n",
        "\n",
        "import warnings\n",
        "warnings.filterwarnings('ignore')\n",
        "\n",
        "plt.rc('font', family='Calibri')\n",
        "\n",
        "pd.set_option('display.max_columns', None)\n",
        "pd.set_option('display.max_rows', None)\n",
        "\n",
        "import torch\n",
        "from torch import nn\n",
        "import torch.nn.functional as F"
      ]
    },
    {
      "cell_type": "code",
      "execution_count": null,
      "metadata": {
        "colab": {
          "base_uri": "https://localhost:8080/"
        },
        "id": "PGDOXf9_yjQA",
        "outputId": "e7bd60d7-6b85-4240-9e57-8fd594a654d5"
      },
      "outputs": [
        {
          "output_type": "stream",
          "name": "stdout",
          "text": [
            "Drive already mounted at /content/drive; to attempt to forcibly remount, call drive.mount(\"/content/drive\", force_remount=True).\n"
          ]
        }
      ],
      "source": [
        "from google.colab import drive\n",
        "drive.mount('/content/drive')"
      ]
    },
    {
      "cell_type": "markdown",
      "metadata": {
        "id": "ujl9RZBm4NDa"
      },
      "source": [
        "# Parameters"
      ]
    },
    {
      "cell_type": "markdown",
      "metadata": {
        "id": "i8zwxLS84Q6v"
      },
      "source": []
    },
    {
      "cell_type": "code",
      "execution_count": null,
      "metadata": {
        "colab": {
          "base_uri": "https://localhost:8080/",
          "height": 206
        },
        "id": "-mloItVF3_jr",
        "outputId": "4bd42d2d-cfe6-453d-c365-793edf45f67d"
      },
      "outputs": [
        {
          "output_type": "execute_result",
          "data": {
            "text/plain": [
              "          m         T         r         q        v0     theta     kappa  \\\n",
              "0  1.288887  0.527902  0.051012  0.014432  0.024853  1.209090  0.087701   \n",
              "1  2.846311  1.151904  0.068235  0.024679  0.058919  0.504592  1.840905   \n",
              "2  3.653451  0.444326  0.034813  0.043937  0.424809  1.230969  0.730221   \n",
              "3  2.230911  1.786501  0.053370  0.024511  0.060177  1.927837  0.799849   \n",
              "4  2.508473  1.358587  0.045171  0.034893  0.338931  0.907956  0.986016   \n",
              "\n",
              "      sigma       rho  amercall_pde  \n",
              "0  0.205759 -0.667574      0.003338  \n",
              "1  0.230414  0.196799      0.022033  \n",
              "2  0.897620  0.060239      0.002635  \n",
              "3  0.073876  0.084663      0.277423  \n",
              "4  0.664361 -0.313718      0.083194  "
            ],
            "text/html": [
              "\n",
              "  <div id=\"df-63c77912-e706-42bf-aded-8088775203ca\">\n",
              "    <div class=\"colab-df-container\">\n",
              "      <div>\n",
              "<style scoped>\n",
              "    .dataframe tbody tr th:only-of-type {\n",
              "        vertical-align: middle;\n",
              "    }\n",
              "\n",
              "    .dataframe tbody tr th {\n",
              "        vertical-align: top;\n",
              "    }\n",
              "\n",
              "    .dataframe thead th {\n",
              "        text-align: right;\n",
              "    }\n",
              "</style>\n",
              "<table border=\"1\" class=\"dataframe\">\n",
              "  <thead>\n",
              "    <tr style=\"text-align: right;\">\n",
              "      <th></th>\n",
              "      <th>m</th>\n",
              "      <th>T</th>\n",
              "      <th>r</th>\n",
              "      <th>q</th>\n",
              "      <th>v0</th>\n",
              "      <th>theta</th>\n",
              "      <th>kappa</th>\n",
              "      <th>sigma</th>\n",
              "      <th>rho</th>\n",
              "      <th>amercall_pde</th>\n",
              "    </tr>\n",
              "  </thead>\n",
              "  <tbody>\n",
              "    <tr>\n",
              "      <th>0</th>\n",
              "      <td>1.288887</td>\n",
              "      <td>0.527902</td>\n",
              "      <td>0.051012</td>\n",
              "      <td>0.014432</td>\n",
              "      <td>0.024853</td>\n",
              "      <td>1.209090</td>\n",
              "      <td>0.087701</td>\n",
              "      <td>0.205759</td>\n",
              "      <td>-0.667574</td>\n",
              "      <td>0.003338</td>\n",
              "    </tr>\n",
              "    <tr>\n",
              "      <th>1</th>\n",
              "      <td>2.846311</td>\n",
              "      <td>1.151904</td>\n",
              "      <td>0.068235</td>\n",
              "      <td>0.024679</td>\n",
              "      <td>0.058919</td>\n",
              "      <td>0.504592</td>\n",
              "      <td>1.840905</td>\n",
              "      <td>0.230414</td>\n",
              "      <td>0.196799</td>\n",
              "      <td>0.022033</td>\n",
              "    </tr>\n",
              "    <tr>\n",
              "      <th>2</th>\n",
              "      <td>3.653451</td>\n",
              "      <td>0.444326</td>\n",
              "      <td>0.034813</td>\n",
              "      <td>0.043937</td>\n",
              "      <td>0.424809</td>\n",
              "      <td>1.230969</td>\n",
              "      <td>0.730221</td>\n",
              "      <td>0.897620</td>\n",
              "      <td>0.060239</td>\n",
              "      <td>0.002635</td>\n",
              "    </tr>\n",
              "    <tr>\n",
              "      <th>3</th>\n",
              "      <td>2.230911</td>\n",
              "      <td>1.786501</td>\n",
              "      <td>0.053370</td>\n",
              "      <td>0.024511</td>\n",
              "      <td>0.060177</td>\n",
              "      <td>1.927837</td>\n",
              "      <td>0.799849</td>\n",
              "      <td>0.073876</td>\n",
              "      <td>0.084663</td>\n",
              "      <td>0.277423</td>\n",
              "    </tr>\n",
              "    <tr>\n",
              "      <th>4</th>\n",
              "      <td>2.508473</td>\n",
              "      <td>1.358587</td>\n",
              "      <td>0.045171</td>\n",
              "      <td>0.034893</td>\n",
              "      <td>0.338931</td>\n",
              "      <td>0.907956</td>\n",
              "      <td>0.986016</td>\n",
              "      <td>0.664361</td>\n",
              "      <td>-0.313718</td>\n",
              "      <td>0.083194</td>\n",
              "    </tr>\n",
              "  </tbody>\n",
              "</table>\n",
              "</div>\n",
              "      <button class=\"colab-df-convert\" onclick=\"convertToInteractive('df-63c77912-e706-42bf-aded-8088775203ca')\"\n",
              "              title=\"Convert this dataframe to an interactive table.\"\n",
              "              style=\"display:none;\">\n",
              "        \n",
              "  <svg xmlns=\"http://www.w3.org/2000/svg\" height=\"24px\"viewBox=\"0 0 24 24\"\n",
              "       width=\"24px\">\n",
              "    <path d=\"M0 0h24v24H0V0z\" fill=\"none\"/>\n",
              "    <path d=\"M18.56 5.44l.94 2.06.94-2.06 2.06-.94-2.06-.94-.94-2.06-.94 2.06-2.06.94zm-11 1L8.5 8.5l.94-2.06 2.06-.94-2.06-.94L8.5 2.5l-.94 2.06-2.06.94zm10 10l.94 2.06.94-2.06 2.06-.94-2.06-.94-.94-2.06-.94 2.06-2.06.94z\"/><path d=\"M17.41 7.96l-1.37-1.37c-.4-.4-.92-.59-1.43-.59-.52 0-1.04.2-1.43.59L10.3 9.45l-7.72 7.72c-.78.78-.78 2.05 0 2.83L4 21.41c.39.39.9.59 1.41.59.51 0 1.02-.2 1.41-.59l7.78-7.78 2.81-2.81c.8-.78.8-2.07 0-2.86zM5.41 20L4 18.59l7.72-7.72 1.47 1.35L5.41 20z\"/>\n",
              "  </svg>\n",
              "      </button>\n",
              "      \n",
              "  <style>\n",
              "    .colab-df-container {\n",
              "      display:flex;\n",
              "      flex-wrap:wrap;\n",
              "      gap: 12px;\n",
              "    }\n",
              "\n",
              "    .colab-df-convert {\n",
              "      background-color: #E8F0FE;\n",
              "      border: none;\n",
              "      border-radius: 50%;\n",
              "      cursor: pointer;\n",
              "      display: none;\n",
              "      fill: #1967D2;\n",
              "      height: 32px;\n",
              "      padding: 0 0 0 0;\n",
              "      width: 32px;\n",
              "    }\n",
              "\n",
              "    .colab-df-convert:hover {\n",
              "      background-color: #E2EBFA;\n",
              "      box-shadow: 0px 1px 2px rgba(60, 64, 67, 0.3), 0px 1px 3px 1px rgba(60, 64, 67, 0.15);\n",
              "      fill: #174EA6;\n",
              "    }\n",
              "\n",
              "    [theme=dark] .colab-df-convert {\n",
              "      background-color: #3B4455;\n",
              "      fill: #D2E3FC;\n",
              "    }\n",
              "\n",
              "    [theme=dark] .colab-df-convert:hover {\n",
              "      background-color: #434B5C;\n",
              "      box-shadow: 0px 1px 3px 1px rgba(0, 0, 0, 0.15);\n",
              "      filter: drop-shadow(0px 1px 2px rgba(0, 0, 0, 0.3));\n",
              "      fill: #FFFFFF;\n",
              "    }\n",
              "  </style>\n",
              "\n",
              "      <script>\n",
              "        const buttonEl =\n",
              "          document.querySelector('#df-63c77912-e706-42bf-aded-8088775203ca button.colab-df-convert');\n",
              "        buttonEl.style.display =\n",
              "          google.colab.kernel.accessAllowed ? 'block' : 'none';\n",
              "\n",
              "        async function convertToInteractive(key) {\n",
              "          const element = document.querySelector('#df-63c77912-e706-42bf-aded-8088775203ca');\n",
              "          const dataTable =\n",
              "            await google.colab.kernel.invokeFunction('convertToInteractive',\n",
              "                                                     [key], {});\n",
              "          if (!dataTable) return;\n",
              "\n",
              "          const docLinkHtml = 'Like what you see? Visit the ' +\n",
              "            '<a target=\"_blank\" href=https://colab.research.google.com/notebooks/data_table.ipynb>data table notebook</a>'\n",
              "            + ' to learn more about interactive tables.';\n",
              "          element.innerHTML = '';\n",
              "          dataTable['output_type'] = 'display_data';\n",
              "          await google.colab.output.renderOutput(dataTable, element);\n",
              "          const docLink = document.createElement('div');\n",
              "          docLink.innerHTML = docLinkHtml;\n",
              "          element.appendChild(docLink);\n",
              "        }\n",
              "      </script>\n",
              "    </div>\n",
              "  </div>\n",
              "  "
            ]
          },
          "metadata": {},
          "execution_count": 14
        }
      ],
      "source": [
        "# Read data\n",
        "data = pd.read_csv(\"/content/drive/MyDrive/Practicum/amercall_pde_100k_final.csv\", index_col=0)\n",
        "data.dropna(axis=0, how='any', inplace=True)\n",
        "data.head()"
      ]
    },
    {
      "cell_type": "code",
      "source": [
        "(data['amercall_pde'] ==0).value_counts()"
      ],
      "metadata": {
        "colab": {
          "base_uri": "https://localhost:8080/"
        },
        "id": "c5K4nS5xAZGl",
        "outputId": "77e0b35d-7215-4be5-e0b7-93de28210eb6"
      },
      "execution_count": null,
      "outputs": [
        {
          "output_type": "execute_result",
          "data": {
            "text/plain": [
              "False    89267\n",
              "True     10494\n",
              "Name: amercall_pde, dtype: int64"
            ]
          },
          "metadata": {},
          "execution_count": 15
        }
      ]
    },
    {
      "cell_type": "markdown",
      "metadata": {
        "id": "1ydIPXxc5DgL"
      },
      "source": [
        "# American Call Option - RF"
      ]
    },
    {
      "cell_type": "code",
      "execution_count": null,
      "metadata": {
        "id": "OsGlgVp53_mS"
      },
      "outputs": [],
      "source": [
        "# Data set\n",
        "rf_data = copy.deepcopy(data)\n",
        "\n",
        "# Split train/test data set\n",
        "X_rf = rf_data.drop(['amercall_pde'], axis=1)\n",
        "y_rf = rf_data['amercall_pde']\n",
        "X_train_rf, X_test_rf, y_train_rf, y_test_rf = train_test_split(X_rf, y_rf, test_size=0.3, random_state=10)"
      ]
    },
    {
      "cell_type": "markdown",
      "metadata": {
        "id": "7W85Prr17lmh"
      },
      "source": [
        "## Model Fit"
      ]
    },
    {
      "cell_type": "code",
      "execution_count": null,
      "metadata": {
        "colab": {
          "base_uri": "https://localhost:8080/"
        },
        "id": "KqB6UztH6UhW",
        "outputId": "24bacc94-8166-4cc7-947f-7218bbf523cd"
      },
      "outputs": [
        {
          "output_type": "stream",
          "name": "stdout",
          "text": [
            "Best: -0.000035 using {'max_features': 1, 'n_estimators': 400}\n",
            "CPU times: user 32.8 s, sys: 3.26 s, total: 36 s\n",
            "Wall time: 1h 27min 52s\n"
          ]
        }
      ],
      "source": [
        "# Model fit\n",
        "%%time\n",
        "trained_params_rf = {'n_estimators': [50, 100, 200, 400],\n",
        "                     'max_features': np.arange(1, 9)\n",
        "                     }\n",
        "grid_search_rf = trainmodel(RandomForestRegressor, X_train_rf, y_train_rf, trained_params_rf)\n",
        "rf_cv_results = pd.DataFrame(grid_search_rf.cv_results_)"
      ]
    },
    {
      "cell_type": "code",
      "execution_count": null,
      "metadata": {
        "id": "T8qhv4mn6Ujc"
      },
      "outputs": [],
      "source": [
        "file_path_rf = '/content/drive/MyDrive/Practicum/rf_cv_results_1w.csv'\n",
        "#rf_cv_results.to_csv(file_path_rf)\n",
        "rf_cv_results = pd.read_csv(file_path_rf, index_col=0)"
      ]
    },
    {
      "cell_type": "code",
      "execution_count": null,
      "metadata": {
        "colab": {
          "base_uri": "https://localhost:8080/"
        },
        "id": "wFydKyRn6UmC",
        "outputId": "ea36a497-5e7b-483c-d909-beef2472c719"
      },
      "outputs": [
        {
          "output_type": "stream",
          "name": "stdout",
          "text": [
            "Current Best RF Performance:\n",
            "RandomForestRegressor(max_features=5, n_estimators=400)\n",
            "Train Set rmse:  0.00467\n",
            "RF rmse:  0.01238 mae: 0.00792\n",
            "RF r2:  0.99598\n",
            "CPU times: user 2min 54s, sys: 1.09 s, total: 2min 55s\n",
            "Wall time: 2min 56s\n"
          ]
        }
      ],
      "source": [
        "%%time\n",
        "rfr1 = train_best_reg(RandomForestRegressor, X_train_rf, y_train_rf, X_test_rf, y_test_rf,\n",
        "                      \"RF\", max_features=5, n_estimators=400)"
      ]
    },
    {
      "cell_type": "code",
      "execution_count": null,
      "metadata": {
        "colab": {
          "base_uri": "https://localhost:8080/"
        },
        "id": "-J83Gq0g6UoZ",
        "outputId": "58429389-11a0-431d-b1c0-9d774b8cd98c"
      },
      "outputs": [
        {
          "output_type": "stream",
          "name": "stdout",
          "text": [
            "Current Best RF Performance:\n",
            "RandomForestRegressor(max_features=4, n_estimators=400)\n",
            "Train Set rmse:  0.00478\n",
            "RF rmse:  0.01296 mae: 0.00831\n",
            "RF r2:  0.99563\n",
            "CPU times: user 2min, sys: 1.06 s, total: 2min 1s\n",
            "Wall time: 2min 2s\n"
          ]
        }
      ],
      "source": [
        "%%time\n",
        "rfr2 = train_best_reg(RandomForestRegressor, X_train_rf, y_train_rf, X_test_rf, y_test_rf,\n",
        "                      \"RF\", max_features=4, n_estimators=400)"
      ]
    },
    {
      "cell_type": "markdown",
      "metadata": {
        "id": "VAXeLaPX9KJR"
      },
      "source": [
        "## Error Analysis"
      ]
    },
    {
      "cell_type": "code",
      "execution_count": null,
      "metadata": {
        "colab": {
          "base_uri": "https://localhost:8080/"
        },
        "id": "7y1YyY_K6Uyl",
        "outputId": "c306327f-4593-40fa-f0eb-0e5e17791864"
      },
      "outputs": [
        {
          "output_type": "stream",
          "name": "stdout",
          "text": [
            "RF Absolute Error (quantile): \n",
            "0.00    0.000\n",
            "0.25    0.001\n",
            "0.50    0.005\n",
            "0.75    0.011\n",
            "0.85    0.017\n",
            "0.90    0.021\n",
            "0.99    0.042\n",
            "1.00    0.107\n",
            "Name: amercall_pde, dtype: float64\n"
          ]
        }
      ],
      "source": [
        "# Error\n",
        "# using model with n estimators = 400\n",
        "y_test_predict_rf = err_check(rfr1.predict(X_test_rf))\n",
        "err_rf = y_test_rf - y_test_predict_rf\n",
        "\n",
        "print('RF Absolute Error (quantile): ')\n",
        "print(np.around(err_rf.abs().quantile([0, 0.25, 0.5, 0.75, 0.85, 0.9, 0.99, 1]), decimals=3))"
      ]
    },
    {
      "cell_type": "code",
      "source": [
        "np.corrcoef(y_test_rf,y_test_predict_rf)"
      ],
      "metadata": {
        "colab": {
          "base_uri": "https://localhost:8080/"
        },
        "id": "KUg3TV_25zDd",
        "outputId": "446ef658-2379-41ec-fb07-d81463263874"
      },
      "execution_count": null,
      "outputs": [
        {
          "output_type": "execute_result",
          "data": {
            "text/plain": [
              "array([[1.        , 0.99789665],\n",
              "       [0.99789665, 1.        ]])"
            ]
          },
          "metadata": {},
          "execution_count": 31
        }
      ]
    },
    {
      "cell_type": "markdown",
      "metadata": {
        "id": "EYtMpRO79qnx"
      },
      "source": [
        "## Feature Importance"
      ]
    },
    {
      "cell_type": "code",
      "execution_count": null,
      "metadata": {
        "id": "i5K2pv0r9lkb"
      },
      "outputs": [],
      "source": [
        "# Model Feature Importance\n",
        "rf_feature_importance = pd.Series(rfr1.feature_importances_ / rfr1.feature_importances_.sum(),\n",
        "                                  index=['Moneyness(S/K)', 'Time to Maturity', 'Interest rate', 'Dividend','V0','theta','kappa','sigma','rho']).sort_values()\n",
        "plt.barh(rf_feature_importance.index, rf_feature_importance)\n",
        "plt.title(\"Random Forest: Feature Importance\\n$m \\in [0.2, 5,0]$\");"
      ]
    },
    {
      "cell_type": "markdown",
      "metadata": {
        "id": "r3xAKwWTCcBt"
      },
      "source": [
        "# American Call Option - XGBoost"
      ]
    },
    {
      "cell_type": "code",
      "execution_count": null,
      "metadata": {
        "id": "nUugmXNTCbjz"
      },
      "outputs": [],
      "source": [
        "xgb_data = copy.deepcopy(data)\n",
        "\n",
        "# train/test data set for XGB\n",
        "X_xgb = xgb_data.drop(['amercall_pde'], axis=1)\n",
        "y_xgb = xgb_data['amercall_pde']\n",
        "X_train_xgb, X_test_xgb, y_train_xgb, y_test_xgb = train_test_split(X_xgb, y_xgb, test_size=0.3, random_state=10)"
      ]
    },
    {
      "cell_type": "markdown",
      "metadata": {
        "id": "37q_zQsmDzWS"
      },
      "source": [
        "## Model Fit"
      ]
    },
    {
      "cell_type": "code",
      "execution_count": null,
      "metadata": {
        "id": "CGN8VenLEx-P"
      },
      "outputs": [],
      "source": [
        "param_xgb = {'n_estimators': [200, 400, 800],\n",
        "             'subsample': [0.6, 0.8],\n",
        "             'colsample_bytree': [0.8, 1],\n",
        "             'lambda_l2': [0, 1],\n",
        "             'min_child_weight': [1, 5, 10],\n",
        "             'max_depth': [4, 5, 6]\n",
        "             }\n",
        "grid_xgb = trainmodel(xgb.XGBRegressor, X_train_xgb, y_train_xgb, param_xgb)\n",
        "xgb_cv_results = pd.DataFrame(grid_xgb.cv_results_)"
      ]
    },
    {
      "cell_type": "code",
      "execution_count": null,
      "metadata": {
        "id": "PU-jLPKlZGzw"
      },
      "outputs": [],
      "source": [
        "file_path_xgb = '/content/drive/MyDrive/Practicum/xgb_cv_results_1w.csv'\n",
        "#xgb_cv_results.to_csv(file_path_xgb)\n",
        "xgb_cv_results = pd.read_csv(file_path_xgb, index_col=0)"
      ]
    },
    {
      "cell_type": "code",
      "execution_count": null,
      "metadata": {
        "colab": {
          "base_uri": "https://localhost:8080/"
        },
        "id": "xsTZPDXs91G8",
        "outputId": "549889ae-69c9-4a54-e543-ed7b05da7cc3"
      },
      "outputs": [
        {
          "output_type": "stream",
          "name": "stdout",
          "text": [
            "[00:11:59] WARNING: ../src/learner.cc:767: \n",
            "Parameters: { \"lambda_l1\", \"lambda_l2\" } are not used.\n",
            "\n",
            "Current Best XGB Performance:\n",
            "XGBRegressor(base_score=None, booster=None, callbacks=None,\n",
            "             colsample_bylevel=None, colsample_bynode=None,\n",
            "             colsample_bytree=0.9, early_stopping_rounds=None,\n",
            "             enable_categorical=False, eta=0.05, eval_metric=None,\n",
            "             feature_types=None, gamma=0, gpu_id=None, grow_policy=None,\n",
            "             importance_type=None, interaction_constraints=None, lambda_l1=0,\n",
            "             lambda_l2=0, learning_rate=None, max_bin=None,\n",
            "             max_cat_threshold=None, max_cat_to_onehot=None,\n",
            "             max_delta_step=None, max_depth=6, max_leaves=None,\n",
            "             min_child_weight=2, missing=nan, monotone_constraints=None,\n",
            "             n_estimators=3000, n_jobs=None, ...)\n",
            "Train Set rmse:  0.00268\n",
            "XGB rmse:  0.00523 mae: 0.0038\n",
            "XGB r2:  0.99928\n"
          ]
        }
      ],
      "source": [
        "xgb1 = train_best_reg(xgb.XGBRegressor, X_train_xgb, y_train_xgb, X_test_xgb, y_test_xgb,\n",
        "                      'XGB', **{'colsample_bytree': 0.9, 'lambda_l1': 0,'lambda_l2': 0, 'max_depth': 6,'eta':0.05, 'min_child_weight': 2, 'n_estimators': 3000, 'subsample': 0.8,'gamma':0})"
      ]
    },
    {
      "cell_type": "code",
      "source": [
        "cv_params = {'eta': [0.05,0.06,0.07]}\n",
        "other_params = {'learning_rate': 0.1, 'n_estimators': 800, 'max_depth': 6, 'min_child_weight': 2, 'seed': 0,\n",
        "                    'subsample': 0.8, 'colsample_bytree': 0.9, 'gamma': 0, 'reg_alpha': 0, 'reg_lambda': 1}\n",
        "\n",
        "model = xgb.XGBRegressor(**other_params)\n",
        "optimized_GBM = GridSearchCV(estimator=model, param_grid=cv_params, scoring='neg_mean_squared_error', cv=5, verbose=1, n_jobs=4)\n",
        "optimized_GBM.fit(X_train_xgb, y_train_xgb)\n",
        "\n",
        "print('参数的最佳取值：{0}'.format(optimized_GBM.best_params_))\n",
        "print('最佳模型得分:{0}'.format(optimized_GBM.best_score_))"
      ],
      "metadata": {
        "colab": {
          "base_uri": "https://localhost:8080/"
        },
        "id": "zh2_djmb9oFQ",
        "outputId": "b14766fb-80ba-4265-a5c1-ef7d46ca9301"
      },
      "execution_count": null,
      "outputs": [
        {
          "output_type": "stream",
          "name": "stdout",
          "text": [
            "Fitting 5 folds for each of 3 candidates, totalling 15 fits\n",
            "参数的最佳取值：{'eta': 0.05}\n",
            "最佳模型得分:-4.553224439847784e-05\n"
          ]
        }
      ]
    },
    {
      "cell_type": "markdown",
      "metadata": {
        "id": "OxpExzJ1f2sj"
      },
      "source": [
        "## Error Analysis"
      ]
    },
    {
      "cell_type": "code",
      "execution_count": null,
      "metadata": {
        "colab": {
          "base_uri": "https://localhost:8080/"
        },
        "id": "xLb6Y8AZDSQS",
        "outputId": "191d00f2-4295-479a-d31d-5c8ce8d68be3"
      },
      "outputs": [
        {
          "output_type": "stream",
          "name": "stdout",
          "text": [
            "XGM Absolute Error (quantile): \n",
            "0.00    0.000\n",
            "0.25    0.001\n",
            "0.50    0.002\n",
            "0.75    0.005\n",
            "0.85    0.007\n",
            "0.90    0.008\n",
            "0.99    0.016\n",
            "1.00    0.039\n",
            "Name: amercall_pde, dtype: float64\n"
          ]
        }
      ],
      "source": [
        "# Error\n",
        "y_test_predict_xgb = err_check(xgb1.predict(X_test_xgb))\n",
        "err_xgb = y_test_xgb - y_test_predict_xgb\n",
        "\n",
        "print('XGM Absolute Error (quantile): ')\n",
        "print(np.around(err_xgb.abs().quantile([0, 0.25, 0.5, 0.75, 0.85, 0.9, 0.99, 1]), decimals=3))"
      ]
    },
    {
      "cell_type": "markdown",
      "metadata": {
        "id": "KCpJJ4XZgfa4"
      },
      "source": [
        "## Feature Importance"
      ]
    },
    {
      "cell_type": "code",
      "execution_count": null,
      "metadata": {
        "id": "tiwcMCiqDSSp"
      },
      "outputs": [],
      "source": [
        "# Model Feature Importance\n",
        "xgb_feature_importance = pd.Series(xgb1.feature_importances_ / xgb1.feature_importances_.sum(),\n",
        "                                   index=['Moneyness(S/K)', 'Time to Maturity', 'Interest rate', 'Dividend','V0','theta','kappa','sigma','rho']).sort_values()\n",
        "plt.barh(xgb_feature_importance.index, xgb_feature_importance)\n",
        "plt.title(\"XGB: Feature Importance\\n$m \\in [0.2, 5.0]$\");"
      ]
    },
    {
      "cell_type": "markdown",
      "metadata": {
        "id": "wohB6RHsCo1J"
      },
      "source": [
        "# American Call Option - LightGBM"
      ]
    },
    {
      "cell_type": "markdown",
      "metadata": {
        "id": "4-H4LeT7FZfo"
      },
      "source": [
        "## Model Fit"
      ]
    },
    {
      "cell_type": "code",
      "execution_count": null,
      "metadata": {
        "id": "8SWReBr191JP"
      },
      "outputs": [],
      "source": [
        "lgb_data = copy.deepcopy(data)\n",
        "\n",
        "# train/test data set for LGBM\n",
        "X_lgb = lgb_data.drop(['amercall_pde'], axis=1)\n",
        "y_lgb = lgb_data['amercall_pde']\n",
        "X_train_lgb, X_test_lgb, y_train_lgb, y_test_lgb = train_test_split(X_lgb, y_lgb, test_size=0.3, random_state=10)"
      ]
    },
    {
      "cell_type": "code",
      "execution_count": null,
      "metadata": {
        "id": "8D9jYv3891L1"
      },
      "outputs": [],
      "source": [
        "param_lgb = {'num_leaves': [40,50,60],\n",
        "             'min_data_in_leaf': [16,18,20,22,24,26],\n",
        "             'reg_alpha': [0, 0.001, 0.01, 0.03, 0.08, 0.3, 0.5],\n",
        "             'reg_lambda': [0, 0.001, 0.01, 0.03, 0.08, 0.3, 0.5],\n",
        "             'max_depth': [3,4,5],\n",
        "             'n_estimators': [400,600,800,1000],\n",
        "             'feature_fraction': [0.5, 0.6, 0.7, 0.8, 0.9],\n",
        "             'bagging_fraction': [0.6, 0.7, 0.8, 0.9, 1.0]\n",
        "             }\n",
        "grid_lgb = trainmodel(lgb.LGBMRegressor, X_train_lgb, y_train_lgb, param_lgb)\n",
        "lgb_cv_results = pd.DataFrame(grid_lgb.cv_results_)"
      ]
    },
    {
      "cell_type": "code",
      "execution_count": null,
      "metadata": {
        "id": "cPsaixSoZ_ya"
      },
      "outputs": [],
      "source": [
        "file_path_lgb = '/content/drive/MyDrive/Practicum/lgb_cv_results_1w.csv'\n",
        "#lgb_cv_results.to_csv(file_path_lgb)\n",
        "lgb_cv_results = pd.read_csv(file_path_lgb, index_col=0)"
      ]
    },
    {
      "cell_type": "code",
      "source": [
        "lgb2 = train_best_reg(lgb.LGBMRegressor, X_train_lgb, y_train_lgb, X_test_lgb, y_test_lgb,\n",
        "                      'LGB', **{'reg_alpha': 0.08, 'reg_lambda':0.5,'max_depth':8,'n_estimators':6000,\n",
        "                                'num_leaves': 30, 'min_child_samples': 20,'min_child_weight':0.001,\n",
        "                                'colsample_bytree':0.8,'subsample':0.6,\n",
        "                                'learning_rate':0.05})"
      ],
      "metadata": {
        "colab": {
          "base_uri": "https://localhost:8080/"
        },
        "id": "9sm3zbbnCeaY",
        "outputId": "1d438135-0819-4aba-b774-86293efbfb28"
      },
      "execution_count": null,
      "outputs": [
        {
          "output_type": "stream",
          "name": "stdout",
          "text": [
            "Current Best LGB Performance:\n",
            "LGBMRegressor(colsample_bytree=0.8, learning_rate=0.05, max_depth=8,\n",
            "              n_estimators=6000, num_leaves=30, reg_alpha=0.08, reg_lambda=0.5,\n",
            "              subsample=0.6)\n",
            "Train Set rmse:  0.00269\n",
            "LGB rmse:  0.00446 mae: 0.00328\n",
            "LGB r2:  0.99948\n"
          ]
        }
      ]
    },
    {
      "cell_type": "code",
      "source": [
        "from sklearn.model_selection import GridSearchCV\n",
        "model_lgb = lgb.LGBMRegressor(objective='regression',\n",
        "                              learning_rate=0.1, n_estimators=1000, num_leaves=40,max_depth=8, min_child_samples=20,min_child_weight=0.001,\n",
        "                              metric='rmse', bagging_fraction = 0.6,feature_fraction = 0.8)\n",
        "\n",
        "\n",
        "params_test1={\n",
        "'reg_alpha': [0, 0.001, 0.01, 0.03, 0.08, 0.3, 0.5],\n",
        "    'reg_lambda': [0, 0.001, 0.01, 0.03, 0.08, 0.3, 0.5]\n",
        "}\n",
        "gsearch1 = GridSearchCV(estimator=model_lgb, param_grid=params_test1, scoring='neg_mean_squared_error', cv=5, verbose=1, n_jobs=4)\n",
        "gsearch1.fit(X_train_lgb, y_train_lgb)\n",
        "\n",
        "gsearch1.best_params_, gsearch1.best_score_"
      ],
      "metadata": {
        "colab": {
          "base_uri": "https://localhost:8080/"
        },
        "id": "hRPlV6hX8qa_",
        "outputId": "c866c6d0-0842-4d79-8a8e-14e0d66e5549"
      },
      "execution_count": null,
      "outputs": [
        {
          "output_type": "stream",
          "name": "stdout",
          "text": [
            "Fitting 5 folds for each of 49 candidates, totalling 245 fits\n"
          ]
        },
        {
          "output_type": "execute_result",
          "data": {
            "text/plain": [
              "({'reg_alpha': 0.08, 'reg_lambda': 0.5}, -4.27760020799271e-05)"
            ]
          },
          "metadata": {},
          "execution_count": 50
        }
      ]
    },
    {
      "cell_type": "code",
      "source": [
        "params = {\n",
        "'reg_alpha': 0.08, 'reg_lambda':0.5,'max_depth':8,\n",
        "                                'num_leaves': 30, 'min_child_samples': 20,'min_child_weight':0.001,\n",
        "                                'colsample_bytree':0.8,'subsample':0.6,\n",
        "                                'learning_rate':0.05\n",
        "    }\n",
        "\n",
        "data_train = lgb.Dataset(X_train_lgb, y_train_lgb, silent=True)\n",
        "cv_results = lgb.cv(\n",
        "    params, data_train, num_boost_round=10000, nfold=5, stratified=False, shuffle=True, metrics='rmse',\n",
        "    early_stopping_rounds=50, verbose_eval=100, show_stdv=True)\n",
        "\n",
        "print('best n_estimators:', len(cv_results['rmse-mean']))\n",
        "print('best cv score:', cv_results['rmse-mean'][-1])"
      ],
      "metadata": {
        "id": "IdxGHqm3_hHA"
      },
      "execution_count": null,
      "outputs": []
    },
    {
      "cell_type": "markdown",
      "metadata": {
        "id": "TAJ78EMehQ3k"
      },
      "source": [
        "## Error Analysis"
      ]
    },
    {
      "cell_type": "code",
      "execution_count": null,
      "metadata": {
        "colab": {
          "base_uri": "https://localhost:8080/"
        },
        "id": "SUwsbMRd91U-",
        "outputId": "920c267c-cf62-4434-f903-8f236616825a"
      },
      "outputs": [
        {
          "output_type": "stream",
          "name": "stdout",
          "text": [
            "LGB Absolute Error (quantile): \n",
            "0.00    0.000\n",
            "0.25    0.001\n",
            "0.50    0.002\n",
            "0.75    0.004\n",
            "0.85    0.006\n",
            "0.90    0.007\n",
            "0.99    0.013\n",
            "1.00    0.035\n",
            "Name: amercall_pde, dtype: float64\n"
          ]
        }
      ],
      "source": [
        "# Error\n",
        "y_test_predict_lgb = err_check(lgb2.predict(X_test_lgb))\n",
        "err_lgb = y_test_lgb - y_test_predict_lgb\n",
        "\n",
        "print('LGB Absolute Error (quantile): ')\n",
        "print(np.around(err_lgb.abs().quantile([0, 0.25, 0.5, 0.75, 0.85, 0.9, 0.99, 1]), decimals=3))"
      ]
    },
    {
      "cell_type": "code",
      "source": [
        "np.corrcoef(y_test_predict_lgb,y_test_lgb)"
      ],
      "metadata": {
        "colab": {
          "base_uri": "https://localhost:8080/"
        },
        "id": "WbR0JvZl2l9-",
        "outputId": "dd263747-c303-482b-f706-713f53a7774c"
      },
      "execution_count": null,
      "outputs": [
        {
          "output_type": "execute_result",
          "data": {
            "text/plain": [
              "array([[1.        , 0.99964753],\n",
              "       [0.99964753, 1.        ]])"
            ]
          },
          "metadata": {},
          "execution_count": 41
        }
      ]
    },
    {
      "cell_type": "markdown",
      "metadata": {
        "id": "aHQqIbqSht8p"
      },
      "source": [
        "## Feature Importance"
      ]
    },
    {
      "cell_type": "code",
      "execution_count": null,
      "metadata": {
        "colab": {
          "base_uri": "https://localhost:8080/",
          "height": 1000
        },
        "id": "YPFW_uo0hs_Z",
        "outputId": "ee0b110e-f302-4824-8ff2-7c7876a040f8"
      },
      "outputs": [
        {
          "output_type": "stream",
          "name": "stderr",
          "text": [
            "WARNING:matplotlib.font_manager:findfont: Font family 'Calibri' not found.\n",
            "WARNING:matplotlib.font_manager:findfont: Font family 'Calibri' not found.\n",
            "WARNING:matplotlib.font_manager:findfont: Font family 'Calibri' not found.\n",
            "WARNING:matplotlib.font_manager:findfont: Font family 'Calibri' not found.\n",
            "WARNING:matplotlib.font_manager:findfont: Font family 'Calibri' not found.\n",
            "WARNING:matplotlib.font_manager:findfont: Font family 'Calibri' not found.\n",
            "WARNING:matplotlib.font_manager:findfont: Font family 'Calibri' not found.\n",
            "WARNING:matplotlib.font_manager:findfont: Font family 'Calibri' not found.\n",
            "WARNING:matplotlib.font_manager:findfont: Font family 'Calibri' not found.\n",
            "WARNING:matplotlib.font_manager:findfont: Font family 'Calibri' not found.\n",
            "WARNING:matplotlib.font_manager:findfont: Font family 'Calibri' not found.\n",
            "WARNING:matplotlib.font_manager:findfont: Font family 'Calibri' not found.\n",
            "WARNING:matplotlib.font_manager:findfont: Font family 'Calibri' not found.\n",
            "WARNING:matplotlib.font_manager:findfont: Font family 'Calibri' not found.\n",
            "WARNING:matplotlib.font_manager:findfont: Font family 'Calibri' not found.\n",
            "WARNING:matplotlib.font_manager:findfont: Font family 'Calibri' not found.\n",
            "WARNING:matplotlib.font_manager:findfont: Font family 'Calibri' not found.\n",
            "WARNING:matplotlib.font_manager:findfont: Font family 'Calibri' not found.\n",
            "WARNING:matplotlib.font_manager:findfont: Font family 'Calibri' not found.\n",
            "WARNING:matplotlib.font_manager:findfont: Font family 'Calibri' not found.\n",
            "WARNING:matplotlib.font_manager:findfont: Font family 'Calibri' not found.\n",
            "WARNING:matplotlib.font_manager:findfont: Font family 'Calibri' not found.\n",
            "WARNING:matplotlib.font_manager:findfont: Font family 'Calibri' not found.\n",
            "WARNING:matplotlib.font_manager:findfont: Font family 'Calibri' not found.\n",
            "WARNING:matplotlib.font_manager:findfont: Font family 'Calibri' not found.\n",
            "WARNING:matplotlib.font_manager:findfont: Font family 'Calibri' not found.\n",
            "WARNING:matplotlib.font_manager:findfont: Font family 'Calibri' not found.\n",
            "WARNING:matplotlib.font_manager:findfont: Font family 'Calibri' not found.\n",
            "WARNING:matplotlib.font_manager:findfont: Font family 'Calibri' not found.\n",
            "WARNING:matplotlib.font_manager:findfont: Font family 'Calibri' not found.\n",
            "WARNING:matplotlib.font_manager:findfont: Font family 'Calibri' not found.\n",
            "WARNING:matplotlib.font_manager:findfont: Font family 'Calibri' not found.\n",
            "WARNING:matplotlib.font_manager:findfont: Font family 'Calibri' not found.\n",
            "WARNING:matplotlib.font_manager:findfont: Font family 'Calibri' not found.\n",
            "WARNING:matplotlib.font_manager:findfont: Font family 'Calibri' not found.\n",
            "WARNING:matplotlib.font_manager:findfont: Font family 'Calibri' not found.\n",
            "WARNING:matplotlib.font_manager:findfont: Font family 'Calibri' not found.\n",
            "WARNING:matplotlib.font_manager:findfont: Font family 'Calibri' not found.\n",
            "WARNING:matplotlib.font_manager:findfont: Font family 'Calibri' not found.\n",
            "WARNING:matplotlib.font_manager:findfont: Font family 'Calibri' not found.\n",
            "WARNING:matplotlib.font_manager:findfont: Font family 'Calibri' not found.\n",
            "WARNING:matplotlib.font_manager:findfont: Font family 'Calibri' not found.\n",
            "WARNING:matplotlib.font_manager:findfont: Font family 'Calibri' not found.\n",
            "WARNING:matplotlib.font_manager:findfont: Font family 'Calibri' not found.\n",
            "WARNING:matplotlib.font_manager:findfont: Font family 'Calibri' not found.\n",
            "WARNING:matplotlib.font_manager:findfont: Font family 'Calibri' not found.\n",
            "WARNING:matplotlib.font_manager:findfont: Font family 'Calibri' not found.\n",
            "WARNING:matplotlib.font_manager:findfont: Font family 'Calibri' not found.\n",
            "WARNING:matplotlib.font_manager:findfont: Font family 'Calibri' not found.\n",
            "WARNING:matplotlib.font_manager:findfont: Font family 'Calibri' not found.\n",
            "WARNING:matplotlib.font_manager:findfont: Font family 'Calibri' not found.\n",
            "WARNING:matplotlib.font_manager:findfont: Font family 'Calibri' not found.\n",
            "WARNING:matplotlib.font_manager:findfont: Font family 'Calibri' not found.\n",
            "WARNING:matplotlib.font_manager:findfont: Font family 'Calibri' not found.\n",
            "WARNING:matplotlib.font_manager:findfont: Font family 'Calibri' not found.\n",
            "WARNING:matplotlib.font_manager:findfont: Font family 'Calibri' not found.\n",
            "WARNING:matplotlib.font_manager:findfont: Font family 'Calibri' not found.\n",
            "WARNING:matplotlib.font_manager:findfont: Font family 'Calibri' not found.\n",
            "WARNING:matplotlib.font_manager:findfont: Font family 'Calibri' not found.\n",
            "WARNING:matplotlib.font_manager:findfont: Font family 'Calibri' not found.\n",
            "WARNING:matplotlib.font_manager:findfont: Font family 'Calibri' not found.\n",
            "WARNING:matplotlib.font_manager:findfont: Font family 'Calibri' not found.\n",
            "WARNING:matplotlib.font_manager:findfont: Font family 'Calibri' not found.\n",
            "WARNING:matplotlib.font_manager:findfont: Font family 'Calibri' not found.\n",
            "WARNING:matplotlib.font_manager:findfont: Font family 'Calibri' not found.\n",
            "WARNING:matplotlib.font_manager:findfont: Font family 'Calibri' not found.\n",
            "WARNING:matplotlib.font_manager:findfont: Font family 'Calibri' not found.\n",
            "WARNING:matplotlib.font_manager:findfont: Font family 'Calibri' not found.\n",
            "WARNING:matplotlib.font_manager:findfont: Font family 'Calibri' not found.\n",
            "WARNING:matplotlib.font_manager:findfont: Font family 'Calibri' not found.\n",
            "WARNING:matplotlib.font_manager:findfont: Font family 'Calibri' not found.\n",
            "WARNING:matplotlib.font_manager:findfont: Font family 'Calibri' not found.\n",
            "WARNING:matplotlib.font_manager:findfont: Font family 'Calibri' not found.\n",
            "WARNING:matplotlib.font_manager:findfont: Font family 'Calibri' not found.\n",
            "WARNING:matplotlib.font_manager:findfont: Font family 'Calibri' not found.\n",
            "WARNING:matplotlib.font_manager:findfont: Font family 'Calibri' not found.\n"
          ]
        },
        {
          "output_type": "display_data",
          "data": {
            "text/plain": [
              "<Figure size 640x480 with 1 Axes>"
            ],
            "image/png": "[encoded data removed]"
          },
          "metadata": {}
        }
      ],
      "source": [
        "# Model Feature Importance\n",
        "lgb_feature_importance = pd.Series(lgb2.feature_importances_ / lgb2.feature_importances_.sum(),\n",
        "                                   index=['Moneyness(S/K)', 'Time to Maturity', 'Interest rate', 'Dividend','V0','theta','kappa','sigma','rho']).sort_values()\n",
        "plt.barh(lgb_feature_importance.index, lgb_feature_importance)\n",
        "plt.title(\"LGB: Feature Importance\\n$m \\in [0.2, 5.0]$\");"
      ]
    },
    {
      "cell_type": "markdown",
      "metadata": {
        "id": "szxXtMhoEWk9"
      },
      "source": [
        "# American Call Option - ANN"
      ]
    },
    {
      "cell_type": "code",
      "execution_count": null,
      "metadata": {
        "colab": {
          "base_uri": "https://localhost:8080/",
          "height": 812
        },
        "id": "PO1hyDtw6MXn",
        "outputId": "64b40542-bd25-4fce-d76c-e27d27f4be4b"
      },
      "outputs": [
        {
          "name": "stderr",
          "output_type": "stream",
          "text": [
            "ERROR:root:Internal Python error in the inspect module.\n",
            "Below is the traceback from this internal error.\n",
            "\n"
          ]
        },
        {
          "name": "stdout",
          "output_type": "stream",
          "text": [
            "Traceback (most recent call last):\n",
            "  File \"/usr/local/lib/python3.9/dist-packages/IPython/core/interactiveshell.py\", line 3326, in run_code\n",
            "    exec(code_obj, self.user_global_ns, self.user_ns)\n",
            "  File \"<ipython-input-57-8c98b4abf13b>\", line 6, in <module>\n",
            "    X_ann['T_q'] = X_ann.g_T * X_ann.g_q\n",
            "  File \"/usr/local/lib/python3.9/dist-packages/pandas/core/generic.py\", line 5487, in __getattr__\n",
            "    return object.__getattribute__(self, name)\n",
            "AttributeError: 'DataFrame' object has no attribute 'g_T'\n",
            "\n",
            "During handling of the above exception, another exception occurred:\n",
            "\n",
            "Traceback (most recent call last):\n",
            "  File \"/usr/local/lib/python3.9/dist-packages/IPython/core/interactiveshell.py\", line 2040, in showtraceback\n",
            "    stb = value._render_traceback_()\n",
            "AttributeError: 'AttributeError' object has no attribute '_render_traceback_'\n",
            "\n",
            "During handling of the above exception, another exception occurred:\n",
            "\n",
            "Traceback (most recent call last):\n",
            "  File \"/usr/local/lib/python3.9/dist-packages/IPython/core/ultratb.py\", line 1101, in get_records\n",
            "    return _fixed_getinnerframes(etb, number_of_lines_of_context, tb_offset)\n",
            "  File \"/usr/local/lib/python3.9/dist-packages/IPython/core/ultratb.py\", line 319, in wrapped\n",
            "    return f(*args, **kwargs)\n",
            "  File \"/usr/local/lib/python3.9/dist-packages/IPython/core/ultratb.py\", line 353, in _fixed_getinnerframes\n",
            "    records = fix_frame_records_filenames(inspect.getinnerframes(etb, context))\n",
            "  File \"/usr/lib/python3.9/inspect.py\", line 1543, in getinnerframes\n",
            "    frameinfo = (tb.tb_frame,) + getframeinfo(tb, context)\n",
            "  File \"/usr/lib/python3.9/inspect.py\", line 1501, in getframeinfo\n",
            "    filename = getsourcefile(frame) or getfile(frame)\n",
            "  File \"/usr/lib/python3.9/inspect.py\", line 709, in getsourcefile\n",
            "    if getattr(getmodule(object, filename), '__loader__', None) is not None:\n",
            "  File \"/usr/lib/python3.9/inspect.py\", line 738, in getmodule\n",
            "    file = getabsfile(object, _filename)\n",
            "  File \"/usr/lib/python3.9/inspect.py\", line 722, in getabsfile\n",
            "    return os.path.normcase(os.path.abspath(_filename))\n",
            "  File \"/usr/lib/python3.9/posixpath.py\", line 380, in abspath\n",
            "    cwd = os.getcwd()\n",
            "OSError: [Errno 107] Transport endpoint is not connected\n"
          ]
        },
        {
          "ename": "AttributeError",
          "evalue": "ignored",
          "output_type": "error",
          "traceback": [
            "\u001b[0;31m---------------------------------------------------------------------------\u001b[0m"
          ]
        }
      ],
      "source": [
        "X_ann = data.drop(columns=['eurocall_fourier'], axis=1)\n",
        "#X_ann = X_ann.drop(columns=['g_eurocall'], axis=1)\n",
        "y_ann = data['eurocall_fourier']\n",
        "\n",
        "#X_ann['T_sigma'] = X_ann.g_T * X_ann.g_sigma\n",
        "X_ann['T_q'] = X_ann.g_T * X_ann.g_q\n",
        "X_ann['T_r'] = X_ann.g_T * X_ann.g_r\n",
        "\n",
        "X_train_ann, X_test_ann, y_train_ann, y_test_ann = train_test_split(X_ann, y_ann, test_size=0.3, random_state=10)\n",
        "#train_size = int(0.8 * len(X_train_ann))\n",
        "#X_train_ann, X_val_ann, y_train_ann, y_val_ann = train_test_split(X_train_ann, y_train_ann, test_size=0.3, random_state=10)"
      ]
    },
    {
      "cell_type": "markdown",
      "metadata": {
        "id": "Cv5qycn9En15"
      },
      "source": [
        "## Model Fit"
      ]
    },
    {
      "cell_type": "code",
      "execution_count": null,
      "metadata": {
        "id": "k022uf0946ma"
      },
      "outputs": [],
      "source": [
        "class PricingNetwork2(nn.Module):\n",
        "  def __init__(self, mean=X_train_ann.mean(axis=0).values.astype(np.float32), std=X_train_ann.std(axis=0).values.astype(np.float32), neurons=64, x_features=X_train_ann.shape[1]):\n",
        "  #def __init__(self, neurons=64, x_features=5):\n",
        "    super(PricingNetwork2,self).__init__()\n",
        "    self.mean = mean\n",
        "    self.std = std\n",
        "    self.bottleneck = nn.Sequential(nn.Linear(x_features, neurons), nn.LeakyReLU(),\n",
        "                                     nn.Linear(neurons, neurons), nn.LeakyReLU(),\n",
        "                                     nn.Linear(neurons, neurons), nn.LeakyReLU(),\n",
        "                                     nn.Linear(neurons, neurons), nn.LeakyReLU(),\n",
        "                                     #nn.Linear(neurons, neurons), nn.LeakyReLU(),\n",
        "                                     nn.Linear(neurons, neurons), nn.LeakyReLU())\n",
        "    #self.bottleneck = nn.ModuleList([nn.Linear(x_features, neurons), nn.LeakyReLU()] + [nn.Linear(neurons, neurons), nn.LeakyReLU()] * 4)\n",
        "    self.final_layer = nn.Linear(neurons, 1)\n",
        "\n",
        "  def forward(self, X, **kwargs):\n",
        "    #X = (X - np.array([2.59564865,1.00528802,0.03986204,0.02523768,1.06051767], dtype=np.float32)) / np.array([1.38237971, 0.57541136, 0.02325452, 0.01445998, 0.55268058],dtype=np.float32)\n",
        "    #(X - X.mean(axis=0))/X.std(axis=0)\n",
        "    X = (X - self.mean) / self.std\n",
        "    X = self.bottleneck(X)\n",
        "    X  = self.final_layer(X)\n",
        "    return X"
      ]
    },
    {
      "cell_type": "markdown",
      "metadata": {
        "id": "9Rhs0-ogEps5"
      },
      "source": [
        "## Error Analysis"
      ]
    },
    {
      "cell_type": "code",
      "execution_count": null,
      "metadata": {
        "colab": {
          "base_uri": "https://localhost:8080/"
        },
        "id": "7V4l0uuNC7QH",
        "outputId": "8effc793-c198-41c5-ee37-c850d77924cd"
      },
      "outputs": [
        {
          "name": "stdout",
          "output_type": "stream",
          "text": [
            "ANN Absolute Error (quantile): \n",
            "0.00    0.000\n",
            "0.25    0.000\n",
            "0.50    0.000\n",
            "0.75    0.001\n",
            "0.85    0.002\n",
            "0.90    0.002\n",
            "0.99    0.005\n",
            "1.00    0.026\n",
            "dtype: float64\n"
          ]
        }
      ],
      "source": [
        "ann_model = torch.load('/content/drive/MyDrive/practicum_data-American_Option/with_eurocall.pt')\n",
        "\n",
        "print('ANN Absolute Error (quantile): ')\n",
        "with torch.no_grad():\n",
        "  err_ann = np.around((y_test_ann - pd.Series(ann_model(torch.tensor(X_test_ann.values.astype(np.float32))).flatten(), index=X_test_ann.index)), decimals=3)\n",
        "print((err_ann.abs().quantile([0,0.25,0.5,0.75,0.85,0.9,0.99,1])))"
      ]
    },
    {
      "cell_type": "markdown",
      "metadata": {
        "id": "r0SizPhMBnma"
      },
      "source": [
        "# Summary"
      ]
    },
    {
      "cell_type": "code",
      "execution_count": null,
      "metadata": {
        "colab": {
          "base_uri": "https://localhost:8080/",
          "height": 206
        },
        "id": "a_laEUaxBp-l",
        "outputId": "6850b0e5-2a9e-4064-e61f-296eb17da879"
      },
      "outputs": [
        {
          "output_type": "execute_result",
          "data": {
            "text/plain": [
              "              m         T         r         q        v0     theta     kappa  \\\n",
              "89258  1.019669  0.371678  0.076140  0.007162  0.098172  1.620106  1.400043   \n",
              "52619  2.153159  0.102476  0.027645  0.016401  0.162017  0.208677  0.899514   \n",
              "309    0.526073  0.103201  0.078652  0.012127  0.496933  1.385173  0.459829   \n",
              "90521  0.239742  1.429044  0.006554  0.001690  0.243443  0.549296  1.706782   \n",
              "5606   1.740781  0.561917  0.023623  0.018533  0.125326  0.858069  1.609494   \n",
              "\n",
              "          sigma       rho  abs_err_rf  abs_err_xgb  abs_err_lgb  \n",
              "89258  0.826998  0.459106    0.016841     0.004615     0.001509  \n",
              "52619  0.050055  0.661722    0.000192     0.000000     0.001763  \n",
              "309    0.707939  0.851734    0.004969     0.003931     0.005641  \n",
              "90521  0.409496 -0.894303    0.000747     0.003573     0.002027  \n",
              "5606   0.941547  0.876019    0.015458     0.003282     0.003073  "
            ],
            "text/html": [
              "\n",
              "  <div id=\"df-d046f84b-db95-4a01-b114-412cbf9ca7eb\">\n",
              "    <div class=\"colab-df-container\">\n",
              "      <div>\n",
              "<style scoped>\n",
              "    .dataframe tbody tr th:only-of-type {\n",
              "        vertical-align: middle;\n",
              "    }\n",
              "\n",
              "    .dataframe tbody tr th {\n",
              "        vertical-align: top;\n",
              "    }\n",
              "\n",
              "    .dataframe thead th {\n",
              "        text-align: right;\n",
              "    }\n",
              "</style>\n",
              "<table border=\"1\" class=\"dataframe\">\n",
              "  <thead>\n",
              "    <tr style=\"text-align: right;\">\n",
              "      <th></th>\n",
              "      <th>m</th>\n",
              "      <th>T</th>\n",
              "      <th>r</th>\n",
              "      <th>q</th>\n",
              "      <th>v0</th>\n",
              "      <th>theta</th>\n",
              "      <th>kappa</th>\n",
              "      <th>sigma</th>\n",
              "      <th>rho</th>\n",
              "      <th>abs_err_rf</th>\n",
              "      <th>abs_err_xgb</th>\n",
              "      <th>abs_err_lgb</th>\n",
              "    </tr>\n",
              "  </thead>\n",
              "  <tbody>\n",
              "    <tr>\n",
              "      <th>89258</th>\n",
              "      <td>1.019669</td>\n",
              "      <td>0.371678</td>\n",
              "      <td>0.076140</td>\n",
              "      <td>0.007162</td>\n",
              "      <td>0.098172</td>\n",
              "      <td>1.620106</td>\n",
              "      <td>1.400043</td>\n",
              "      <td>0.826998</td>\n",
              "      <td>0.459106</td>\n",
              "      <td>0.016841</td>\n",
              "      <td>0.004615</td>\n",
              "      <td>0.001509</td>\n",
              "    </tr>\n",
              "    <tr>\n",
              "      <th>52619</th>\n",
              "      <td>2.153159</td>\n",
              "      <td>0.102476</td>\n",
              "      <td>0.027645</td>\n",
              "      <td>0.016401</td>\n",
              "      <td>0.162017</td>\n",
              "      <td>0.208677</td>\n",
              "      <td>0.899514</td>\n",
              "      <td>0.050055</td>\n",
              "      <td>0.661722</td>\n",
              "      <td>0.000192</td>\n",
              "      <td>0.000000</td>\n",
              "      <td>0.001763</td>\n",
              "    </tr>\n",
              "    <tr>\n",
              "      <th>309</th>\n",
              "      <td>0.526073</td>\n",
              "      <td>0.103201</td>\n",
              "      <td>0.078652</td>\n",
              "      <td>0.012127</td>\n",
              "      <td>0.496933</td>\n",
              "      <td>1.385173</td>\n",
              "      <td>0.459829</td>\n",
              "      <td>0.707939</td>\n",
              "      <td>0.851734</td>\n",
              "      <td>0.004969</td>\n",
              "      <td>0.003931</td>\n",
              "      <td>0.005641</td>\n",
              "    </tr>\n",
              "    <tr>\n",
              "      <th>90521</th>\n",
              "      <td>0.239742</td>\n",
              "      <td>1.429044</td>\n",
              "      <td>0.006554</td>\n",
              "      <td>0.001690</td>\n",
              "      <td>0.243443</td>\n",
              "      <td>0.549296</td>\n",
              "      <td>1.706782</td>\n",
              "      <td>0.409496</td>\n",
              "      <td>-0.894303</td>\n",
              "      <td>0.000747</td>\n",
              "      <td>0.003573</td>\n",
              "      <td>0.002027</td>\n",
              "    </tr>\n",
              "    <tr>\n",
              "      <th>5606</th>\n",
              "      <td>1.740781</td>\n",
              "      <td>0.561917</td>\n",
              "      <td>0.023623</td>\n",
              "      <td>0.018533</td>\n",
              "      <td>0.125326</td>\n",
              "      <td>0.858069</td>\n",
              "      <td>1.609494</td>\n",
              "      <td>0.941547</td>\n",
              "      <td>0.876019</td>\n",
              "      <td>0.015458</td>\n",
              "      <td>0.003282</td>\n",
              "      <td>0.003073</td>\n",
              "    </tr>\n",
              "  </tbody>\n",
              "</table>\n",
              "</div>\n",
              "      <button class=\"colab-df-convert\" onclick=\"convertToInteractive('df-d046f84b-db95-4a01-b114-412cbf9ca7eb')\"\n",
              "              title=\"Convert this dataframe to an interactive table.\"\n",
              "              style=\"display:none;\">\n",
              "        \n",
              "  <svg xmlns=\"http://www.w3.org/2000/svg\" height=\"24px\"viewBox=\"0 0 24 24\"\n",
              "       width=\"24px\">\n",
              "    <path d=\"M0 0h24v24H0V0z\" fill=\"none\"/>\n",
              "    <path d=\"M18.56 5.44l.94 2.06.94-2.06 2.06-.94-2.06-.94-.94-2.06-.94 2.06-2.06.94zm-11 1L8.5 8.5l.94-2.06 2.06-.94-2.06-.94L8.5 2.5l-.94 2.06-2.06.94zm10 10l.94 2.06.94-2.06 2.06-.94-2.06-.94-.94-2.06-.94 2.06-2.06.94z\"/><path d=\"M17.41 7.96l-1.37-1.37c-.4-.4-.92-.59-1.43-.59-.52 0-1.04.2-1.43.59L10.3 9.45l-7.72 7.72c-.78.78-.78 2.05 0 2.83L4 21.41c.39.39.9.59 1.41.59.51 0 1.02-.2 1.41-.59l7.78-7.78 2.81-2.81c.8-.78.8-2.07 0-2.86zM5.41 20L4 18.59l7.72-7.72 1.47 1.35L5.41 20z\"/>\n",
              "  </svg>\n",
              "      </button>\n",
              "      \n",
              "  <style>\n",
              "    .colab-df-container {\n",
              "      display:flex;\n",
              "      flex-wrap:wrap;\n",
              "      gap: 12px;\n",
              "    }\n",
              "\n",
              "    .colab-df-convert {\n",
              "      background-color: #E8F0FE;\n",
              "      border: none;\n",
              "      border-radius: 50%;\n",
              "      cursor: pointer;\n",
              "      display: none;\n",
              "      fill: #1967D2;\n",
              "      height: 32px;\n",
              "      padding: 0 0 0 0;\n",
              "      width: 32px;\n",
              "    }\n",
              "\n",
              "    .colab-df-convert:hover {\n",
              "      background-color: #E2EBFA;\n",
              "      box-shadow: 0px 1px 2px rgba(60, 64, 67, 0.3), 0px 1px 3px 1px rgba(60, 64, 67, 0.15);\n",
              "      fill: #174EA6;\n",
              "    }\n",
              "\n",
              "    [theme=dark] .colab-df-convert {\n",
              "      background-color: #3B4455;\n",
              "      fill: #D2E3FC;\n",
              "    }\n",
              "\n",
              "    [theme=dark] .colab-df-convert:hover {\n",
              "      background-color: #434B5C;\n",
              "      box-shadow: 0px 1px 3px 1px rgba(0, 0, 0, 0.15);\n",
              "      filter: drop-shadow(0px 1px 2px rgba(0, 0, 0, 0.3));\n",
              "      fill: #FFFFFF;\n",
              "    }\n",
              "  </style>\n",
              "\n",
              "      <script>\n",
              "        const buttonEl =\n",
              "          document.querySelector('#df-d046f84b-db95-4a01-b114-412cbf9ca7eb button.colab-df-convert');\n",
              "        buttonEl.style.display =\n",
              "          google.colab.kernel.accessAllowed ? 'block' : 'none';\n",
              "\n",
              "        async function convertToInteractive(key) {\n",
              "          const element = document.querySelector('#df-d046f84b-db95-4a01-b114-412cbf9ca7eb');\n",
              "          const dataTable =\n",
              "            await google.colab.kernel.invokeFunction('convertToInteractive',\n",
              "                                                     [key], {});\n",
              "          if (!dataTable) return;\n",
              "\n",
              "          const docLinkHtml = 'Like what you see? Visit the ' +\n",
              "            '<a target=\"_blank\" href=https://colab.research.google.com/notebooks/data_table.ipynb>data table notebook</a>'\n",
              "            + ' to learn more about interactive tables.';\n",
              "          element.innerHTML = '';\n",
              "          dataTable['output_type'] = 'display_data';\n",
              "          await google.colab.output.renderOutput(dataTable, element);\n",
              "          const docLink = document.createElement('div');\n",
              "          docLink.innerHTML = docLinkHtml;\n",
              "          element.appendChild(docLink);\n",
              "        }\n",
              "      </script>\n",
              "    </div>\n",
              "  </div>\n",
              "  "
            ]
          },
          "metadata": {},
          "execution_count": 43
        }
      ],
      "source": [
        "import pandas as pd\n",
        "err_table = pd.concat([X_test_rf, err_rf.abs(), err_xgb.abs(), err_lgb.abs()], axis=1)\n",
        "err_table.columns = ['m', 'T', 'r', 'q', 'v0','theta','kappa','sigma','rho',  'abs_err_rf', 'abs_err_xgb', 'abs_err_lgb']\n",
        "err_table.head()"
      ]
    },
    {
      "cell_type": "markdown",
      "metadata": {
        "id": "44-OSPiLCmWe"
      },
      "source": [
        "## Moneyness"
      ]
    },
    {
      "cell_type": "code",
      "execution_count": null,
      "metadata": {
        "colab": {
          "base_uri": "https://localhost:8080/"
        },
        "id": "4szTVQiHB29Z",
        "outputId": "ccdfa69b-3b43-45b3-f7a3-f20084bc48dc"
      },
      "outputs": [
        {
          "output_type": "stream",
          "name": "stdout",
          "text": [
            "#OTM =  24981 ; %OTM =  0.8369685395517137\n",
            "#ATM =  0 ; %ATM =  0.0\n",
            "#ITM =  4866 ; %ITM =  0.16303146044828626\n"
          ]
        }
      ],
      "source": [
        "print('#OTM = ', err_table[err_table['m'] > 1].shape[0], '; %OTM = ', err_table[err_table['m'] > 1].shape[0]/err_table.shape[0])\n",
        "print('#ATM = ', err_table[err_table['m'] == 1].shape[0], '; %ATM = ', err_table[err_table['m'] == 1].shape[0]/err_table.shape[0])\n",
        "print('#ITM = ', err_table[err_table['m'] < 1].shape[0], '; %ITM = ', err_table[err_table['m'] < 1].shape[0]/err_table.shape[0])"
      ]
    },
    {
      "cell_type": "code",
      "execution_count": null,
      "metadata": {
        "colab": {
          "base_uri": "https://localhost:8080/",
          "height": 332
        },
        "id": "WO5r_LzmCtEk",
        "outputId": "1fdd7e37-aea2-4b00-9cc5-4563d4d33f50"
      },
      "outputs": [
        {
          "output_type": "execute_result",
          "data": {
            "text/plain": [
              "          m      T      r      q     v0  theta  kappa  sigma    rho  \\\n",
              "0.00  1.005  0.005  0.000  0.000  0.010  0.014  0.012  0.012 -0.899   \n",
              "0.25  2.052  0.537  0.021  0.012  0.123  0.638  0.640  0.229 -0.445   \n",
              "0.50  2.998  1.037  0.042  0.026  0.246  1.148  1.141  0.453 -0.015   \n",
              "0.75  3.894  1.511  0.060  0.038  0.371  1.601  1.590  0.693  0.453   \n",
              "0.85  4.340  1.703  0.068  0.043  0.412  1.729  1.764  0.811  0.646   \n",
              "0.90  4.549  1.802  0.072  0.045  0.439  1.824  1.845  0.866  0.723   \n",
              "0.95  4.793  1.896  0.076  0.048  0.469  1.915  1.922  0.921  0.813   \n",
              "0.99  4.968  1.982  0.079  0.049  0.495  1.979  1.982  0.979  0.886   \n",
              "1.00  4.993  1.997  0.080  0.050  0.500  1.999  1.994  0.999  0.899   \n",
              "\n",
              "      abs_err_rf  abs_err_xgb  abs_err_lgb  \n",
              "0.00       0.000        0.000        0.000  \n",
              "0.25       0.001        0.001        0.001  \n",
              "0.50       0.004        0.002        0.002  \n",
              "0.75       0.011        0.005        0.004  \n",
              "0.85       0.016        0.006        0.006  \n",
              "0.90       0.021        0.008        0.007  \n",
              "0.95       0.028        0.010        0.009  \n",
              "0.99       0.045        0.016        0.013  \n",
              "1.00       0.376        0.391        0.374  "
            ],
            "text/html": [
              "\n",
              "  <div id=\"df-778a85fe-5b81-4e49-a30e-a0a613584671\">\n",
              "    <div class=\"colab-df-container\">\n",
              "      <div>\n",
              "<style scoped>\n",
              "    .dataframe tbody tr th:only-of-type {\n",
              "        vertical-align: middle;\n",
              "    }\n",
              "\n",
              "    .dataframe tbody tr th {\n",
              "        vertical-align: top;\n",
              "    }\n",
              "\n",
              "    .dataframe thead th {\n",
              "        text-align: right;\n",
              "    }\n",
              "</style>\n",
              "<table border=\"1\" class=\"dataframe\">\n",
              "  <thead>\n",
              "    <tr style=\"text-align: right;\">\n",
              "      <th></th>\n",
              "      <th>m</th>\n",
              "      <th>T</th>\n",
              "      <th>r</th>\n",
              "      <th>q</th>\n",
              "      <th>v0</th>\n",
              "      <th>theta</th>\n",
              "      <th>kappa</th>\n",
              "      <th>sigma</th>\n",
              "      <th>rho</th>\n",
              "      <th>abs_err_rf</th>\n",
              "      <th>abs_err_xgb</th>\n",
              "      <th>abs_err_lgb</th>\n",
              "    </tr>\n",
              "  </thead>\n",
              "  <tbody>\n",
              "    <tr>\n",
              "      <th>0.00</th>\n",
              "      <td>1.005</td>\n",
              "      <td>0.005</td>\n",
              "      <td>0.000</td>\n",
              "      <td>0.000</td>\n",
              "      <td>0.010</td>\n",
              "      <td>0.014</td>\n",
              "      <td>0.012</td>\n",
              "      <td>0.012</td>\n",
              "      <td>-0.899</td>\n",
              "      <td>0.000</td>\n",
              "      <td>0.000</td>\n",
              "      <td>0.000</td>\n",
              "    </tr>\n",
              "    <tr>\n",
              "      <th>0.25</th>\n",
              "      <td>2.052</td>\n",
              "      <td>0.537</td>\n",
              "      <td>0.021</td>\n",
              "      <td>0.012</td>\n",
              "      <td>0.123</td>\n",
              "      <td>0.638</td>\n",
              "      <td>0.640</td>\n",
              "      <td>0.229</td>\n",
              "      <td>-0.445</td>\n",
              "      <td>0.001</td>\n",
              "      <td>0.001</td>\n",
              "      <td>0.001</td>\n",
              "    </tr>\n",
              "    <tr>\n",
              "      <th>0.50</th>\n",
              "      <td>2.998</td>\n",
              "      <td>1.037</td>\n",
              "      <td>0.042</td>\n",
              "      <td>0.026</td>\n",
              "      <td>0.246</td>\n",
              "      <td>1.148</td>\n",
              "      <td>1.141</td>\n",
              "      <td>0.453</td>\n",
              "      <td>-0.015</td>\n",
              "      <td>0.004</td>\n",
              "      <td>0.002</td>\n",
              "      <td>0.002</td>\n",
              "    </tr>\n",
              "    <tr>\n",
              "      <th>0.75</th>\n",
              "      <td>3.894</td>\n",
              "      <td>1.511</td>\n",
              "      <td>0.060</td>\n",
              "      <td>0.038</td>\n",
              "      <td>0.371</td>\n",
              "      <td>1.601</td>\n",
              "      <td>1.590</td>\n",
              "      <td>0.693</td>\n",
              "      <td>0.453</td>\n",
              "      <td>0.011</td>\n",
              "      <td>0.005</td>\n",
              "      <td>0.004</td>\n",
              "    </tr>\n",
              "    <tr>\n",
              "      <th>0.85</th>\n",
              "      <td>4.340</td>\n",
              "      <td>1.703</td>\n",
              "      <td>0.068</td>\n",
              "      <td>0.043</td>\n",
              "      <td>0.412</td>\n",
              "      <td>1.729</td>\n",
              "      <td>1.764</td>\n",
              "      <td>0.811</td>\n",
              "      <td>0.646</td>\n",
              "      <td>0.016</td>\n",
              "      <td>0.006</td>\n",
              "      <td>0.006</td>\n",
              "    </tr>\n",
              "    <tr>\n",
              "      <th>0.90</th>\n",
              "      <td>4.549</td>\n",
              "      <td>1.802</td>\n",
              "      <td>0.072</td>\n",
              "      <td>0.045</td>\n",
              "      <td>0.439</td>\n",
              "      <td>1.824</td>\n",
              "      <td>1.845</td>\n",
              "      <td>0.866</td>\n",
              "      <td>0.723</td>\n",
              "      <td>0.021</td>\n",
              "      <td>0.008</td>\n",
              "      <td>0.007</td>\n",
              "    </tr>\n",
              "    <tr>\n",
              "      <th>0.95</th>\n",
              "      <td>4.793</td>\n",
              "      <td>1.896</td>\n",
              "      <td>0.076</td>\n",
              "      <td>0.048</td>\n",
              "      <td>0.469</td>\n",
              "      <td>1.915</td>\n",
              "      <td>1.922</td>\n",
              "      <td>0.921</td>\n",
              "      <td>0.813</td>\n",
              "      <td>0.028</td>\n",
              "      <td>0.010</td>\n",
              "      <td>0.009</td>\n",
              "    </tr>\n",
              "    <tr>\n",
              "      <th>0.99</th>\n",
              "      <td>4.968</td>\n",
              "      <td>1.982</td>\n",
              "      <td>0.079</td>\n",
              "      <td>0.049</td>\n",
              "      <td>0.495</td>\n",
              "      <td>1.979</td>\n",
              "      <td>1.982</td>\n",
              "      <td>0.979</td>\n",
              "      <td>0.886</td>\n",
              "      <td>0.045</td>\n",
              "      <td>0.016</td>\n",
              "      <td>0.013</td>\n",
              "    </tr>\n",
              "    <tr>\n",
              "      <th>1.00</th>\n",
              "      <td>4.993</td>\n",
              "      <td>1.997</td>\n",
              "      <td>0.080</td>\n",
              "      <td>0.050</td>\n",
              "      <td>0.500</td>\n",
              "      <td>1.999</td>\n",
              "      <td>1.994</td>\n",
              "      <td>0.999</td>\n",
              "      <td>0.899</td>\n",
              "      <td>0.376</td>\n",
              "      <td>0.391</td>\n",
              "      <td>0.374</td>\n",
              "    </tr>\n",
              "  </tbody>\n",
              "</table>\n",
              "</div>\n",
              "      <button class=\"colab-df-convert\" onclick=\"convertToInteractive('df-778a85fe-5b81-4e49-a30e-a0a613584671')\"\n",
              "              title=\"Convert this dataframe to an interactive table.\"\n",
              "              style=\"display:none;\">\n",
              "        \n",
              "  <svg xmlns=\"http://www.w3.org/2000/svg\" height=\"24px\"viewBox=\"0 0 24 24\"\n",
              "       width=\"24px\">\n",
              "    <path d=\"M0 0h24v24H0V0z\" fill=\"none\"/>\n",
              "    <path d=\"M18.56 5.44l.94 2.06.94-2.06 2.06-.94-2.06-.94-.94-2.06-.94 2.06-2.06.94zm-11 1L8.5 8.5l.94-2.06 2.06-.94-2.06-.94L8.5 2.5l-.94 2.06-2.06.94zm10 10l.94 2.06.94-2.06 2.06-.94-2.06-.94-.94-2.06-.94 2.06-2.06.94z\"/><path d=\"M17.41 7.96l-1.37-1.37c-.4-.4-.92-.59-1.43-.59-.52 0-1.04.2-1.43.59L10.3 9.45l-7.72 7.72c-.78.78-.78 2.05 0 2.83L4 21.41c.39.39.9.59 1.41.59.51 0 1.02-.2 1.41-.59l7.78-7.78 2.81-2.81c.8-.78.8-2.07 0-2.86zM5.41 20L4 18.59l7.72-7.72 1.47 1.35L5.41 20z\"/>\n",
              "  </svg>\n",
              "      </button>\n",
              "      \n",
              "  <style>\n",
              "    .colab-df-container {\n",
              "      display:flex;\n",
              "      flex-wrap:wrap;\n",
              "      gap: 12px;\n",
              "    }\n",
              "\n",
              "    .colab-df-convert {\n",
              "      background-color: #E8F0FE;\n",
              "      border: none;\n",
              "      border-radius: 50%;\n",
              "      cursor: pointer;\n",
              "      display: none;\n",
              "      fill: #1967D2;\n",
              "      height: 32px;\n",
              "      padding: 0 0 0 0;\n",
              "      width: 32px;\n",
              "    }\n",
              "\n",
              "    .colab-df-convert:hover {\n",
              "      background-color: #E2EBFA;\n",
              "      box-shadow: 0px 1px 2px rgba(60, 64, 67, 0.3), 0px 1px 3px 1px rgba(60, 64, 67, 0.15);\n",
              "      fill: #174EA6;\n",
              "    }\n",
              "\n",
              "    [theme=dark] .colab-df-convert {\n",
              "      background-color: #3B4455;\n",
              "      fill: #D2E3FC;\n",
              "    }\n",
              "\n",
              "    [theme=dark] .colab-df-convert:hover {\n",
              "      background-color: #434B5C;\n",
              "      box-shadow: 0px 1px 3px 1px rgba(0, 0, 0, 0.15);\n",
              "      filter: drop-shadow(0px 1px 2px rgba(0, 0, 0, 0.3));\n",
              "      fill: #FFFFFF;\n",
              "    }\n",
              "  </style>\n",
              "\n",
              "      <script>\n",
              "        const buttonEl =\n",
              "          document.querySelector('#df-778a85fe-5b81-4e49-a30e-a0a613584671 button.colab-df-convert');\n",
              "        buttonEl.style.display =\n",
              "          google.colab.kernel.accessAllowed ? 'block' : 'none';\n",
              "\n",
              "        async function convertToInteractive(key) {\n",
              "          const element = document.querySelector('#df-778a85fe-5b81-4e49-a30e-a0a613584671');\n",
              "          const dataTable =\n",
              "            await google.colab.kernel.invokeFunction('convertToInteractive',\n",
              "                                                     [key], {});\n",
              "          if (!dataTable) return;\n",
              "\n",
              "          const docLinkHtml = 'Like what you see? Visit the ' +\n",
              "            '<a target=\"_blank\" href=https://colab.research.google.com/notebooks/data_table.ipynb>data table notebook</a>'\n",
              "            + ' to learn more about interactive tables.';\n",
              "          element.innerHTML = '';\n",
              "          dataTable['output_type'] = 'display_data';\n",
              "          await google.colab.output.renderOutput(dataTable, element);\n",
              "          const docLink = document.createElement('div');\n",
              "          docLink.innerHTML = docLinkHtml;\n",
              "          element.appendChild(docLink);\n",
              "        }\n",
              "      </script>\n",
              "    </div>\n",
              "  </div>\n",
              "  "
            ]
          },
          "metadata": {},
          "execution_count": 45
        }
      ],
      "source": [
        "# OTM\n",
        "np.around(err_table[err_table['m'] > 1].quantile([0,0.25,0.5,0.75,0.85,0.90,0.95,0.99,1]), decimals=3)"
      ]
    },
    {
      "cell_type": "code",
      "execution_count": null,
      "metadata": {
        "colab": {
          "base_uri": "https://localhost:8080/",
          "height": 332
        },
        "id": "Qu1RGnZmC27r",
        "outputId": "ee6cfd83-d0ea-4248-8c37-72f62f10658a"
      },
      "outputs": [
        {
          "output_type": "execute_result",
          "data": {
            "text/plain": [
              "          m      T      r      q     v0  theta  kappa  sigma    rho  \\\n",
              "0.00  0.204  0.005  0.000  0.000  0.010  0.012  0.021  0.012 -0.899   \n",
              "0.25  0.381  0.549  0.021  0.012  0.126  0.662  0.644  0.224 -0.419   \n",
              "0.50  0.579  1.057  0.043  0.026  0.246  1.140  1.141  0.460  0.000   \n",
              "0.75  0.837  1.535  0.060  0.038  0.364  1.607  1.578  0.701  0.464   \n",
              "0.85  0.896  1.707  0.068  0.043  0.406  1.734  1.746  0.811  0.647   \n",
              "0.90  0.918  1.802  0.072  0.045  0.434  1.828  1.838  0.868  0.732   \n",
              "0.95  0.944  1.894  0.077  0.048  0.469  1.916  1.919  0.917  0.813   \n",
              "0.99  0.973  1.981  0.079  0.049  0.493  1.979  1.978  0.986  0.891   \n",
              "1.00  0.997  1.997  0.080  0.050  0.500  1.999  1.994  0.999  0.899   \n",
              "\n",
              "      abs_err_rf  abs_err_xgb  abs_err_lgb  \n",
              "0.00       0.000        0.000        0.000  \n",
              "0.25       0.003        0.002        0.002  \n",
              "0.50       0.006        0.004        0.005  \n",
              "0.75       0.013        0.007        0.008  \n",
              "0.85       0.018        0.008        0.010  \n",
              "0.90       0.021        0.010        0.011  \n",
              "0.95       0.027        0.012        0.014  \n",
              "0.99       0.042        0.018        0.021  \n",
              "1.00       0.074        0.035        0.036  "
            ],
            "text/html": [
              "\n",
              "  <div id=\"df-8181ec62-9f3d-419b-bfc1-970b649bf416\">\n",
              "    <div class=\"colab-df-container\">\n",
              "      <div>\n",
              "<style scoped>\n",
              "    .dataframe tbody tr th:only-of-type {\n",
              "        vertical-align: middle;\n",
              "    }\n",
              "\n",
              "    .dataframe tbody tr th {\n",
              "        vertical-align: top;\n",
              "    }\n",
              "\n",
              "    .dataframe thead th {\n",
              "        text-align: right;\n",
              "    }\n",
              "</style>\n",
              "<table border=\"1\" class=\"dataframe\">\n",
              "  <thead>\n",
              "    <tr style=\"text-align: right;\">\n",
              "      <th></th>\n",
              "      <th>m</th>\n",
              "      <th>T</th>\n",
              "      <th>r</th>\n",
              "      <th>q</th>\n",
              "      <th>v0</th>\n",
              "      <th>theta</th>\n",
              "      <th>kappa</th>\n",
              "      <th>sigma</th>\n",
              "      <th>rho</th>\n",
              "      <th>abs_err_rf</th>\n",
              "      <th>abs_err_xgb</th>\n",
              "      <th>abs_err_lgb</th>\n",
              "    </tr>\n",
              "  </thead>\n",
              "  <tbody>\n",
              "    <tr>\n",
              "      <th>0.00</th>\n",
              "      <td>0.204</td>\n",
              "      <td>0.005</td>\n",
              "      <td>0.000</td>\n",
              "      <td>0.000</td>\n",
              "      <td>0.010</td>\n",
              "      <td>0.012</td>\n",
              "      <td>0.021</td>\n",
              "      <td>0.012</td>\n",
              "      <td>-0.899</td>\n",
              "      <td>0.000</td>\n",
              "      <td>0.000</td>\n",
              "      <td>0.000</td>\n",
              "    </tr>\n",
              "    <tr>\n",
              "      <th>0.25</th>\n",
              "      <td>0.381</td>\n",
              "      <td>0.549</td>\n",
              "      <td>0.021</td>\n",
              "      <td>0.012</td>\n",
              "      <td>0.126</td>\n",
              "      <td>0.662</td>\n",
              "      <td>0.644</td>\n",
              "      <td>0.224</td>\n",
              "      <td>-0.419</td>\n",
              "      <td>0.003</td>\n",
              "      <td>0.002</td>\n",
              "      <td>0.002</td>\n",
              "    </tr>\n",
              "    <tr>\n",
              "      <th>0.50</th>\n",
              "      <td>0.579</td>\n",
              "      <td>1.057</td>\n",
              "      <td>0.043</td>\n",
              "      <td>0.026</td>\n",
              "      <td>0.246</td>\n",
              "      <td>1.140</td>\n",
              "      <td>1.141</td>\n",
              "      <td>0.460</td>\n",
              "      <td>0.000</td>\n",
              "      <td>0.006</td>\n",
              "      <td>0.004</td>\n",
              "      <td>0.005</td>\n",
              "    </tr>\n",
              "    <tr>\n",
              "      <th>0.75</th>\n",
              "      <td>0.837</td>\n",
              "      <td>1.535</td>\n",
              "      <td>0.060</td>\n",
              "      <td>0.038</td>\n",
              "      <td>0.364</td>\n",
              "      <td>1.607</td>\n",
              "      <td>1.578</td>\n",
              "      <td>0.701</td>\n",
              "      <td>0.464</td>\n",
              "      <td>0.013</td>\n",
              "      <td>0.007</td>\n",
              "      <td>0.008</td>\n",
              "    </tr>\n",
              "    <tr>\n",
              "      <th>0.85</th>\n",
              "      <td>0.896</td>\n",
              "      <td>1.707</td>\n",
              "      <td>0.068</td>\n",
              "      <td>0.043</td>\n",
              "      <td>0.406</td>\n",
              "      <td>1.734</td>\n",
              "      <td>1.746</td>\n",
              "      <td>0.811</td>\n",
              "      <td>0.647</td>\n",
              "      <td>0.018</td>\n",
              "      <td>0.008</td>\n",
              "      <td>0.010</td>\n",
              "    </tr>\n",
              "    <tr>\n",
              "      <th>0.90</th>\n",
              "      <td>0.918</td>\n",
              "      <td>1.802</td>\n",
              "      <td>0.072</td>\n",
              "      <td>0.045</td>\n",
              "      <td>0.434</td>\n",
              "      <td>1.828</td>\n",
              "      <td>1.838</td>\n",
              "      <td>0.868</td>\n",
              "      <td>0.732</td>\n",
              "      <td>0.021</td>\n",
              "      <td>0.010</td>\n",
              "      <td>0.011</td>\n",
              "    </tr>\n",
              "    <tr>\n",
              "      <th>0.95</th>\n",
              "      <td>0.944</td>\n",
              "      <td>1.894</td>\n",
              "      <td>0.077</td>\n",
              "      <td>0.048</td>\n",
              "      <td>0.469</td>\n",
              "      <td>1.916</td>\n",
              "      <td>1.919</td>\n",
              "      <td>0.917</td>\n",
              "      <td>0.813</td>\n",
              "      <td>0.027</td>\n",
              "      <td>0.012</td>\n",
              "      <td>0.014</td>\n",
              "    </tr>\n",
              "    <tr>\n",
              "      <th>0.99</th>\n",
              "      <td>0.973</td>\n",
              "      <td>1.981</td>\n",
              "      <td>0.079</td>\n",
              "      <td>0.049</td>\n",
              "      <td>0.493</td>\n",
              "      <td>1.979</td>\n",
              "      <td>1.978</td>\n",
              "      <td>0.986</td>\n",
              "      <td>0.891</td>\n",
              "      <td>0.042</td>\n",
              "      <td>0.018</td>\n",
              "      <td>0.021</td>\n",
              "    </tr>\n",
              "    <tr>\n",
              "      <th>1.00</th>\n",
              "      <td>0.997</td>\n",
              "      <td>1.997</td>\n",
              "      <td>0.080</td>\n",
              "      <td>0.050</td>\n",
              "      <td>0.500</td>\n",
              "      <td>1.999</td>\n",
              "      <td>1.994</td>\n",
              "      <td>0.999</td>\n",
              "      <td>0.899</td>\n",
              "      <td>0.074</td>\n",
              "      <td>0.035</td>\n",
              "      <td>0.036</td>\n",
              "    </tr>\n",
              "  </tbody>\n",
              "</table>\n",
              "</div>\n",
              "      <button class=\"colab-df-convert\" onclick=\"convertToInteractive('df-8181ec62-9f3d-419b-bfc1-970b649bf416')\"\n",
              "              title=\"Convert this dataframe to an interactive table.\"\n",
              "              style=\"display:none;\">\n",
              "        \n",
              "  <svg xmlns=\"http://www.w3.org/2000/svg\" height=\"24px\"viewBox=\"0 0 24 24\"\n",
              "       width=\"24px\">\n",
              "    <path d=\"M0 0h24v24H0V0z\" fill=\"none\"/>\n",
              "    <path d=\"M18.56 5.44l.94 2.06.94-2.06 2.06-.94-2.06-.94-.94-2.06-.94 2.06-2.06.94zm-11 1L8.5 8.5l.94-2.06 2.06-.94-2.06-.94L8.5 2.5l-.94 2.06-2.06.94zm10 10l.94 2.06.94-2.06 2.06-.94-2.06-.94-.94-2.06-.94 2.06-2.06.94z\"/><path d=\"M17.41 7.96l-1.37-1.37c-.4-.4-.92-.59-1.43-.59-.52 0-1.04.2-1.43.59L10.3 9.45l-7.72 7.72c-.78.78-.78 2.05 0 2.83L4 21.41c.39.39.9.59 1.41.59.51 0 1.02-.2 1.41-.59l7.78-7.78 2.81-2.81c.8-.78.8-2.07 0-2.86zM5.41 20L4 18.59l7.72-7.72 1.47 1.35L5.41 20z\"/>\n",
              "  </svg>\n",
              "      </button>\n",
              "      \n",
              "  <style>\n",
              "    .colab-df-container {\n",
              "      display:flex;\n",
              "      flex-wrap:wrap;\n",
              "      gap: 12px;\n",
              "    }\n",
              "\n",
              "    .colab-df-convert {\n",
              "      background-color: #E8F0FE;\n",
              "      border: none;\n",
              "      border-radius: 50%;\n",
              "      cursor: pointer;\n",
              "      display: none;\n",
              "      fill: #1967D2;\n",
              "      height: 32px;\n",
              "      padding: 0 0 0 0;\n",
              "      width: 32px;\n",
              "    }\n",
              "\n",
              "    .colab-df-convert:hover {\n",
              "      background-color: #E2EBFA;\n",
              "      box-shadow: 0px 1px 2px rgba(60, 64, 67, 0.3), 0px 1px 3px 1px rgba(60, 64, 67, 0.15);\n",
              "      fill: #174EA6;\n",
              "    }\n",
              "\n",
              "    [theme=dark] .colab-df-convert {\n",
              "      background-color: #3B4455;\n",
              "      fill: #D2E3FC;\n",
              "    }\n",
              "\n",
              "    [theme=dark] .colab-df-convert:hover {\n",
              "      background-color: #434B5C;\n",
              "      box-shadow: 0px 1px 3px 1px rgba(0, 0, 0, 0.15);\n",
              "      filter: drop-shadow(0px 1px 2px rgba(0, 0, 0, 0.3));\n",
              "      fill: #FFFFFF;\n",
              "    }\n",
              "  </style>\n",
              "\n",
              "      <script>\n",
              "        const buttonEl =\n",
              "          document.querySelector('#df-8181ec62-9f3d-419b-bfc1-970b649bf416 button.colab-df-convert');\n",
              "        buttonEl.style.display =\n",
              "          google.colab.kernel.accessAllowed ? 'block' : 'none';\n",
              "\n",
              "        async function convertToInteractive(key) {\n",
              "          const element = document.querySelector('#df-8181ec62-9f3d-419b-bfc1-970b649bf416');\n",
              "          const dataTable =\n",
              "            await google.colab.kernel.invokeFunction('convertToInteractive',\n",
              "                                                     [key], {});\n",
              "          if (!dataTable) return;\n",
              "\n",
              "          const docLinkHtml = 'Like what you see? Visit the ' +\n",
              "            '<a target=\"_blank\" href=https://colab.research.google.com/notebooks/data_table.ipynb>data table notebook</a>'\n",
              "            + ' to learn more about interactive tables.';\n",
              "          element.innerHTML = '';\n",
              "          dataTable['output_type'] = 'display_data';\n",
              "          await google.colab.output.renderOutput(dataTable, element);\n",
              "          const docLink = document.createElement('div');\n",
              "          docLink.innerHTML = docLinkHtml;\n",
              "          element.appendChild(docLink);\n",
              "        }\n",
              "      </script>\n",
              "    </div>\n",
              "  </div>\n",
              "  "
            ]
          },
          "metadata": {},
          "execution_count": 46
        }
      ],
      "source": [
        "# ITM\n",
        "np.around(err_table[err_table['m'] < 1].quantile([0,0.25,0.5,0.75,0.85,0.90,0.95,0.99,1]), decimals=3)"
      ]
    },
    {
      "cell_type": "code",
      "execution_count": null,
      "metadata": {
        "id": "-auLYONiUhCG"
      },
      "outputs": [],
      "source": []
    },
    {
      "cell_type": "code",
      "source": [],
      "metadata": {
        "id": "fq-px-WWRz0E"
      },
      "execution_count": null,
      "outputs": []
    }
  ],
  "metadata": {
    "accelerator": "GPU",
    "colab": {
      "provenance": [],
      "collapsed_sections": [
        "wohB6RHsCo1J"
      ]
    },
    "gpuClass": "standard",
    "kernelspec": {
      "display_name": "Python 3",
      "name": "python3"
    },
    "language_info": {
      "name": "python"
    }
  },
  "nbformat": 4,
  "nbformat_minor": 0
}