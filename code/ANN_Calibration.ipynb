{
  "nbformat": 4,
  "nbformat_minor": 0,
  "metadata": {
    "colab": {
      "provenance": []
    },
    "kernelspec": {
      "name": "python3",
      "display_name": "Python 3"
    },
    "language_info": {
      "name": "python"
    }
  },
  "cells": [
    {
      "cell_type": "code",
      "execution_count": null,
      "metadata": {
        "colab": {
          "base_uri": "https://localhost:8080/"
        },
        "id": "vA8mEPyWZKKh",
        "outputId": "d4d141ec-5f48-44b8-971a-ccb12d57944f"
      },
      "outputs": [
        {
          "output_type": "stream",
          "name": "stdout",
          "text": [
            "Mounted at /content/drive\n"
          ]
        }
      ],
      "source": [
        "from google.colab import drive\n",
        "drive.mount('/content/drive', force_remount=True)"
      ]
    },
    {
      "cell_type": "code",
      "source": [
        "!pip install polars"
      ],
      "metadata": {
        "id": "LFdKBIO2ZQ5f",
        "colab": {
          "base_uri": "https://localhost:8080/"
        },
        "outputId": "bf7f3b8b-597e-4110-88b6-37f8345aac7d"
      },
      "execution_count": null,
      "outputs": [
        {
          "output_type": "stream",
          "name": "stdout",
          "text": [
            "Looking in indexes: https://pypi.org/simple, https://us-python.pkg.dev/colab-wheels/public/simple/\n",
            "Collecting polars\n",
            "  Downloading polars-0.17.2-cp37-abi3-manylinux_2_17_x86_64.manylinux2014_x86_64.whl (17.0 MB)\n",
            "\u001b[2K     \u001b[90m━━━━━━━━━━━━━━━━━━━━━━━━━━━━━━━━━━━━━━━━\u001b[0m \u001b[32m17.0/17.0 MB\u001b[0m \u001b[31m51.7 MB/s\u001b[0m eta \u001b[36m0:00:00\u001b[0m\n",
            "\u001b[?25hRequirement already satisfied: typing_extensions>=4.0.1 in /usr/local/lib/python3.9/dist-packages (from polars) (4.5.0)\n",
            "Installing collected packages: polars\n",
            "Successfully installed polars-0.17.2\n"
          ]
        }
      ]
    },
    {
      "cell_type": "code",
      "source": [
        "import os\n",
        "\n",
        "import copy\n",
        "import numpy as np\n",
        "import pandas as pd\n",
        "#import polars as pl\n",
        "import matplotlib\n",
        "import matplotlib.pyplot as plt\n",
        "import random\n",
        "from itertools import cycle\n",
        "from functools import partial\n",
        "from typing import Union, List, Optional\n",
        "#from sklearn import preprocessing\n",
        "#from sklearn.pipeline import Pipeline\n",
        "#from sklearn.ensemble import StackingRegressor\n",
        "from sklearn.model_selection import train_test_split\n",
        "#from sklearn.model_selection import cross_val_score\n",
        "#from sklearn.model_selection import KFold\n",
        "#from sklearn.model_selection import GridSearchCV, RandomizedSearchCV\n",
        "#from sklearn import model_selection\n",
        "#from sklearn.metrics import accuracy_score\n",
        "from sklearn.linear_model import LogisticRegression\n",
        "from sklearn.metrics import confusion_matrix\n",
        "from sklearn import metrics\n",
        "from sklearn.metrics import mean_squared_error, mean_absolute_error\n",
        "#import statsmodels.formula.api as smf\n",
        "#import optuna\n",
        "from torch import nn\n",
        "#from scipy.stats import norm\n",
        "#from scipy import stats\n",
        "\n",
        "import warnings\n",
        "\n",
        "pd.set_option('display.max_columns', None)\n",
        "pd.set_option('display.max_rows', None)\n",
        "\n",
        "import torch\n",
        "import torch.nn.functional as F\n",
        "#import pytorch_lightning as pl\n",
        "#from pytorch_lightning.loggers import WandbLogger\n",
        "import scipy\n",
        "#from skorch import NeuralNetRegressor"
      ],
      "metadata": {
        "id": "LswqkIy0ZSdF"
      },
      "execution_count": null,
      "outputs": []
    },
    {
      "cell_type": "code",
      "source": [],
      "metadata": {
        "id": "Zd-qvEU-Znbd"
      },
      "execution_count": null,
      "outputs": []
    },
    {
      "cell_type": "code",
      "source": [],
      "metadata": {
        "id": "SDo8yWZ1gfp1"
      },
      "execution_count": null,
      "outputs": []
    },
    {
      "cell_type": "code",
      "source": [
        "#train set mean and std\n",
        "train_mean = np.array([2.5967546 , 1.0034839 , 0.04016334, 0.02489665, 0.25563124,\n",
        "       1.1303542 , 1.140971  , 0.434731  , 0.00295969], dtype=np.float32)\n",
        "train_std = np.array([1.3872927 , 0.5756184 , 0.02310472, 0.01444912, 0.14133842,\n",
        "       0.5279417 , 0.5266676 , 0.27412835, 0.517801  ], dtype=np.float32)\n",
        "class PricingNetwork3(nn.Module):\n",
        "  def __init__(self, mean=train_mean, std=train_std, neurons=64, x_features=9):\n",
        "  #def __init__(self, neurons=64, x_features=5):\n",
        "    super(PricingNetwork3,self).__init__()\n",
        "    self.mean = mean\n",
        "    self.std = std\n",
        "    self.bottleneck = nn.Sequential(nn.Linear(x_features, neurons), nn.LeakyReLU(),\n",
        "                                     nn.Linear(neurons, neurons), nn.LeakyReLU(),\n",
        "                                     nn.Linear(neurons, neurons), nn.LeakyReLU(),\n",
        "                                     nn.Linear(neurons, neurons), nn.LeakyReLU(),\n",
        "                                     #nn.Linear(neurons, neurons), nn.LeakyReLU(),\n",
        "                                     nn.Linear(neurons, neurons), nn.LeakyReLU())\n",
        "    #self.bottleneck = nn.ModuleList([nn.Linear(x_features, neurons), nn.LeakyReLU()] + [nn.Linear(neurons, neurons), nn.LeakyReLU()] * 4)\n",
        "    self.final_layer = nn.Linear(neurons, 1)\n",
        "\n",
        "  def forward(self, X, **kwargs):\n",
        "    X = X - self.mean / self.std\n",
        "    X = self.bottleneck(X)\n",
        "    X  = self.final_layer(X)\n",
        "    return X\n",
        "\n",
        "\n",
        "mm2 = PricingNetwork3()\n",
        "mm2.load_state_dict(torch.load('/content/drive/MyDrive/practicum_data-American_Option/amer_transform100k.pt'))"
      ],
      "metadata": {
        "colab": {
          "base_uri": "https://localhost:8080/"
        },
        "id": "ZGx66H3vjDJO",
        "outputId": "26b4e1d3-7f53-4686-e1bb-98a209bb265c"
      },
      "execution_count": null,
      "outputs": [
        {
          "output_type": "execute_result",
          "data": {
            "text/plain": [
              "<All keys matched successfully>"
            ]
          },
          "metadata": {},
          "execution_count": 3
        }
      ]
    },
    {
      "cell_type": "code",
      "source": [
        "def parse_input(X_, params_):\n",
        "  new_input = torch.empty((X_.shape[0], X_.shape[1]+params_.shape[0]))\n",
        "  new_input[:,:4] = X_\n",
        "  new_input[:,4:] = torch.Tensor(params_)\n",
        "  return new_input\n"
      ],
      "metadata": {
        "id": "oTa7f6FtdXOM"
      },
      "execution_count": null,
      "outputs": []
    },
    {
      "cell_type": "code",
      "source": [
        "%%time\n",
        "print(\"time usage for ANN model\")\n",
        "for _ in range(5):\n",
        "  param = np.array([ 9.225e-05 , 8.494e-05 , 7.719e-01 ,5.071e-01, -4.983e-01])\n",
        "  objective_function(param)"
      ],
      "metadata": {
        "colab": {
          "base_uri": "https://localhost:8080/"
        },
        "id": "_KCeeIYWLZ5X",
        "outputId": "b1adbd6e-f26c-4bf2-edde-ace664cd55f9"
      },
      "execution_count": null,
      "outputs": [
        {
          "output_type": "stream",
          "name": "stdout",
          "text": [
            "time usage for ANN model\n",
            "CPU times: user 40.4 ms, sys: 0 ns, total: 40.4 ms\n",
            "Wall time: 85.3 ms\n"
          ]
        }
      ]
    },
    {
      "cell_type": "code",
      "source": [
        "with torch.no_grad():https://accounts.google.com/SignOutOptions?hl=en&continue=https://colab.research.google.com/drive/1DEupwRbwEhfzXDXkKTdpTSVsaGx18CXZ&ec=GBRAqQM\n",
        "  calibrated = np.array([ 2.771e-02 ,9.073e-04 ,1.136e+00 ,6.358e-01,-4.999e-01])\n",
        "  real = np.array([0.01, 0.02,\t1.0,\t0.1,\t0.2\t]) #real Heston Parameters\n",
        "  print(\"Objective Result using calibrated params:\",objective_function(calibrated))\n",
        "  print(\"Objective Result using real answer:\",objective_function(real))"
      ],
      "metadata": {
        "colab": {
          "base_uri": "https://localhost:8080/"
        },
        "id": "ArtmfqHmyC8Y",
        "outputId": "55068e73-9211-4351-9d1e-cfd025bfc525"
      },
      "execution_count": null,
      "outputs": [
        {
          "output_type": "stream",
          "name": "stdout",
          "text": [
            "Objective Result using calibrated params: 0.003206874\n",
            "Objective Result using real answer: 0.005562815\n"
          ]
        }
      ]
    },
    {
      "cell_type": "code",
      "source": [
        "def objective_function(X_input,params):\n",
        "    # params is a numpy array containing the Heston model parameters\n",
        "\n",
        "    # Use the neural network to predict the option price\n",
        "    with torch.no_grad():\n",
        "      price_pred = mm2(parse_input(X_input, params)).flatten().numpy()\n",
        "\n",
        "    # Calculate the squared difference between the predicted and observed prices\n",
        "    diff = price_pred - price_ft\n",
        "    squared_diff = np.mean(np.abs(diff))\n",
        "\n",
        "    return squared_diff\n"
      ],
      "metadata": {
        "id": "hn8o5qA_hfa-"
      },
      "execution_count": null,
      "outputs": []
    },
    {
      "cell_type": "code",
      "source": [
        "def Feller(params):\n",
        "  '''\n",
        "  params: a list of Heston model parameters [v0, theta, kappa, sigma, rho]\n",
        "  The result should be negative.\n",
        "  '''\n",
        "  _, theta, kappa, sigma, _ = params\n",
        "  return sigma**2 - 2*kappa*theta\n",
        "\n",
        "cons = {'type':'ineq', 'fun':Feller}"
      ],
      "metadata": {
        "id": "5HzZJazpxFMe"
      },
      "execution_count": null,
      "outputs": []
    },
    {
      "cell_type": "code",
      "source": [
        "params1_0 = np.array([0.02, 0.02, 1.3, 0.1, -0.3])\n",
        "params2_0 = np.array([0.02, 0.01, 0.8, 0.2, 0.1])\n",
        "params3_0 = np.array([0.04, 0.05, 1.3, 0.2, -0.7])\n",
        "cal_res = []\n",
        "for (i, param) in zip([0, 1, 2], [params1_0, params2_0, params3_0]):\n",
        "  from scipy.optimize import NonlinearConstraint\n",
        "  e_ft1 = pd.read_csv(f'/content/drive/MyDrive/practicum_data/calibrate_5k_param{i}.csv', index_col=0)\n",
        "  X_input = torch.tensor(e_ft1.values[:,:4].astype(np.float32))\n",
        "  price_ft = e_ft1['eurocall_ft'].values.astype(np.float32)\n",
        "  nlc = NonlinearConstraint(Feller, -np.inf, 0)\n",
        "  cal_res.append(scipy.optimize.differential_evolution(objective_function, bounds=[(1e-15,0.5), (1e-15,2), (1e-15,2), (1e-15,2), (-1,2)], x0=param,constraints=nlc).x)\n",
        "  print(f\"{i} done!\")"
      ],
      "metadata": {
        "colab": {
          "base_uri": "https://localhost:8080/"
        },
        "id": "VsmsAXckxQPe",
        "outputId": "8e29f028-a3eb-41ef-c8cf-9215233ef169"
      },
      "execution_count": null,
      "outputs": [
        {
          "output_type": "stream",
          "name": "stderr",
          "text": [
            "/usr/local/lib/python3.9/dist-packages/scipy/optimize/_hessian_update_strategy.py:182: UserWarning: delta_grad == 0.0. Check if the approximated function is linear. If the function is linear better results can be obtained by defining the Hessian as zero instead of using quasi-Newton approximations.\n",
            "  warn('delta_grad == 0.0. Check if the approximated '\n"
          ]
        },
        {
          "output_type": "stream",
          "name": "stdout",
          "text": [
            "0 done!\n"
          ]
        },
        {
          "output_type": "stream",
          "name": "stderr",
          "text": [
            "/usr/local/lib/python3.9/dist-packages/scipy/optimize/_hessian_update_strategy.py:182: UserWarning: delta_grad == 0.0. Check if the approximated function is linear. If the function is linear better results can be obtained by defining the Hessian as zero instead of using quasi-Newton approximations.\n",
            "  warn('delta_grad == 0.0. Check if the approximated '\n"
          ]
        },
        {
          "output_type": "stream",
          "name": "stdout",
          "text": [
            "1 done!\n"
          ]
        },
        {
          "output_type": "stream",
          "name": "stderr",
          "text": [
            "/usr/local/lib/python3.9/dist-packages/scipy/optimize/_hessian_update_strategy.py:182: UserWarning: delta_grad == 0.0. Check if the approximated function is linear. If the function is linear better results can be obtained by defining the Hessian as zero instead of using quasi-Newton approximations.\n",
            "  warn('delta_grad == 0.0. Check if the approximated '\n"
          ]
        },
        {
          "output_type": "stream",
          "name": "stdout",
          "text": [
            "2 done!\n"
          ]
        }
      ]
    },
    {
      "cell_type": "code",
      "source": [
        "def price_diff(X_input,params):\n",
        "  with torch.no_grad():\n",
        "    price_pred = mm2(parse_input(X_input, params)).flatten().numpy()\n",
        "\n",
        "    # Calculate the squared difference between the predicted and observed prices\n",
        "  diff = price_pred - price_ft\n",
        "  squared_diff = np.mean(np.abs(diff))\n",
        "  return squared_diff"
      ],
      "metadata": {
        "id": "eixWOl0jQYp3"
      },
      "execution_count": null,
      "outputs": []
    },
    {
      "cell_type": "code",
      "source": [
        "cal_res"
      ],
      "metadata": {
        "colab": {
          "base_uri": "https://localhost:8080/"
        },
        "id": "02LvQxPmT2hX",
        "outputId": "e428523b-4ce2-47dd-b933-7475e6362a1b"
      },
      "execution_count": null,
      "outputs": [
        {
          "output_type": "execute_result",
          "data": {
            "text/plain": [
              "[array([ 0.06945654,  0.10392993,  0.59085353,  0.34717689, -0.66581399]),\n",
              " array([ 0.01530431,  0.31101196,  0.21943453,  0.36608919, -0.57734179]),\n",
              " array([ 0.07556475,  0.31534085,  0.34879871,  0.46755522, -0.77659388])]"
            ]
          },
          "metadata": {},
          "execution_count": 15
        }
      ]
    },
    {
      "cell_type": "code",
      "source": [
        "mean_ = 0.\n",
        "for (i, param) in zip([0, 1, 2], cal_res):\n",
        "  e_ft1 = pd.read_csv(f'/content/drive/MyDrive/practicum_data/calibrate_5k_param{i}.csv', index_col=0)\n",
        "  X_input = torch.tensor(e_ft1.values[:,:4].astype(np.float32))\n",
        "  price_ft = e_ft1['eurocall_ft'].values.astype(np.float32)\n",
        "  mean_ += price_diff(X_input, param)\n",
        "\n",
        "mean_ / 3."
      ],
      "metadata": {
        "colab": {
          "base_uri": "https://localhost:8080/"
        },
        "id": "EMK-YDAvSlEd",
        "outputId": "e8238d7e-3ec8-4ba1-c216-237c8eb52d0e"
      },
      "execution_count": null,
      "outputs": [
        {
          "output_type": "execute_result",
          "data": {
            "text/plain": [
              "0.00391547071437041"
            ]
          },
          "metadata": {},
          "execution_count": 19
        }
      ]
    },
    {
      "cell_type": "code",
      "source": [
        "def report_calibration(initial, actual, calibrated):\n",
        "  initial1 = initial + [Feller(initial)]\n",
        "\n",
        "  actual1 = actual + [Feller(actual)]\n",
        "  calibrated1 = np.append(calibrated, Feller(calibrated))\n",
        "  report = pd.DataFrame({\"Initial\": initial1, \"True\": actual1, \"Calibrated\": calibrated1},\n",
        "                        index=['v0', 'theta', 'kappa', 'sigma', 'rho', 'Feller']).round(5).T\n",
        "  return report"
      ],
      "metadata": {
        "id": "3FkYuCuT_43l"
      },
      "execution_count": null,
      "outputs": []
    },
    {
      "cell_type": "code",
      "source": [
        "report_calibration(params0.tolist(),[0.01, 0.02,\t1.0,\t0.1,\t0.2\t], np.array([ 0. ,  0. , 0.772,  0.507, -0.498]))"
      ],
      "metadata": {
        "colab": {
          "base_uri": "https://localhost:8080/",
          "height": 143
        },
        "id": "G0VoDdFZAHRm",
        "outputId": "d2685028-457c-4a6a-ce0c-849156b75a16"
      },
      "execution_count": null,
      "outputs": [
        {
          "output_type": "execute_result",
          "data": {
            "text/plain": [
              "              v0  theta  kappa  sigma    rho   Feller\n",
              "Initial     0.02   0.01  0.800  0.200  0.100  0.02400\n",
              "True        0.01   0.02  1.000  0.100  0.200 -0.03000\n",
              "Calibrated  0.00   0.00  0.772  0.507 -0.498  0.25705"
            ],
            "text/html": [
              "\n",
              "  <div id=\"df-5bd2f954-3226-47db-a3f8-d5bb0a319480\">\n",
              "    <div class=\"colab-df-container\">\n",
              "      <div>\n",
              "<style scoped>\n",
              "    .dataframe tbody tr th:only-of-type {\n",
              "        vertical-align: middle;\n",
              "    }\n",
              "\n",
              "    .dataframe tbody tr th {\n",
              "        vertical-align: top;\n",
              "    }\n",
              "\n",
              "    .dataframe thead th {\n",
              "        text-align: right;\n",
              "    }\n",
              "</style>\n",
              "<table border=\"1\" class=\"dataframe\">\n",
              "  <thead>\n",
              "    <tr style=\"text-align: right;\">\n",
              "      <th></th>\n",
              "      <th>v0</th>\n",
              "      <th>theta</th>\n",
              "      <th>kappa</th>\n",
              "      <th>sigma</th>\n",
              "      <th>rho</th>\n",
              "      <th>Feller</th>\n",
              "    </tr>\n",
              "  </thead>\n",
              "  <tbody>\n",
              "    <tr>\n",
              "      <th>Initial</th>\n",
              "      <td>0.02</td>\n",
              "      <td>0.01</td>\n",
              "      <td>0.800</td>\n",
              "      <td>0.200</td>\n",
              "      <td>0.100</td>\n",
              "      <td>0.02400</td>\n",
              "    </tr>\n",
              "    <tr>\n",
              "      <th>True</th>\n",
              "      <td>0.01</td>\n",
              "      <td>0.02</td>\n",
              "      <td>1.000</td>\n",
              "      <td>0.100</td>\n",
              "      <td>0.200</td>\n",
              "      <td>-0.03000</td>\n",
              "    </tr>\n",
              "    <tr>\n",
              "      <th>Calibrated</th>\n",
              "      <td>0.00</td>\n",
              "      <td>0.00</td>\n",
              "      <td>0.772</td>\n",
              "      <td>0.507</td>\n",
              "      <td>-0.498</td>\n",
              "      <td>0.25705</td>\n",
              "    </tr>\n",
              "  </tbody>\n",
              "</table>\n",
              "</div>\n",
              "      <button class=\"colab-df-convert\" onclick=\"convertToInteractive('df-5bd2f954-3226-47db-a3f8-d5bb0a319480')\"\n",
              "              title=\"Convert this dataframe to an interactive table.\"\n",
              "              style=\"display:none;\">\n",
              "        \n",
              "  <svg xmlns=\"http://www.w3.org/2000/svg\" height=\"24px\"viewBox=\"0 0 24 24\"\n",
              "       width=\"24px\">\n",
              "    <path d=\"M0 0h24v24H0V0z\" fill=\"none\"/>\n",
              "    <path d=\"M18.56 5.44l.94 2.06.94-2.06 2.06-.94-2.06-.94-.94-2.06-.94 2.06-2.06.94zm-11 1L8.5 8.5l.94-2.06 2.06-.94-2.06-.94L8.5 2.5l-.94 2.06-2.06.94zm10 10l.94 2.06.94-2.06 2.06-.94-2.06-.94-.94-2.06-.94 2.06-2.06.94z\"/><path d=\"M17.41 7.96l-1.37-1.37c-.4-.4-.92-.59-1.43-.59-.52 0-1.04.2-1.43.59L10.3 9.45l-7.72 7.72c-.78.78-.78 2.05 0 2.83L4 21.41c.39.39.9.59 1.41.59.51 0 1.02-.2 1.41-.59l7.78-7.78 2.81-2.81c.8-.78.8-2.07 0-2.86zM5.41 20L4 18.59l7.72-7.72 1.47 1.35L5.41 20z\"/>\n",
              "  </svg>\n",
              "      </button>\n",
              "      \n",
              "  <style>\n",
              "    .colab-df-container {\n",
              "      display:flex;\n",
              "      flex-wrap:wrap;\n",
              "      gap: 12px;\n",
              "    }\n",
              "\n",
              "    .colab-df-convert {\n",
              "      background-color: #E8F0FE;\n",
              "      border: none;\n",
              "      border-radius: 50%;\n",
              "      cursor: pointer;\n",
              "      display: none;\n",
              "      fill: #1967D2;\n",
              "      height: 32px;\n",
              "      padding: 0 0 0 0;\n",
              "      width: 32px;\n",
              "    }\n",
              "\n",
              "    .colab-df-convert:hover {\n",
              "      background-color: #E2EBFA;\n",
              "      box-shadow: 0px 1px 2px rgba(60, 64, 67, 0.3), 0px 1px 3px 1px rgba(60, 64, 67, 0.15);\n",
              "      fill: #174EA6;\n",
              "    }\n",
              "\n",
              "    [theme=dark] .colab-df-convert {\n",
              "      background-color: #3B4455;\n",
              "      fill: #D2E3FC;\n",
              "    }\n",
              "\n",
              "    [theme=dark] .colab-df-convert:hover {\n",
              "      background-color: #434B5C;\n",
              "      box-shadow: 0px 1px 3px 1px rgba(0, 0, 0, 0.15);\n",
              "      filter: drop-shadow(0px 1px 2px rgba(0, 0, 0, 0.3));\n",
              "      fill: #FFFFFF;\n",
              "    }\n",
              "  </style>\n",
              "\n",
              "      <script>\n",
              "        const buttonEl =\n",
              "          document.querySelector('#df-5bd2f954-3226-47db-a3f8-d5bb0a319480 button.colab-df-convert');\n",
              "        buttonEl.style.display =\n",
              "          google.colab.kernel.accessAllowed ? 'block' : 'none';\n",
              "\n",
              "        async function convertToInteractive(key) {\n",
              "          const element = document.querySelector('#df-5bd2f954-3226-47db-a3f8-d5bb0a319480');\n",
              "          const dataTable =\n",
              "            await google.colab.kernel.invokeFunction('convertToInteractive',\n",
              "                                                     [key], {});\n",
              "          if (!dataTable) return;\n",
              "\n",
              "          const docLinkHtml = 'Like what you see? Visit the ' +\n",
              "            '<a target=\"_blank\" href=https://colab.research.google.com/notebooks/data_table.ipynb>data table notebook</a>'\n",
              "            + ' to learn more about interactive tables.';\n",
              "          element.innerHTML = '';\n",
              "          dataTable['output_type'] = 'display_data';\n",
              "          await google.colab.output.renderOutput(dataTable, element);\n",
              "          const docLink = document.createElement('div');\n",
              "          docLink.innerHTML = docLinkHtml;\n",
              "          element.appendChild(docLink);\n",
              "        }\n",
              "      </script>\n",
              "    </div>\n",
              "  </div>\n",
              "  "
            ]
          },
          "metadata": {},
          "execution_count": 61
        }
      ]
    },
    {
      "cell_type": "code",
      "source": [
        "actual1 = [0.04,0.04,1.5,0.3,-0.5]\n",
        "actual2 = [0.01,0.02,1.,0.1,0.2]\n",
        "actual3 = [0.06,0.06,1.5,0.3,-0.6]"
      ],
      "metadata": {
        "id": "LWN_5FKsnLYo"
      },
      "execution_count": null,
      "outputs": []
    },
    {
      "cell_type": "code",
      "source": [
        "report_calibration(params1_0.tolist(),actual1, cal_res[0])"
      ],
      "metadata": {
        "id": "hHa1nF9kAo73",
        "colab": {
          "base_uri": "https://localhost:8080/",
          "height": 143
        },
        "outputId": "32c974f1-f3fd-4ebf-8401-0714df68d021"
      },
      "execution_count": null,
      "outputs": [
        {
          "output_type": "execute_result",
          "data": {
            "text/plain": [
              "                 v0   theta    kappa   sigma      rho   Feller\n",
              "Initial     0.02000  0.0200  1.30000  0.1000 -0.30000 -0.04200\n",
              "True        0.04000  0.0400  1.50000  0.3000 -0.50000 -0.03000\n",
              "Calibrated  0.00809  0.0602  0.82162  0.3133 -0.99599 -0.00077"
            ],
            "text/html": [
              "\n",
              "  <div id=\"df-e7664f06-180c-449b-adc7-17f95dd106c7\">\n",
              "    <div class=\"colab-df-container\">\n",
              "      <div>\n",
              "<style scoped>\n",
              "    .dataframe tbody tr th:only-of-type {\n",
              "        vertical-align: middle;\n",
              "    }\n",
              "\n",
              "    .dataframe tbody tr th {\n",
              "        vertical-align: top;\n",
              "    }\n",
              "\n",
              "    .dataframe thead th {\n",
              "        text-align: right;\n",
              "    }\n",
              "</style>\n",
              "<table border=\"1\" class=\"dataframe\">\n",
              "  <thead>\n",
              "    <tr style=\"text-align: right;\">\n",
              "      <th></th>\n",
              "      <th>v0</th>\n",
              "      <th>theta</th>\n",
              "      <th>kappa</th>\n",
              "      <th>sigma</th>\n",
              "      <th>rho</th>\n",
              "      <th>Feller</th>\n",
              "    </tr>\n",
              "  </thead>\n",
              "  <tbody>\n",
              "    <tr>\n",
              "      <th>Initial</th>\n",
              "      <td>0.02000</td>\n",
              "      <td>0.0200</td>\n",
              "      <td>1.30000</td>\n",
              "      <td>0.1000</td>\n",
              "      <td>-0.30000</td>\n",
              "      <td>-0.04200</td>\n",
              "    </tr>\n",
              "    <tr>\n",
              "      <th>True</th>\n",
              "      <td>0.04000</td>\n",
              "      <td>0.0400</td>\n",
              "      <td>1.50000</td>\n",
              "      <td>0.3000</td>\n",
              "      <td>-0.50000</td>\n",
              "      <td>-0.03000</td>\n",
              "    </tr>\n",
              "    <tr>\n",
              "      <th>Calibrated</th>\n",
              "      <td>0.00809</td>\n",
              "      <td>0.0602</td>\n",
              "      <td>0.82162</td>\n",
              "      <td>0.3133</td>\n",
              "      <td>-0.99599</td>\n",
              "      <td>-0.00077</td>\n",
              "    </tr>\n",
              "  </tbody>\n",
              "</table>\n",
              "</div>\n",
              "      <button class=\"colab-df-convert\" onclick=\"convertToInteractive('df-e7664f06-180c-449b-adc7-17f95dd106c7')\"\n",
              "              title=\"Convert this dataframe to an interactive table.\"\n",
              "              style=\"display:none;\">\n",
              "        \n",
              "  <svg xmlns=\"http://www.w3.org/2000/svg\" height=\"24px\"viewBox=\"0 0 24 24\"\n",
              "       width=\"24px\">\n",
              "    <path d=\"M0 0h24v24H0V0z\" fill=\"none\"/>\n",
              "    <path d=\"M18.56 5.44l.94 2.06.94-2.06 2.06-.94-2.06-.94-.94-2.06-.94 2.06-2.06.94zm-11 1L8.5 8.5l.94-2.06 2.06-.94-2.06-.94L8.5 2.5l-.94 2.06-2.06.94zm10 10l.94 2.06.94-2.06 2.06-.94-2.06-.94-.94-2.06-.94 2.06-2.06.94z\"/><path d=\"M17.41 7.96l-1.37-1.37c-.4-.4-.92-.59-1.43-.59-.52 0-1.04.2-1.43.59L10.3 9.45l-7.72 7.72c-.78.78-.78 2.05 0 2.83L4 21.41c.39.39.9.59 1.41.59.51 0 1.02-.2 1.41-.59l7.78-7.78 2.81-2.81c.8-.78.8-2.07 0-2.86zM5.41 20L4 18.59l7.72-7.72 1.47 1.35L5.41 20z\"/>\n",
              "  </svg>\n",
              "      </button>\n",
              "      \n",
              "  <style>\n",
              "    .colab-df-container {\n",
              "      display:flex;\n",
              "      flex-wrap:wrap;\n",
              "      gap: 12px;\n",
              "    }\n",
              "\n",
              "    .colab-df-convert {\n",
              "      background-color: #E8F0FE;\n",
              "      border: none;\n",
              "      border-radius: 50%;\n",
              "      cursor: pointer;\n",
              "      display: none;\n",
              "      fill: #1967D2;\n",
              "      height: 32px;\n",
              "      padding: 0 0 0 0;\n",
              "      width: 32px;\n",
              "    }\n",
              "\n",
              "    .colab-df-convert:hover {\n",
              "      background-color: #E2EBFA;\n",
              "      box-shadow: 0px 1px 2px rgba(60, 64, 67, 0.3), 0px 1px 3px 1px rgba(60, 64, 67, 0.15);\n",
              "      fill: #174EA6;\n",
              "    }\n",
              "\n",
              "    [theme=dark] .colab-df-convert {\n",
              "      background-color: #3B4455;\n",
              "      fill: #D2E3FC;\n",
              "    }\n",
              "\n",
              "    [theme=dark] .colab-df-convert:hover {\n",
              "      background-color: #434B5C;\n",
              "      box-shadow: 0px 1px 3px 1px rgba(0, 0, 0, 0.15);\n",
              "      filter: drop-shadow(0px 1px 2px rgba(0, 0, 0, 0.3));\n",
              "      fill: #FFFFFF;\n",
              "    }\n",
              "  </style>\n",
              "\n",
              "      <script>\n",
              "        const buttonEl =\n",
              "          document.querySelector('#df-e7664f06-180c-449b-adc7-17f95dd106c7 button.colab-df-convert');\n",
              "        buttonEl.style.display =\n",
              "          google.colab.kernel.accessAllowed ? 'block' : 'none';\n",
              "\n",
              "        async function convertToInteractive(key) {\n",
              "          const element = document.querySelector('#df-e7664f06-180c-449b-adc7-17f95dd106c7');\n",
              "          const dataTable =\n",
              "            await google.colab.kernel.invokeFunction('convertToInteractive',\n",
              "                                                     [key], {});\n",
              "          if (!dataTable) return;\n",
              "\n",
              "          const docLinkHtml = 'Like what you see? Visit the ' +\n",
              "            '<a target=\"_blank\" href=https://colab.research.google.com/notebooks/data_table.ipynb>data table notebook</a>'\n",
              "            + ' to learn more about interactive tables.';\n",
              "          element.innerHTML = '';\n",
              "          dataTable['output_type'] = 'display_data';\n",
              "          await google.colab.output.renderOutput(dataTable, element);\n",
              "          const docLink = document.createElement('div');\n",
              "          docLink.innerHTML = docLinkHtml;\n",
              "          element.appendChild(docLink);\n",
              "        }\n",
              "      </script>\n",
              "    </div>\n",
              "  </div>\n",
              "  "
            ]
          },
          "metadata": {},
          "execution_count": 16
        }
      ]
    },
    {
      "cell_type": "code",
      "source": [
        "report_calibration(params2_0.tolist(),actual2, cal_res[1])"
      ],
      "metadata": {
        "colab": {
          "base_uri": "https://localhost:8080/",
          "height": 143
        },
        "id": "HGHgUO0Mn1hO",
        "outputId": "a998c739-a0d9-4adc-dbfc-a9d3ff1ce4c4"
      },
      "execution_count": null,
      "outputs": [
        {
          "output_type": "execute_result",
          "data": {
            "text/plain": [
              "                 v0    theta    kappa    sigma      rho   Feller\n",
              "Initial     0.02000  0.01000  0.80000  0.20000  0.10000  0.02400\n",
              "True        0.01000  0.02000  1.00000  0.10000  0.20000 -0.03000\n",
              "Calibrated  0.00001  0.04723  0.58655  0.23535 -0.99965 -0.00001"
            ],
            "text/html": [
              "\n",
              "  <div id=\"df-c57b6eb0-87f6-4555-b2af-38130d16143c\">\n",
              "    <div class=\"colab-df-container\">\n",
              "      <div>\n",
              "<style scoped>\n",
              "    .dataframe tbody tr th:only-of-type {\n",
              "        vertical-align: middle;\n",
              "    }\n",
              "\n",
              "    .dataframe tbody tr th {\n",
              "        vertical-align: top;\n",
              "    }\n",
              "\n",
              "    .dataframe thead th {\n",
              "        text-align: right;\n",
              "    }\n",
              "</style>\n",
              "<table border=\"1\" class=\"dataframe\">\n",
              "  <thead>\n",
              "    <tr style=\"text-align: right;\">\n",
              "      <th></th>\n",
              "      <th>v0</th>\n",
              "      <th>theta</th>\n",
              "      <th>kappa</th>\n",
              "      <th>sigma</th>\n",
              "      <th>rho</th>\n",
              "      <th>Feller</th>\n",
              "    </tr>\n",
              "  </thead>\n",
              "  <tbody>\n",
              "    <tr>\n",
              "      <th>Initial</th>\n",
              "      <td>0.02000</td>\n",
              "      <td>0.01000</td>\n",
              "      <td>0.80000</td>\n",
              "      <td>0.20000</td>\n",
              "      <td>0.10000</td>\n",
              "      <td>0.02400</td>\n",
              "    </tr>\n",
              "    <tr>\n",
              "      <th>True</th>\n",
              "      <td>0.01000</td>\n",
              "      <td>0.02000</td>\n",
              "      <td>1.00000</td>\n",
              "      <td>0.10000</td>\n",
              "      <td>0.20000</td>\n",
              "      <td>-0.03000</td>\n",
              "    </tr>\n",
              "    <tr>\n",
              "      <th>Calibrated</th>\n",
              "      <td>0.00001</td>\n",
              "      <td>0.04723</td>\n",
              "      <td>0.58655</td>\n",
              "      <td>0.23535</td>\n",
              "      <td>-0.99965</td>\n",
              "      <td>-0.00001</td>\n",
              "    </tr>\n",
              "  </tbody>\n",
              "</table>\n",
              "</div>\n",
              "      <button class=\"colab-df-convert\" onclick=\"convertToInteractive('df-c57b6eb0-87f6-4555-b2af-38130d16143c')\"\n",
              "              title=\"Convert this dataframe to an interactive table.\"\n",
              "              style=\"display:none;\">\n",
              "        \n",
              "  <svg xmlns=\"http://www.w3.org/2000/svg\" height=\"24px\"viewBox=\"0 0 24 24\"\n",
              "       width=\"24px\">\n",
              "    <path d=\"M0 0h24v24H0V0z\" fill=\"none\"/>\n",
              "    <path d=\"M18.56 5.44l.94 2.06.94-2.06 2.06-.94-2.06-.94-.94-2.06-.94 2.06-2.06.94zm-11 1L8.5 8.5l.94-2.06 2.06-.94-2.06-.94L8.5 2.5l-.94 2.06-2.06.94zm10 10l.94 2.06.94-2.06 2.06-.94-2.06-.94-.94-2.06-.94 2.06-2.06.94z\"/><path d=\"M17.41 7.96l-1.37-1.37c-.4-.4-.92-.59-1.43-.59-.52 0-1.04.2-1.43.59L10.3 9.45l-7.72 7.72c-.78.78-.78 2.05 0 2.83L4 21.41c.39.39.9.59 1.41.59.51 0 1.02-.2 1.41-.59l7.78-7.78 2.81-2.81c.8-.78.8-2.07 0-2.86zM5.41 20L4 18.59l7.72-7.72 1.47 1.35L5.41 20z\"/>\n",
              "  </svg>\n",
              "      </button>\n",
              "      \n",
              "  <style>\n",
              "    .colab-df-container {\n",
              "      display:flex;\n",
              "      flex-wrap:wrap;\n",
              "      gap: 12px;\n",
              "    }\n",
              "\n",
              "    .colab-df-convert {\n",
              "      background-color: #E8F0FE;\n",
              "      border: none;\n",
              "      border-radius: 50%;\n",
              "      cursor: pointer;\n",
              "      display: none;\n",
              "      fill: #1967D2;\n",
              "      height: 32px;\n",
              "      padding: 0 0 0 0;\n",
              "      width: 32px;\n",
              "    }\n",
              "\n",
              "    .colab-df-convert:hover {\n",
              "      background-color: #E2EBFA;\n",
              "      box-shadow: 0px 1px 2px rgba(60, 64, 67, 0.3), 0px 1px 3px 1px rgba(60, 64, 67, 0.15);\n",
              "      fill: #174EA6;\n",
              "    }\n",
              "\n",
              "    [theme=dark] .colab-df-convert {\n",
              "      background-color: #3B4455;\n",
              "      fill: #D2E3FC;\n",
              "    }\n",
              "\n",
              "    [theme=dark] .colab-df-convert:hover {\n",
              "      background-color: #434B5C;\n",
              "      box-shadow: 0px 1px 3px 1px rgba(0, 0, 0, 0.15);\n",
              "      filter: drop-shadow(0px 1px 2px rgba(0, 0, 0, 0.3));\n",
              "      fill: #FFFFFF;\n",
              "    }\n",
              "  </style>\n",
              "\n",
              "      <script>\n",
              "        const buttonEl =\n",
              "          document.querySelector('#df-c57b6eb0-87f6-4555-b2af-38130d16143c button.colab-df-convert');\n",
              "        buttonEl.style.display =\n",
              "          google.colab.kernel.accessAllowed ? 'block' : 'none';\n",
              "\n",
              "        async function convertToInteractive(key) {\n",
              "          const element = document.querySelector('#df-c57b6eb0-87f6-4555-b2af-38130d16143c');\n",
              "          const dataTable =\n",
              "            await google.colab.kernel.invokeFunction('convertToInteractive',\n",
              "                                                     [key], {});\n",
              "          if (!dataTable) return;\n",
              "\n",
              "          const docLinkHtml = 'Like what you see? Visit the ' +\n",
              "            '<a target=\"_blank\" href=https://colab.research.google.com/notebooks/data_table.ipynb>data table notebook</a>'\n",
              "            + ' to learn more about interactive tables.';\n",
              "          element.innerHTML = '';\n",
              "          dataTable['output_type'] = 'display_data';\n",
              "          await google.colab.output.renderOutput(dataTable, element);\n",
              "          const docLink = document.createElement('div');\n",
              "          docLink.innerHTML = docLinkHtml;\n",
              "          element.appendChild(docLink);\n",
              "        }\n",
              "      </script>\n",
              "    </div>\n",
              "  </div>\n",
              "  "
            ]
          },
          "metadata": {},
          "execution_count": 17
        }
      ]
    },
    {
      "cell_type": "code",
      "source": [
        "cal_res"
      ],
      "metadata": {
        "colab": {
          "base_uri": "https://localhost:8080/"
        },
        "id": "_1Rdr89loKYj",
        "outputId": "312cbbb6-6781-4886-d33e-c38daf2ade30"
      },
      "execution_count": null,
      "outputs": [
        {
          "output_type": "execute_result",
          "data": {
            "text/plain": [
              "[array([ 0.00809362,  0.06020034,  0.82161514,  0.313297  , -0.99599333]),\n",
              " array([ 5.05111577e-06,  4.72288805e-02,  5.86545156e-01,  2.35353878e-01,\n",
              "        -9.99654886e-01]),\n",
              " array([ 0.05631509,  0.0688414 ,  1.03246575,  0.37663803, -0.88684139])]"
            ]
          },
          "metadata": {},
          "execution_count": 19
        }
      ]
    },
    {
      "cell_type": "code",
      "source": [
        "report_calibration(params3_0.tolist(), actual3, cal_res[2])"
      ],
      "metadata": {
        "colab": {
          "base_uri": "https://localhost:8080/",
          "height": 143
        },
        "id": "i6_4jbvrn-MB",
        "outputId": "cfb1fbdc-6100-472c-a53c-3eb4a4374c9b"
      },
      "execution_count": null,
      "outputs": [
        {
          "output_type": "execute_result",
          "data": {
            "text/plain": [
              "                 v0    theta    kappa    sigma      rho  Feller\n",
              "Initial     0.04000  0.05000  1.30000  0.20000 -0.70000 -0.0900\n",
              "True        0.06000  0.06000  1.50000  0.30000 -0.60000 -0.0900\n",
              "Calibrated  0.05632  0.06884  1.03247  0.37664 -0.88684 -0.0003"
            ],
            "text/html": [
              "\n",
              "  <div id=\"df-c8add5bd-6826-4b34-ab5e-14a5403ab5a4\">\n",
              "    <div class=\"colab-df-container\">\n",
              "      <div>\n",
              "<style scoped>\n",
              "    .dataframe tbody tr th:only-of-type {\n",
              "        vertical-align: middle;\n",
              "    }\n",
              "\n",
              "    .dataframe tbody tr th {\n",
              "        vertical-align: top;\n",
              "    }\n",
              "\n",
              "    .dataframe thead th {\n",
              "        text-align: right;\n",
              "    }\n",
              "</style>\n",
              "<table border=\"1\" class=\"dataframe\">\n",
              "  <thead>\n",
              "    <tr style=\"text-align: right;\">\n",
              "      <th></th>\n",
              "      <th>v0</th>\n",
              "      <th>theta</th>\n",
              "      <th>kappa</th>\n",
              "      <th>sigma</th>\n",
              "      <th>rho</th>\n",
              "      <th>Feller</th>\n",
              "    </tr>\n",
              "  </thead>\n",
              "  <tbody>\n",
              "    <tr>\n",
              "      <th>Initial</th>\n",
              "      <td>0.04000</td>\n",
              "      <td>0.05000</td>\n",
              "      <td>1.30000</td>\n",
              "      <td>0.20000</td>\n",
              "      <td>-0.70000</td>\n",
              "      <td>-0.0900</td>\n",
              "    </tr>\n",
              "    <tr>\n",
              "      <th>True</th>\n",
              "      <td>0.06000</td>\n",
              "      <td>0.06000</td>\n",
              "      <td>1.50000</td>\n",
              "      <td>0.30000</td>\n",
              "      <td>-0.60000</td>\n",
              "      <td>-0.0900</td>\n",
              "    </tr>\n",
              "    <tr>\n",
              "      <th>Calibrated</th>\n",
              "      <td>0.05632</td>\n",
              "      <td>0.06884</td>\n",
              "      <td>1.03247</td>\n",
              "      <td>0.37664</td>\n",
              "      <td>-0.88684</td>\n",
              "      <td>-0.0003</td>\n",
              "    </tr>\n",
              "  </tbody>\n",
              "</table>\n",
              "</div>\n",
              "      <button class=\"colab-df-convert\" onclick=\"convertToInteractive('df-c8add5bd-6826-4b34-ab5e-14a5403ab5a4')\"\n",
              "              title=\"Convert this dataframe to an interactive table.\"\n",
              "              style=\"display:none;\">\n",
              "        \n",
              "  <svg xmlns=\"http://www.w3.org/2000/svg\" height=\"24px\"viewBox=\"0 0 24 24\"\n",
              "       width=\"24px\">\n",
              "    <path d=\"M0 0h24v24H0V0z\" fill=\"none\"/>\n",
              "    <path d=\"M18.56 5.44l.94 2.06.94-2.06 2.06-.94-2.06-.94-.94-2.06-.94 2.06-2.06.94zm-11 1L8.5 8.5l.94-2.06 2.06-.94-2.06-.94L8.5 2.5l-.94 2.06-2.06.94zm10 10l.94 2.06.94-2.06 2.06-.94-2.06-.94-.94-2.06-.94 2.06-2.06.94z\"/><path d=\"M17.41 7.96l-1.37-1.37c-.4-.4-.92-.59-1.43-.59-.52 0-1.04.2-1.43.59L10.3 9.45l-7.72 7.72c-.78.78-.78 2.05 0 2.83L4 21.41c.39.39.9.59 1.41.59.51 0 1.02-.2 1.41-.59l7.78-7.78 2.81-2.81c.8-.78.8-2.07 0-2.86zM5.41 20L4 18.59l7.72-7.72 1.47 1.35L5.41 20z\"/>\n",
              "  </svg>\n",
              "      </button>\n",
              "      \n",
              "  <style>\n",
              "    .colab-df-container {\n",
              "      display:flex;\n",
              "      flex-wrap:wrap;\n",
              "      gap: 12px;\n",
              "    }\n",
              "\n",
              "    .colab-df-convert {\n",
              "      background-color: #E8F0FE;\n",
              "      border: none;\n",
              "      border-radius: 50%;\n",
              "      cursor: pointer;\n",
              "      display: none;\n",
              "      fill: #1967D2;\n",
              "      height: 32px;\n",
              "      padding: 0 0 0 0;\n",
              "      width: 32px;\n",
              "    }\n",
              "\n",
              "    .colab-df-convert:hover {\n",
              "      background-color: #E2EBFA;\n",
              "      box-shadow: 0px 1px 2px rgba(60, 64, 67, 0.3), 0px 1px 3px 1px rgba(60, 64, 67, 0.15);\n",
              "      fill: #174EA6;\n",
              "    }\n",
              "\n",
              "    [theme=dark] .colab-df-convert {\n",
              "      background-color: #3B4455;\n",
              "      fill: #D2E3FC;\n",
              "    }\n",
              "\n",
              "    [theme=dark] .colab-df-convert:hover {\n",
              "      background-color: #434B5C;\n",
              "      box-shadow: 0px 1px 3px 1px rgba(0, 0, 0, 0.15);\n",
              "      filter: drop-shadow(0px 1px 2px rgba(0, 0, 0, 0.3));\n",
              "      fill: #FFFFFF;\n",
              "    }\n",
              "  </style>\n",
              "\n",
              "      <script>\n",
              "        const buttonEl =\n",
              "          document.querySelector('#df-c8add5bd-6826-4b34-ab5e-14a5403ab5a4 button.colab-df-convert');\n",
              "        buttonEl.style.display =\n",
              "          google.colab.kernel.accessAllowed ? 'block' : 'none';\n",
              "\n",
              "        async function convertToInteractive(key) {\n",
              "          const element = document.querySelector('#df-c8add5bd-6826-4b34-ab5e-14a5403ab5a4');\n",
              "          const dataTable =\n",
              "            await google.colab.kernel.invokeFunction('convertToInteractive',\n",
              "                                                     [key], {});\n",
              "          if (!dataTable) return;\n",
              "\n",
              "          const docLinkHtml = 'Like what you see? Visit the ' +\n",
              "            '<a target=\"_blank\" href=https://colab.research.google.com/notebooks/data_table.ipynb>data table notebook</a>'\n",
              "            + ' to learn more about interactive tables.';\n",
              "          element.innerHTML = '';\n",
              "          dataTable['output_type'] = 'display_data';\n",
              "          await google.colab.output.renderOutput(dataTable, element);\n",
              "          const docLink = document.createElement('div');\n",
              "          docLink.innerHTML = docLinkHtml;\n",
              "          element.appendChild(docLink);\n",
              "        }\n",
              "      </script>\n",
              "    </div>\n",
              "  </div>\n",
              "  "
            ]
          },
          "metadata": {},
          "execution_count": 21
        }
      ]
    },
    {
      "cell_type": "code",
      "source": [
        "def objective_function2(params):\n",
        "    # params is a numpy array containing the Heston model parameters\n",
        "\n",
        "    # Use the neural network to predict the option price\n",
        "    with torch.no_grad():\n",
        "      price_pred = mm2(parse_input(X_input, params)).flatten().numpy()\n",
        "\n",
        "    # Calculate the squared difference between the predicted and observed prices\n",
        "    diff = price_pred - price_ft\n",
        "    squared_diff = np.mean(diff))\n",
        "\n",
        "    return squared_diff\n"
      ],
      "metadata": {
        "id": "hkypY_okCQYQ"
      },
      "execution_count": null,
      "outputs": []
    },
    {
      "cell_type": "code",
      "source": [
        "for (i, param) in zip([0, 1, 2], cal_res):\n",
        "  e_ft1 = pd.read_csv(f'/content/drive/MyDrive/practicum_data/calibrate_5k_param{i}.csv', index_col=0)\n",
        "  #X_input = torch.tensor(e_ft1.values[:,:4].astype(np.float32))\n",
        "  price_ft = e_ft1['eurocall_ft'].values.astype(np.float32)\n",
        "  print(objective_function2(param))"
      ],
      "metadata": {
        "id": "9WLTLAwZoGbo",
        "colab": {
          "base_uri": "https://localhost:8080/"
        },
        "outputId": "0bc769b2-6af1-477b-b245-723a3f45f6e1"
      },
      "execution_count": null,
      "outputs": [
        {
          "output_type": "stream",
          "name": "stdout",
          "text": [
            "0.0054077134\n",
            "0.006625282\n",
            "0.002279052\n"
          ]
        }
      ]
    },
    {
      "cell_type": "code",
      "source": [],
      "metadata": {
        "id": "hmgJzyFVCXXf"
      },
      "execution_count": null,
      "outputs": []
    }
  ]
}