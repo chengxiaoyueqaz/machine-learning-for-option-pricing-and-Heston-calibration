{
  "cells": [
    {
      "cell_type": "code",
      "execution_count": null,
      "metadata": {
        "colab": {
          "base_uri": "https://localhost:8080/"
        },
        "id": "QMkgvHq7vQwh",
        "outputId": "6b9798a9-f286-451a-e284-d022218a4ab1"
      },
      "outputs": [
        {
          "name": "stdout",
          "output_type": "stream",
          "text": [
            "Mounted at /content/drive\n"
          ]
        }
      ],
      "source": [
        "from google.colab import drive\n",
        "drive.mount('/content/drive')"
      ]
    },
    {
      "cell_type": "code",
      "execution_count": null,
      "metadata": {
        "colab": {
          "base_uri": "https://localhost:8080/"
        },
        "id": "39sR25TJY5n2",
        "outputId": "d70290a1-491f-4013-feb3-b8bf577e784c"
      },
      "outputs": [
        {
          "name": "stdout",
          "output_type": "stream",
          "text": [
            "Looking in indexes: https://pypi.org/simple, https://us-python.pkg.dev/colab-wheels/public/simple/\n",
            "Collecting QuantLib\n",
            "  Downloading QuantLib-1.29-cp39-cp39-manylinux_2_17_x86_64.manylinux2014_x86_64.whl (18.9 MB)\n",
            "\u001b[2K     \u001b[90m━━━━━━━━━━━━━━━━━━━━━━━━━━━━━━━━━━━━━━━━\u001b[0m \u001b[32m18.9/18.9 MB\u001b[0m \u001b[31m65.0 MB/s\u001b[0m eta \u001b[36m0:00:00\u001b[0m\n",
            "\u001b[?25hInstalling collected packages: QuantLib\n",
            "Successfully installed QuantLib-1.29\n"
          ]
        }
      ],
      "source": [
        "pip install QuantLib"
      ]
    },
    {
      "cell_type": "code",
      "execution_count": null,
      "metadata": {
        "id": "qW-kSf5G1YPo"
      },
      "outputs": [],
      "source": [
        "import numpy as np\n",
        "import pandas as pd\n",
        "\n",
        "import QuantLib as ql\n",
        "from scipy.optimize import minimize, differential_evolution, NonlinearConstraint\n",
        "\n",
        "import os\n",
        "os.chdir('/content/drive/MyDrive/Practicum')\n",
        "from share_funcs import *\n",
        "\n",
        "import xgboost as xgb\n",
        "import lightgbm as lgb\n",
        "\n",
        "import warnings\n",
        "warnings.filterwarnings('ignore')"
      ]
    },
    {
      "cell_type": "markdown",
      "metadata": {
        "id": "h811o25E1lQ4"
      },
      "source": [
        "# Model Calibration"
      ]
    },
    {
      "cell_type": "markdown",
      "metadata": {
        "id": "9tQ5_mEU12wf"
      },
      "source": [
        "Calibrating the Heston model is equivalent to solving the non-linear constrained optimization problem\n",
        "\n",
        "$$\n",
        "\\begin{aligned}\n",
        "& \\min _{\\Theta_{\\text {Heston }} \\in \\mathbb{R}^5} F\\left(\\Theta_{\\text {Heston }}\\right), \\\\\n",
        "& \\text { s.t. } l \\leq \\Theta_{\\text {Heston }} \\leq u, \\\\\n",
        "& \\quad f_{\\text {Feller }}\\left(\\Theta_{\\text {Heston }}\\right)<0,\n",
        "\\end{aligned}\n",
        "$$\n",
        "\n",
        "where the optimization objective function or error measure $F(\\Theta_{Heston})$ defines the distance between the value of the instruments as computed by the Heston model for the parameter set $\\Theta_{Heston} = \\{v_0, k, 0, o, p\\}$ and the corresponding market values or, as is the case in this paper, generated values. The optimization problem is subject to constraints on the parameters given by the lower (respectively upper) boundaries $l = (0, 0, 0, 0, -1)'$ and $u=(+\\infty, +\\infty, +\\infty, +\\infty, 1)'$ as well as the Feller condition $f_{Feller}(\\Theta_{Heston})= \\sigma^2- 2\\kappa \\theta < 0$."
      ]
    },
    {
      "cell_type": "markdown",
      "metadata": {
        "id": "uAm04SMV7Owp"
      },
      "source": [
        "## Procedure"
      ]
    },
    {
      "cell_type": "markdown",
      "metadata": {
        "id": "XUq9SF-I4k69"
      },
      "source": [
        "1. Define the objective function\n",
        "  $$\n",
        "  f(x) = \\sum^N_{i=1} (C_{market} - C_{Heston}(x))^2\n",
        "  $$\n",
        "  where\n",
        "  - $C_{market}$ is the observed market price of the option\n",
        "  - $C_{Heston}(x)$ is the price of the option predicted by the Heston model using parameter values x\n",
        "  - x is a vector of Heston model parameters\n",
        "\n",
        "2. Set an initial guess for the Heston parameters\n",
        "\n",
        "3. Use an optimization algorithm to find the optimal set of parameters\n",
        "\n",
        "  We can use an optimization algorithm, such as the **Levenberg-Marquardt algorithm** or **the Nelder-Mead simplex algorithm**, to find the set of Heston parameters that minimize the objective function. This involves iteratively adjusting the parameter values until the objective function is minimized.\n",
        "\n",
        "4. Evaluate the quality of the calibration\n",
        "  \n",
        "  Once the optimal set of parameters is found, we need to evaluate the quality of the calibration. This can be done by comparing the predicted option prices to the observed market prices, calculating statistical measures such as the root-mean-square error or the correlation coefficient, and examining the residuals between the predicted and observed prices.\n",
        "\n",
        "5. Refine the calibration if necessary\n",
        "\n",
        "  If the calibration is not satisfactory, we can refine it by adjusting the initial guess for the parameters or by changing the optimization algorithm or its parameters. We may also need to consider using different types of options or different maturities in the calibration process."
      ]
    },
    {
      "cell_type": "markdown",
      "metadata": {
        "id": "EvUwysXSYqiv"
      },
      "source": [
        "## European Call Option - Fourier Transform Method"
      ]
    },
    {
      "cell_type": "code",
      "execution_count": null,
      "metadata": {
        "colab": {
          "base_uri": "https://localhost:8080/"
        },
        "id": "qPe4G1biYniq",
        "outputId": "9e60be77-f445-4d9f-d925-00faa4a5e0bd"
      },
      "outputs": [
        {
          "data": {
            "text/plain": [
              "0.12374587649461455"
            ]
          },
          "execution_count": 6,
          "metadata": {},
          "output_type": "execute_result"
        }
      ],
      "source": [
        "# Generate the price of a European call option using the Fourier Transform Method with the Heston model\n",
        "def eurocall_fourier(m, T, r, q, v0, theta, kappa, sigma, rho):\n",
        "  '''\n",
        "  m: Moneyness\n",
        "  T: Time to maturity of the option\n",
        "  r: Risk-free interest rate\n",
        "  q: Dividend yield of the underlying asset\n",
        "  v0: Initial volatility of the Heston mode\n",
        "  theta: Mean reversion speed of the Heston model\n",
        "  kappa: Mean reversion level of the Heston model\n",
        "  sigma: Volatility of the Heston model\n",
        "  rho: Correlation between the asset price and volatility processes\n",
        "  '''\n",
        "\n",
        "  # Parameters\n",
        "  S0 = 1    # Current price of the underlying asset (scale)\n",
        "  K = S0 * m    # Strike price of the option\n",
        "  option_type = ql.Option.Call\n",
        "\n",
        "  # Set up the option\n",
        "  today = ql.Date.todaysDate()\n",
        "  # expiry_date = today + ql.Period(T, ql.Days)\n",
        "  expiry_date = today + ql.Period(f\"{int(T*365)}d\")\n",
        "  option = ql.VanillaOption(ql.PlainVanillaPayoff(option_type, K), ql.EuropeanExercise(expiry_date))\n",
        "\n",
        "  # Set up the Heston model\n",
        "  heston_process = ql.HestonProcess(\n",
        "      ql.YieldTermStructureHandle(ql.FlatForward(0, ql.TARGET(), r, ql.Actual365Fixed())),\n",
        "      ql.YieldTermStructureHandle(ql.FlatForward(0, ql.TARGET(), q, ql.Actual365Fixed())),\n",
        "      ql.QuoteHandle(ql.SimpleQuote(S0)),\n",
        "      v0, kappa, theta, sigma, rho\n",
        "      )\n",
        "  heston_model = ql.HestonModel(heston_process)\n",
        "\n",
        "  # Calculate the option price using the Heston model with the Fourier transform\n",
        "  heston_engine = ql.AnalyticHestonEngine(heston_model, 64)\n",
        "  option.setPricingEngine(heston_engine)\n",
        "  # print(\"The price of the European call option is:\", option.NPV())\n",
        "\n",
        "  return option.NPV()\n",
        "\n",
        "# Test\n",
        "eurocall_fourier(1.05, 2, 0.05, 0.1, 0.05, 0.25, 1.0, 0.5, -0.5)"
      ]
    },
    {
      "cell_type": "markdown",
      "metadata": {
        "id": "Hr43d-lenAOj"
      },
      "source": [
        "## Data Generation"
      ]
    },
    {
      "cell_type": "code",
      "execution_count": null,
      "metadata": {
        "id": "31HweSptnCvE"
      },
      "outputs": [],
      "source": [
        "def parameter_comb_generator(v0, theta, kappa, sigma, rho, no_of_comb):\n",
        "  np.random.seed(124)\n",
        "\n",
        "  paths = int(1.5 * no_of_comb)\n",
        "\n",
        "  g_m = np.random.uniform(0.2, 2.5, paths)\n",
        "  g_T = np.random.uniform(0.004, 2, paths)\n",
        "  g_r = np.random.uniform(0., 0.08, paths)\n",
        "  g_q = np.random.uniform(0., 0.05, paths)\n",
        "\n",
        "  para_comb = pd.DataFrame({\n",
        "      'm':g_m,\n",
        "      'T':g_T,\n",
        "      'r':g_r,\n",
        "      'q':g_q,\n",
        "      'v0':v0,\n",
        "      'theta':theta,\n",
        "      'kappa':kappa,\n",
        "      'sigma':sigma,\n",
        "      'rho':rho\n",
        "      })\n",
        "\n",
        "  # Feller condition\n",
        "  para_comb.drop(para_comb[~(para_comb.sigma**2 < 2 * para_comb.kappa * para_comb.theta)].index, inplace=True)\n",
        "  para_comb = para_comb[:no_of_comb]\n",
        "  para_comb.reset_index(inplace=True)\n",
        "  return para_comb\n",
        "\n",
        "# para_comb = parameter_comb_generator(m, T, r, q, v0, theta, kappa, sigma, rho, 100000)\n",
        "# para_comb.shape\n",
        "\n",
        "def eurocall_fourier_generator(v0, theta, kappa, sigma, rho,\n",
        "                               no_of_comb, file_name, error=1e-5):\n",
        "\n",
        "  para_comb = parameter_comb_generator(v0, theta, kappa, sigma, rho, no_of_comb)\n",
        "\n",
        "  g_eurocall = np.zeros(no_of_comb)\n",
        "  for i in range(no_of_comb):\n",
        "    call_price = eurocall_fourier(para_comb['m'][i], para_comb['T'][i], para_comb['r'][i], para_comb['q'][i],\n",
        "                                  para_comb['v0'][i], para_comb['theta'][i], para_comb['kappa'][i], para_comb['sigma'][i], para_comb['rho'][i])\n",
        "    err = call_price - .0\n",
        "    g_eurocall[i] = call_price if err > error else .0\n",
        "\n",
        "  file_path = \"/content/drive/MyDrive/Practicum/data/\" + file_name\n",
        "\n",
        "  generated_data = pd.concat([para_comb, pd.DataFrame({'eurocall_ft': g_eurocall})], axis=1)\n",
        "  generated_data.drop(['index'], axis=1, inplace=True)\n",
        "  generated_data.to_csv(file_path)\n",
        "\n",
        "  return generated_data"
      ]
    },
    {
      "cell_type": "code",
      "execution_count": null,
      "metadata": {
        "id": "_5EGGztznw9A"
      },
      "outputs": [],
      "source": [
        "# Heston Parameters\n",
        "v0 = 0.04\n",
        "theta = 0.04\n",
        "kappa = 1.5\n",
        "sigma = 0.3\n",
        "rho = -0.5\n",
        "actual_params = [v0, theta, kappa, sigma, rho]\n",
        "\n",
        "# data for pricing model\n",
        "# no_of_comb = 20000\n",
        "# e_ft_pricing = eurocall_fourier_generator(v0, theta, kappa, sigma, rho, no_of_comb, 'eft_pricing_20k.csv')\n",
        "# e_ft_pricing.head()"
      ]
    },
    {
      "cell_type": "code",
      "execution_count": null,
      "metadata": {
        "colab": {
          "base_uri": "https://localhost:8080/"
        },
        "id": "syUFEssios6J",
        "outputId": "b5739049-34e6-4cd9-8c0d-6c3258d1776b"
      },
      "outputs": [
        {
          "name": "stdout",
          "output_type": "stream",
          "text": [
            "Percentage of 0: 0.2558\n",
            "Percentage of 0 when m >= 2: 0.1584\n"
          ]
        }
      ],
      "source": [
        "# print('Percentage of 0:', e_ft_pricing[(e_ft_pricing.eurocall_ft == 0)].shape[0]/no_of_comb)\n",
        "# print('Percentage of 0 when m >= 2:', e_ft_pricing[(e_ft_pricing.eurocall_ft == 0) & (e_ft_pricing.m >= 2)].shape[0]/no_of_comb)"
      ]
    },
    {
      "cell_type": "code",
      "execution_count": null,
      "metadata": {
        "colab": {
          "base_uri": "https://localhost:8080/",
          "height": 206
        },
        "id": "w5M8SRCoVaZN",
        "outputId": "48b98a9f-daa2-47fa-f5b2-0a029bfcd219"
      },
      "outputs": [
        {
          "data": {
            "text/html": [
              "\n",
              "  <div id=\"df-fb4f8322-f71c-4f21-9c11-8c5f9d2dcea5\">\n",
              "    <div class=\"colab-df-container\">\n",
              "      <div>\n",
              "<style scoped>\n",
              "    .dataframe tbody tr th:only-of-type {\n",
              "        vertical-align: middle;\n",
              "    }\n",
              "\n",
              "    .dataframe tbody tr th {\n",
              "        vertical-align: top;\n",
              "    }\n",
              "\n",
              "    .dataframe thead th {\n",
              "        text-align: right;\n",
              "    }\n",
              "</style>\n",
              "<table border=\"1\" class=\"dataframe\">\n",
              "  <thead>\n",
              "    <tr style=\"text-align: right;\">\n",
              "      <th></th>\n",
              "      <th>m</th>\n",
              "      <th>T</th>\n",
              "      <th>r</th>\n",
              "      <th>q</th>\n",
              "      <th>v0</th>\n",
              "      <th>theta</th>\n",
              "      <th>kappa</th>\n",
              "      <th>sigma</th>\n",
              "      <th>rho</th>\n",
              "      <th>eurocall_ft</th>\n",
              "    </tr>\n",
              "  </thead>\n",
              "  <tbody>\n",
              "    <tr>\n",
              "      <th>0</th>\n",
              "      <td>0.443949</td>\n",
              "      <td>0.884297</td>\n",
              "      <td>0.019012</td>\n",
              "      <td>0.036236</td>\n",
              "      <td>0.04</td>\n",
              "      <td>0.04</td>\n",
              "      <td>1.5</td>\n",
              "      <td>0.3</td>\n",
              "      <td>-0.5</td>\n",
              "      <td>0.532060</td>\n",
              "    </tr>\n",
              "    <tr>\n",
              "      <th>1</th>\n",
              "      <td>1.914584</td>\n",
              "      <td>0.390791</td>\n",
              "      <td>0.041493</td>\n",
              "      <td>0.039068</td>\n",
              "      <td>0.04</td>\n",
              "      <td>0.04</td>\n",
              "      <td>1.5</td>\n",
              "      <td>0.3</td>\n",
              "      <td>-0.5</td>\n",
              "      <td>0.000000</td>\n",
              "    </tr>\n",
              "    <tr>\n",
              "      <th>2</th>\n",
              "      <td>1.516321</td>\n",
              "      <td>0.512961</td>\n",
              "      <td>0.053467</td>\n",
              "      <td>0.037099</td>\n",
              "      <td>0.04</td>\n",
              "      <td>0.04</td>\n",
              "      <td>1.5</td>\n",
              "      <td>0.3</td>\n",
              "      <td>-0.5</td>\n",
              "      <td>0.000027</td>\n",
              "    </tr>\n",
              "    <tr>\n",
              "      <th>3</th>\n",
              "      <td>1.253955</td>\n",
              "      <td>0.679612</td>\n",
              "      <td>0.052275</td>\n",
              "      <td>0.045176</td>\n",
              "      <td>0.04</td>\n",
              "      <td>0.04</td>\n",
              "      <td>1.5</td>\n",
              "      <td>0.3</td>\n",
              "      <td>-0.5</td>\n",
              "      <td>0.003914</td>\n",
              "    </tr>\n",
              "    <tr>\n",
              "      <th>4</th>\n",
              "      <td>1.084824</td>\n",
              "      <td>1.239035</td>\n",
              "      <td>0.079352</td>\n",
              "      <td>0.016475</td>\n",
              "      <td>0.04</td>\n",
              "      <td>0.04</td>\n",
              "      <td>1.5</td>\n",
              "      <td>0.3</td>\n",
              "      <td>-0.5</td>\n",
              "      <td>0.080850</td>\n",
              "    </tr>\n",
              "  </tbody>\n",
              "</table>\n",
              "</div>\n",
              "      <button class=\"colab-df-convert\" onclick=\"convertToInteractive('df-fb4f8322-f71c-4f21-9c11-8c5f9d2dcea5')\"\n",
              "              title=\"Convert this dataframe to an interactive table.\"\n",
              "              style=\"display:none;\">\n",
              "        \n",
              "  <svg xmlns=\"http://www.w3.org/2000/svg\" height=\"24px\"viewBox=\"0 0 24 24\"\n",
              "       width=\"24px\">\n",
              "    <path d=\"M0 0h24v24H0V0z\" fill=\"none\"/>\n",
              "    <path d=\"M18.56 5.44l.94 2.06.94-2.06 2.06-.94-2.06-.94-.94-2.06-.94 2.06-2.06.94zm-11 1L8.5 8.5l.94-2.06 2.06-.94-2.06-.94L8.5 2.5l-.94 2.06-2.06.94zm10 10l.94 2.06.94-2.06 2.06-.94-2.06-.94-.94-2.06-.94 2.06-2.06.94z\"/><path d=\"M17.41 7.96l-1.37-1.37c-.4-.4-.92-.59-1.43-.59-.52 0-1.04.2-1.43.59L10.3 9.45l-7.72 7.72c-.78.78-.78 2.05 0 2.83L4 21.41c.39.39.9.59 1.41.59.51 0 1.02-.2 1.41-.59l7.78-7.78 2.81-2.81c.8-.78.8-2.07 0-2.86zM5.41 20L4 18.59l7.72-7.72 1.47 1.35L5.41 20z\"/>\n",
              "  </svg>\n",
              "      </button>\n",
              "      \n",
              "  <style>\n",
              "    .colab-df-container {\n",
              "      display:flex;\n",
              "      flex-wrap:wrap;\n",
              "      gap: 12px;\n",
              "    }\n",
              "\n",
              "    .colab-df-convert {\n",
              "      background-color: #E8F0FE;\n",
              "      border: none;\n",
              "      border-radius: 50%;\n",
              "      cursor: pointer;\n",
              "      display: none;\n",
              "      fill: #1967D2;\n",
              "      height: 32px;\n",
              "      padding: 0 0 0 0;\n",
              "      width: 32px;\n",
              "    }\n",
              "\n",
              "    .colab-df-convert:hover {\n",
              "      background-color: #E2EBFA;\n",
              "      box-shadow: 0px 1px 2px rgba(60, 64, 67, 0.3), 0px 1px 3px 1px rgba(60, 64, 67, 0.15);\n",
              "      fill: #174EA6;\n",
              "    }\n",
              "\n",
              "    [theme=dark] .colab-df-convert {\n",
              "      background-color: #3B4455;\n",
              "      fill: #D2E3FC;\n",
              "    }\n",
              "\n",
              "    [theme=dark] .colab-df-convert:hover {\n",
              "      background-color: #434B5C;\n",
              "      box-shadow: 0px 1px 3px 1px rgba(0, 0, 0, 0.15);\n",
              "      filter: drop-shadow(0px 1px 2px rgba(0, 0, 0, 0.3));\n",
              "      fill: #FFFFFF;\n",
              "    }\n",
              "  </style>\n",
              "\n",
              "      <script>\n",
              "        const buttonEl =\n",
              "          document.querySelector('#df-fb4f8322-f71c-4f21-9c11-8c5f9d2dcea5 button.colab-df-convert');\n",
              "        buttonEl.style.display =\n",
              "          google.colab.kernel.accessAllowed ? 'block' : 'none';\n",
              "\n",
              "        async function convertToInteractive(key) {\n",
              "          const element = document.querySelector('#df-fb4f8322-f71c-4f21-9c11-8c5f9d2dcea5');\n",
              "          const dataTable =\n",
              "            await google.colab.kernel.invokeFunction('convertToInteractive',\n",
              "                                                     [key], {});\n",
              "          if (!dataTable) return;\n",
              "\n",
              "          const docLinkHtml = 'Like what you see? Visit the ' +\n",
              "            '<a target=\"_blank\" href=https://colab.research.google.com/notebooks/data_table.ipynb>data table notebook</a>'\n",
              "            + ' to learn more about interactive tables.';\n",
              "          element.innerHTML = '';\n",
              "          dataTable['output_type'] = 'display_data';\n",
              "          await google.colab.output.renderOutput(dataTable, element);\n",
              "          const docLink = document.createElement('div');\n",
              "          docLink.innerHTML = docLinkHtml;\n",
              "          element.appendChild(docLink);\n",
              "        }\n",
              "      </script>\n",
              "    </div>\n",
              "  </div>\n",
              "  "
            ],
            "text/plain": [
              "          m         T         r         q    v0  theta  kappa  sigma  rho  \\\n",
              "0  0.443949  0.884297  0.019012  0.036236  0.04   0.04    1.5    0.3 -0.5   \n",
              "1  1.914584  0.390791  0.041493  0.039068  0.04   0.04    1.5    0.3 -0.5   \n",
              "2  1.516321  0.512961  0.053467  0.037099  0.04   0.04    1.5    0.3 -0.5   \n",
              "3  1.253955  0.679612  0.052275  0.045176  0.04   0.04    1.5    0.3 -0.5   \n",
              "4  1.084824  1.239035  0.079352  0.016475  0.04   0.04    1.5    0.3 -0.5   \n",
              "\n",
              "   eurocall_ft  \n",
              "0     0.532060  \n",
              "1     0.000000  \n",
              "2     0.000027  \n",
              "3     0.003914  \n",
              "4     0.080850  "
            ]
          },
          "execution_count": 4,
          "metadata": {},
          "output_type": "execute_result"
        }
      ],
      "source": [
        "# data for calibration\n",
        "# no_of_comb = 20000\n",
        "# e_fourier_test = eurocall_fourier_generator(v0, theta, kappa, sigma, rho, no_of_comb, 'eurocall_fourier_mc_20k2.csv')\n",
        "# e_fourier_test.head()\n",
        "e_ft = pd.read_csv('/content/drive/MyDrive/Practicum/data/eurocall_fourier_mc_20k2.csv', index_col=0)\n",
        "e_ft.head()"
      ]
    },
    {
      "cell_type": "code",
      "execution_count": null,
      "metadata": {
        "colab": {
          "base_uri": "https://localhost:8080/",
          "height": 206
        },
        "id": "K5mevq0brf1l",
        "outputId": "cc89ec9d-fe93-4d20-f4f2-4087f42043f8"
      },
      "outputs": [
        {
          "data": {
            "text/html": [
              "\n",
              "  <div id=\"df-7474cf2c-5257-4448-8a33-6bf09b643390\">\n",
              "    <div class=\"colab-df-container\">\n",
              "      <div>\n",
              "<style scoped>\n",
              "    .dataframe tbody tr th:only-of-type {\n",
              "        vertical-align: middle;\n",
              "    }\n",
              "\n",
              "    .dataframe tbody tr th {\n",
              "        vertical-align: top;\n",
              "    }\n",
              "\n",
              "    .dataframe thead th {\n",
              "        text-align: right;\n",
              "    }\n",
              "</style>\n",
              "<table border=\"1\" class=\"dataframe\">\n",
              "  <thead>\n",
              "    <tr style=\"text-align: right;\">\n",
              "      <th></th>\n",
              "      <th>m</th>\n",
              "      <th>T</th>\n",
              "      <th>r</th>\n",
              "      <th>q</th>\n",
              "      <th>v0</th>\n",
              "      <th>theta</th>\n",
              "      <th>kappa</th>\n",
              "      <th>sigma</th>\n",
              "      <th>rho</th>\n",
              "      <th>eurocall_ft</th>\n",
              "    </tr>\n",
              "  </thead>\n",
              "  <tbody>\n",
              "    <tr>\n",
              "      <th>0</th>\n",
              "      <td>0.443949</td>\n",
              "      <td>1.292443</td>\n",
              "      <td>0.039235</td>\n",
              "      <td>0.027003</td>\n",
              "      <td>0.04</td>\n",
              "      <td>0.04</td>\n",
              "      <td>1.5</td>\n",
              "      <td>0.3</td>\n",
              "      <td>-0.5</td>\n",
              "      <td>0.544013</td>\n",
              "    </tr>\n",
              "    <tr>\n",
              "      <th>1</th>\n",
              "      <td>1.914584</td>\n",
              "      <td>1.441499</td>\n",
              "      <td>0.000564</td>\n",
              "      <td>0.018744</td>\n",
              "      <td>0.04</td>\n",
              "      <td>0.04</td>\n",
              "      <td>1.5</td>\n",
              "      <td>0.3</td>\n",
              "      <td>-0.5</td>\n",
              "      <td>0.000051</td>\n",
              "    </tr>\n",
              "    <tr>\n",
              "      <th>2</th>\n",
              "      <td>1.516321</td>\n",
              "      <td>0.889979</td>\n",
              "      <td>0.036836</td>\n",
              "      <td>0.014260</td>\n",
              "      <td>0.04</td>\n",
              "      <td>0.04</td>\n",
              "      <td>1.5</td>\n",
              "      <td>0.3</td>\n",
              "      <td>-0.5</td>\n",
              "      <td>0.000461</td>\n",
              "    </tr>\n",
              "    <tr>\n",
              "      <th>3</th>\n",
              "      <td>1.253955</td>\n",
              "      <td>0.009240</td>\n",
              "      <td>0.055564</td>\n",
              "      <td>0.032073</td>\n",
              "      <td>0.04</td>\n",
              "      <td>0.04</td>\n",
              "      <td>1.5</td>\n",
              "      <td>0.3</td>\n",
              "      <td>-0.5</td>\n",
              "      <td>0.000000</td>\n",
              "    </tr>\n",
              "    <tr>\n",
              "      <th>4</th>\n",
              "      <td>1.084824</td>\n",
              "      <td>0.029721</td>\n",
              "      <td>0.057135</td>\n",
              "      <td>0.014492</td>\n",
              "      <td>0.04</td>\n",
              "      <td>0.04</td>\n",
              "      <td>1.5</td>\n",
              "      <td>0.3</td>\n",
              "      <td>-0.5</td>\n",
              "      <td>0.000047</td>\n",
              "    </tr>\n",
              "  </tbody>\n",
              "</table>\n",
              "</div>\n",
              "      <button class=\"colab-df-convert\" onclick=\"convertToInteractive('df-7474cf2c-5257-4448-8a33-6bf09b643390')\"\n",
              "              title=\"Convert this dataframe to an interactive table.\"\n",
              "              style=\"display:none;\">\n",
              "        \n",
              "  <svg xmlns=\"http://www.w3.org/2000/svg\" height=\"24px\"viewBox=\"0 0 24 24\"\n",
              "       width=\"24px\">\n",
              "    <path d=\"M0 0h24v24H0V0z\" fill=\"none\"/>\n",
              "    <path d=\"M18.56 5.44l.94 2.06.94-2.06 2.06-.94-2.06-.94-.94-2.06-.94 2.06-2.06.94zm-11 1L8.5 8.5l.94-2.06 2.06-.94-2.06-.94L8.5 2.5l-.94 2.06-2.06.94zm10 10l.94 2.06.94-2.06 2.06-.94-2.06-.94-.94-2.06-.94 2.06-2.06.94z\"/><path d=\"M17.41 7.96l-1.37-1.37c-.4-.4-.92-.59-1.43-.59-.52 0-1.04.2-1.43.59L10.3 9.45l-7.72 7.72c-.78.78-.78 2.05 0 2.83L4 21.41c.39.39.9.59 1.41.59.51 0 1.02-.2 1.41-.59l7.78-7.78 2.81-2.81c.8-.78.8-2.07 0-2.86zM5.41 20L4 18.59l7.72-7.72 1.47 1.35L5.41 20z\"/>\n",
              "  </svg>\n",
              "      </button>\n",
              "      \n",
              "  <style>\n",
              "    .colab-df-container {\n",
              "      display:flex;\n",
              "      flex-wrap:wrap;\n",
              "      gap: 12px;\n",
              "    }\n",
              "\n",
              "    .colab-df-convert {\n",
              "      background-color: #E8F0FE;\n",
              "      border: none;\n",
              "      border-radius: 50%;\n",
              "      cursor: pointer;\n",
              "      display: none;\n",
              "      fill: #1967D2;\n",
              "      height: 32px;\n",
              "      padding: 0 0 0 0;\n",
              "      width: 32px;\n",
              "    }\n",
              "\n",
              "    .colab-df-convert:hover {\n",
              "      background-color: #E2EBFA;\n",
              "      box-shadow: 0px 1px 2px rgba(60, 64, 67, 0.3), 0px 1px 3px 1px rgba(60, 64, 67, 0.15);\n",
              "      fill: #174EA6;\n",
              "    }\n",
              "\n",
              "    [theme=dark] .colab-df-convert {\n",
              "      background-color: #3B4455;\n",
              "      fill: #D2E3FC;\n",
              "    }\n",
              "\n",
              "    [theme=dark] .colab-df-convert:hover {\n",
              "      background-color: #434B5C;\n",
              "      box-shadow: 0px 1px 3px 1px rgba(0, 0, 0, 0.15);\n",
              "      filter: drop-shadow(0px 1px 2px rgba(0, 0, 0, 0.3));\n",
              "      fill: #FFFFFF;\n",
              "    }\n",
              "  </style>\n",
              "\n",
              "      <script>\n",
              "        const buttonEl =\n",
              "          document.querySelector('#df-7474cf2c-5257-4448-8a33-6bf09b643390 button.colab-df-convert');\n",
              "        buttonEl.style.display =\n",
              "          google.colab.kernel.accessAllowed ? 'block' : 'none';\n",
              "\n",
              "        async function convertToInteractive(key) {\n",
              "          const element = document.querySelector('#df-7474cf2c-5257-4448-8a33-6bf09b643390');\n",
              "          const dataTable =\n",
              "            await google.colab.kernel.invokeFunction('convertToInteractive',\n",
              "                                                     [key], {});\n",
              "          if (!dataTable) return;\n",
              "\n",
              "          const docLinkHtml = 'Like what you see? Visit the ' +\n",
              "            '<a target=\"_blank\" href=https://colab.research.google.com/notebooks/data_table.ipynb>data table notebook</a>'\n",
              "            + ' to learn more about interactive tables.';\n",
              "          element.innerHTML = '';\n",
              "          dataTable['output_type'] = 'display_data';\n",
              "          await google.colab.output.renderOutput(dataTable, element);\n",
              "          const docLink = document.createElement('div');\n",
              "          docLink.innerHTML = docLinkHtml;\n",
              "          element.appendChild(docLink);\n",
              "        }\n",
              "      </script>\n",
              "    </div>\n",
              "  </div>\n",
              "  "
            ],
            "text/plain": [
              "          m         T         r         q    v0  theta  kappa  sigma  rho  \\\n",
              "0  0.443949  1.292443  0.039235  0.027003  0.04   0.04    1.5    0.3 -0.5   \n",
              "1  1.914584  1.441499  0.000564  0.018744  0.04   0.04    1.5    0.3 -0.5   \n",
              "2  1.516321  0.889979  0.036836  0.014260  0.04   0.04    1.5    0.3 -0.5   \n",
              "3  1.253955  0.009240  0.055564  0.032073  0.04   0.04    1.5    0.3 -0.5   \n",
              "4  1.084824  0.029721  0.057135  0.014492  0.04   0.04    1.5    0.3 -0.5   \n",
              "\n",
              "   eurocall_ft  \n",
              "0     0.544013  \n",
              "1     0.000051  \n",
              "2     0.000461  \n",
              "3     0.000000  \n",
              "4     0.000047  "
            ]
          },
          "execution_count": 41,
          "metadata": {},
          "output_type": "execute_result"
        }
      ],
      "source": [
        "# data for LightGBM\n",
        "no_of_comb = 5000\n",
        "e_fourier_test = eurocall_fourier_generator(v0, theta, kappa, sigma, rho, no_of_comb, 'eurocall_fourier_test.csv')\n",
        "e_fourier_test.head()"
      ]
    },
    {
      "cell_type": "markdown",
      "metadata": {
        "id": "7_dQY-M-ZXvA"
      },
      "source": [
        "## Constrained Calibration"
      ]
    },
    {
      "cell_type": "markdown",
      "metadata": {
        "id": "Ei4ovSVx6szg"
      },
      "source": [
        "### Traditional Approach"
      ]
    },
    {
      "cell_type": "code",
      "execution_count": null,
      "metadata": {
        "id": "r-S9v8FeWdCI"
      },
      "outputs": [],
      "source": [
        "# params = v0, theta, kappa, sigma, rho\n",
        "def Feller(params):\n",
        "  '''\n",
        "  params: a list of Heston model parameters [v0, theta, kappa, sigma, rho]\n",
        "  The result should be negative.\n",
        "  '''\n",
        "  _, theta, kappa, sigma, _ = params\n",
        "  return sigma**2 - 2*kappa*theta\n",
        "\n",
        "def obj_fun(params, m, T, r, q, market_price):\n",
        "  '''\n",
        "  Calculates the residuals between observed and predicted option prices\n",
        "  '''\n",
        "  v0, theta, kappa, sigma, rho = params\n",
        "  res = np.zeros_like(market_price)\n",
        "  for i in range(len(market_price)):\n",
        "    res[i] = eurocall_fourier(m[i], T[i], r[i], q[i], v0, theta, kappa, sigma, rho) - market_price[i]\n",
        "  return np.sum(res**2)\n",
        "\n",
        "def report_calibration(initial, actual, calibrated):\n",
        "  initial1 = initial + [Feller(initial)]\n",
        "  actual1 = actual + [Feller(actual)]\n",
        "  calibrated1 = np.append(calibrated, Feller(calibrated))\n",
        "  report = pd.DataFrame({\"Initial\": initial1, \"Actual\": actual1, \"Calibrated\": calibrated1},\n",
        "                        index=['v0', 'theta', 'kappa', 'sigma', 'rho', 'Feller']).round(5).T\n",
        "  return report"
      ]
    },
    {
      "cell_type": "code",
      "execution_count": null,
      "metadata": {
        "id": "X9nv-d4017ZF"
      },
      "outputs": [],
      "source": [
        "# Initial Parameters\n",
        "v00 = 0.1\n",
        "theta0 = 0.05\n",
        "kappa0 = 0.5\n",
        "sigma0 = 0.2\n",
        "rho0 = -0.7\n",
        "params0 = [v00, theta0, kappa0, sigma0, rho0]"
      ]
    },
    {
      "cell_type": "code",
      "execution_count": null,
      "metadata": {
        "colab": {
          "base_uri": "https://localhost:8080/"
        },
        "id": "HljBXgpZ_Ilu",
        "outputId": "c94234ec-c688-4df3-d1dd-81484a563c53"
      },
      "outputs": [
        {
          "name": "stderr",
          "output_type": "stream",
          "text": [
            "/usr/local/lib/python3.9/dist-packages/scipy/optimize/_optimize.py:353: RuntimeWarning: Values in x were outside bounds during a minimize step, clipping to bounds\n",
            "  warnings.warn(\"Values in x were outside bounds during a \"\n"
          ]
        },
        {
          "name": "stdout",
          "output_type": "stream",
          "text": [
            "Calibrated parameters: v0 = 0.0385, theta = 0.0444, kappa = 0.4759, sigma = 0.2055, rho = -0.4920\n"
          ]
        }
      ],
      "source": [
        "bounds = ((1e-15, 0.5), (1e-15, 2), (1e-15, 2), (1e-15, 1), (-1, 1))\n",
        "cons = {'type':'ineq', 'fun':Feller}\n",
        "params_cal = minimize(obj_fun, x0=params0,\n",
        "                      args=(e_ft['m'], e_ft['T'], e_ft['r'], e_ft['q'], e_ft['eurocall_ft']),\n",
        "                      method='SLSQP', bounds=bounds,\n",
        "                      constraints=cons, tol=1e-5, options={'maxiter':200}).x\n",
        "\n",
        "print('Calibrated parameters: v0 = %.4f, theta = %.4f, kappa = %.4f, sigma = %.4f, rho = %.4f' % tuple(params_cal))"
      ]
    },
    {
      "cell_type": "code",
      "execution_count": null,
      "metadata": {
        "colab": {
          "base_uri": "https://localhost:8080/",
          "height": 143
        },
        "id": "058fIahI9T5s",
        "outputId": "fb22b67a-e0ae-4d1b-ba23-413b221bbf2e"
      },
      "outputs": [
        {
          "data": {
            "text/html": [
              "\n",
              "  <div id=\"df-6f26da56-649a-4a7f-bdbc-8aaf039ee3bd\">\n",
              "    <div class=\"colab-df-container\">\n",
              "      <div>\n",
              "<style scoped>\n",
              "    .dataframe tbody tr th:only-of-type {\n",
              "        vertical-align: middle;\n",
              "    }\n",
              "\n",
              "    .dataframe tbody tr th {\n",
              "        vertical-align: top;\n",
              "    }\n",
              "\n",
              "    .dataframe thead th {\n",
              "        text-align: right;\n",
              "    }\n",
              "</style>\n",
              "<table border=\"1\" class=\"dataframe\">\n",
              "  <thead>\n",
              "    <tr style=\"text-align: right;\">\n",
              "      <th></th>\n",
              "      <th>v0</th>\n",
              "      <th>theta</th>\n",
              "      <th>kappa</th>\n",
              "      <th>sigma</th>\n",
              "      <th>rho</th>\n",
              "      <th>Feller</th>\n",
              "    </tr>\n",
              "  </thead>\n",
              "  <tbody>\n",
              "    <tr>\n",
              "      <th>Initial</th>\n",
              "      <td>0.10000</td>\n",
              "      <td>0.05000</td>\n",
              "      <td>0.50000</td>\n",
              "      <td>0.20000</td>\n",
              "      <td>-0.70000</td>\n",
              "      <td>-0.01</td>\n",
              "    </tr>\n",
              "    <tr>\n",
              "      <th>Actual</th>\n",
              "      <td>0.04000</td>\n",
              "      <td>0.04000</td>\n",
              "      <td>1.50000</td>\n",
              "      <td>0.30000</td>\n",
              "      <td>-0.50000</td>\n",
              "      <td>-0.03</td>\n",
              "    </tr>\n",
              "    <tr>\n",
              "      <th>Calibrated</th>\n",
              "      <td>0.03854</td>\n",
              "      <td>0.04436</td>\n",
              "      <td>0.47591</td>\n",
              "      <td>0.20548</td>\n",
              "      <td>-0.49203</td>\n",
              "      <td>0.00</td>\n",
              "    </tr>\n",
              "  </tbody>\n",
              "</table>\n",
              "</div>\n",
              "      <button class=\"colab-df-convert\" onclick=\"convertToInteractive('df-6f26da56-649a-4a7f-bdbc-8aaf039ee3bd')\"\n",
              "              title=\"Convert this dataframe to an interactive table.\"\n",
              "              style=\"display:none;\">\n",
              "        \n",
              "  <svg xmlns=\"http://www.w3.org/2000/svg\" height=\"24px\"viewBox=\"0 0 24 24\"\n",
              "       width=\"24px\">\n",
              "    <path d=\"M0 0h24v24H0V0z\" fill=\"none\"/>\n",
              "    <path d=\"M18.56 5.44l.94 2.06.94-2.06 2.06-.94-2.06-.94-.94-2.06-.94 2.06-2.06.94zm-11 1L8.5 8.5l.94-2.06 2.06-.94-2.06-.94L8.5 2.5l-.94 2.06-2.06.94zm10 10l.94 2.06.94-2.06 2.06-.94-2.06-.94-.94-2.06-.94 2.06-2.06.94z\"/><path d=\"M17.41 7.96l-1.37-1.37c-.4-.4-.92-.59-1.43-.59-.52 0-1.04.2-1.43.59L10.3 9.45l-7.72 7.72c-.78.78-.78 2.05 0 2.83L4 21.41c.39.39.9.59 1.41.59.51 0 1.02-.2 1.41-.59l7.78-7.78 2.81-2.81c.8-.78.8-2.07 0-2.86zM5.41 20L4 18.59l7.72-7.72 1.47 1.35L5.41 20z\"/>\n",
              "  </svg>\n",
              "      </button>\n",
              "      \n",
              "  <style>\n",
              "    .colab-df-container {\n",
              "      display:flex;\n",
              "      flex-wrap:wrap;\n",
              "      gap: 12px;\n",
              "    }\n",
              "\n",
              "    .colab-df-convert {\n",
              "      background-color: #E8F0FE;\n",
              "      border: none;\n",
              "      border-radius: 50%;\n",
              "      cursor: pointer;\n",
              "      display: none;\n",
              "      fill: #1967D2;\n",
              "      height: 32px;\n",
              "      padding: 0 0 0 0;\n",
              "      width: 32px;\n",
              "    }\n",
              "\n",
              "    .colab-df-convert:hover {\n",
              "      background-color: #E2EBFA;\n",
              "      box-shadow: 0px 1px 2px rgba(60, 64, 67, 0.3), 0px 1px 3px 1px rgba(60, 64, 67, 0.15);\n",
              "      fill: #174EA6;\n",
              "    }\n",
              "\n",
              "    [theme=dark] .colab-df-convert {\n",
              "      background-color: #3B4455;\n",
              "      fill: #D2E3FC;\n",
              "    }\n",
              "\n",
              "    [theme=dark] .colab-df-convert:hover {\n",
              "      background-color: #434B5C;\n",
              "      box-shadow: 0px 1px 3px 1px rgba(0, 0, 0, 0.15);\n",
              "      filter: drop-shadow(0px 1px 2px rgba(0, 0, 0, 0.3));\n",
              "      fill: #FFFFFF;\n",
              "    }\n",
              "  </style>\n",
              "\n",
              "      <script>\n",
              "        const buttonEl =\n",
              "          document.querySelector('#df-6f26da56-649a-4a7f-bdbc-8aaf039ee3bd button.colab-df-convert');\n",
              "        buttonEl.style.display =\n",
              "          google.colab.kernel.accessAllowed ? 'block' : 'none';\n",
              "\n",
              "        async function convertToInteractive(key) {\n",
              "          const element = document.querySelector('#df-6f26da56-649a-4a7f-bdbc-8aaf039ee3bd');\n",
              "          const dataTable =\n",
              "            await google.colab.kernel.invokeFunction('convertToInteractive',\n",
              "                                                     [key], {});\n",
              "          if (!dataTable) return;\n",
              "\n",
              "          const docLinkHtml = 'Like what you see? Visit the ' +\n",
              "            '<a target=\"_blank\" href=https://colab.research.google.com/notebooks/data_table.ipynb>data table notebook</a>'\n",
              "            + ' to learn more about interactive tables.';\n",
              "          element.innerHTML = '';\n",
              "          dataTable['output_type'] = 'display_data';\n",
              "          await google.colab.output.renderOutput(dataTable, element);\n",
              "          const docLink = document.createElement('div');\n",
              "          docLink.innerHTML = docLinkHtml;\n",
              "          element.appendChild(docLink);\n",
              "        }\n",
              "      </script>\n",
              "    </div>\n",
              "  </div>\n",
              "  "
            ],
            "text/plain": [
              "                 v0    theta    kappa    sigma      rho  Feller\n",
              "Initial     0.10000  0.05000  0.50000  0.20000 -0.70000   -0.01\n",
              "Actual      0.04000  0.04000  1.50000  0.30000 -0.50000   -0.03\n",
              "Calibrated  0.03854  0.04436  0.47591  0.20548 -0.49203    0.00"
            ]
          },
          "execution_count": 54,
          "metadata": {},
          "output_type": "execute_result"
        }
      ],
      "source": [
        "report_calibration(params0, actual_params, params_cal)"
      ]
    },
    {
      "cell_type": "markdown",
      "metadata": {
        "id": "8MTlvIwFP-cw"
      },
      "source": [
        "### XGB"
      ]
    },
    {
      "cell_type": "code",
      "execution_count": null,
      "metadata": {
        "id": "eN6iJyaabUNr"
      },
      "outputs": [],
      "source": [
        "e_ft_data = pd.read_csv('/content/drive/MyDrive/Practicum/data/eurocall_fourier_100k_final.csv', index_col=0)\n",
        "X = e_ft_data.drop(['eurocall_ft'], axis=1)\n",
        "y = e_ft_data['eurocall_ft']\n",
        "X_train, X_test, y_train, y_test = train_test_split(X, y, test_size=0.3, random_state=10)"
      ]
    },
    {
      "cell_type": "code",
      "execution_count": null,
      "metadata": {
        "colab": {
          "base_uri": "https://localhost:8080/"
        },
        "id": "IWhHxGrma8YC",
        "outputId": "965790a6-8a23-4c4e-c9f1-22c84f805441"
      },
      "outputs": [
        {
          "name": "stdout",
          "output_type": "stream",
          "text": [
            "Current Best XGB Performance:\n",
            "XGBRegressor(base_score=None, booster=None, callbacks=None,\n",
            "             colsample_bylevel=None, colsample_bynode=None,\n",
            "             colsample_bytree=0.9, early_stopping_rounds=None,\n",
            "             enable_categorical=False, eta=0.05, eval_metric=None,\n",
            "             feature_types=None, gamma=0, gpu_id=None, grow_policy=None,\n",
            "             importance_type=None, interaction_constraints=None,\n",
            "             learning_rate=None, max_bin=None, max_cat_threshold=None,\n",
            "             max_cat_to_onehot=None, max_delta_step=None, max_depth=6,\n",
            "             max_leaves=None, min_child_weight=2, missing=nan,\n",
            "             monotone_constraints=None, n_estimators=3000, n_jobs=None,\n",
            "             num_parallel_tree=None, predictor=None, ...)\n",
            "Train Set rmse:  0.00291\n",
            "XGB rmse:  0.00617 mae: 0.00414\n",
            "XGB r2:  0.99896\n"
          ]
        }
      ],
      "source": [
        "xgb1 = train_best_reg(xgb.XGBRegressor, X_train, y_train, X_test, y_test,\n",
        "                      'XGB', **{'colsample_bytree': 0.9, 'eta': 0.05, 'gamma': 0, 'reg_alpha': 0,\n",
        "                                'reg_lambda': 0, 'min_child_weight': 2, 'n_estimators': 3000, 'max_depth':6})"
      ]
    },
    {
      "cell_type": "code",
      "execution_count": null,
      "metadata": {
        "id": "7gBzfrfDedGW"
      },
      "outputs": [],
      "source": [
        "# xgb1.save_model(\"model.json\")\n",
        "xgb1 = xgb.XGBRegressor(**{'colsample_bytree': 0.9, 'eta': 0.05, 'gamma': 0, 'reg_alpha': 0,\n",
        "                           'reg_lambda': 0, 'min_child_weight': 2, 'n_estimators': 3000, 'max_depth':6})\n",
        "xgb1.load_model(\"model.json\")"
      ]
    },
    {
      "cell_type": "code",
      "execution_count": null,
      "metadata": {
        "id": "SmpNso1CTrs5"
      },
      "outputs": [],
      "source": [
        "def obj_fun_xgb(params, data):\n",
        "  v0, theta, kappa, sigma, rho = params\n",
        "  data_set = np.empty((data.shape[0], 9))\n",
        "  data_set[:,:4] = data.iloc[:,:4]\n",
        "  data_set[:,4:] = params\n",
        "  market_price = data.iloc[:,-1]\n",
        "  model_price = xgb1.predict(data_set)\n",
        "  return np.mean((market_price - model_price)**2)"
      ]
    },
    {
      "cell_type": "code",
      "execution_count": null,
      "metadata": {
        "colab": {
          "base_uri": "https://localhost:8080/"
        },
        "id": "FvYKUJd3VvQ7",
        "outputId": "76d78327-68c0-4423-8e48-3b03d62ed42f"
      },
      "outputs": [
        {
          "name": "stderr",
          "output_type": "stream",
          "text": [
            "/usr/local/lib/python3.9/dist-packages/scipy/optimize/_hessian_update_strategy.py:182: UserWarning: delta_grad == 0.0. Check if the approximated function is linear. If the function is linear better results can be obtained by defining the Hessian as zero instead of using quasi-Newton approximations.\n",
            "  warn('delta_grad == 0.0. Check if the approximated '\n"
          ]
        },
        {
          "name": "stdout",
          "output_type": "stream",
          "text": [
            "Calibrated parameters - XGB: v0 = 0.0557, theta = 0.0785, kappa = 0.0270, sigma = 0.0540, rho = 0.6100\n"
          ]
        }
      ],
      "source": [
        "bounds = [(1e-15, 0.5), (1e-15, 2), (1e-15, 2), (1e-15, 1), (-1, 1)]\n",
        "nlc = NonlinearConstraint(Feller, -np.inf, 0)\n",
        "xgb_params_cal = differential_evolution(obj_fun_xgb, bounds=bounds, args=(e_ft,),\n",
        "                                        maxiter=300, tol=1e-5, constraints=nlc, x0=params0).x\n",
        "print('Calibrated parameters - XGB: v0 = %.4f, theta = %.4f, kappa = %.4f, sigma = %.4f, rho = %.4f' % tuple(xgb_params_cal))"
      ]
    },
    {
      "cell_type": "code",
      "execution_count": null,
      "metadata": {
        "colab": {
          "base_uri": "https://localhost:8080/",
          "height": 143
        },
        "id": "RDG8o5X0XW9e",
        "outputId": "5ab9a425-38e8-4ad0-abb9-1c1074309082"
      },
      "outputs": [
        {
          "data": {
            "text/html": [
              "\n",
              "  <div id=\"df-ab95b734-d9a6-4cd4-9267-ea052d5a670a\">\n",
              "    <div class=\"colab-df-container\">\n",
              "      <div>\n",
              "<style scoped>\n",
              "    .dataframe tbody tr th:only-of-type {\n",
              "        vertical-align: middle;\n",
              "    }\n",
              "\n",
              "    .dataframe tbody tr th {\n",
              "        vertical-align: top;\n",
              "    }\n",
              "\n",
              "    .dataframe thead th {\n",
              "        text-align: right;\n",
              "    }\n",
              "</style>\n",
              "<table border=\"1\" class=\"dataframe\">\n",
              "  <thead>\n",
              "    <tr style=\"text-align: right;\">\n",
              "      <th></th>\n",
              "      <th>v0</th>\n",
              "      <th>theta</th>\n",
              "      <th>kappa</th>\n",
              "      <th>sigma</th>\n",
              "      <th>rho</th>\n",
              "      <th>Feller</th>\n",
              "    </tr>\n",
              "  </thead>\n",
              "  <tbody>\n",
              "    <tr>\n",
              "      <th>Initial</th>\n",
              "      <td>0.10000</td>\n",
              "      <td>0.05000</td>\n",
              "      <td>0.50000</td>\n",
              "      <td>0.20000</td>\n",
              "      <td>-0.70</td>\n",
              "      <td>-0.01000</td>\n",
              "    </tr>\n",
              "    <tr>\n",
              "      <th>Actual</th>\n",
              "      <td>0.04000</td>\n",
              "      <td>0.04000</td>\n",
              "      <td>1.50000</td>\n",
              "      <td>0.30000</td>\n",
              "      <td>-0.50</td>\n",
              "      <td>-0.03000</td>\n",
              "    </tr>\n",
              "    <tr>\n",
              "      <th>Calibrated</th>\n",
              "      <td>0.05571</td>\n",
              "      <td>0.07846</td>\n",
              "      <td>0.02703</td>\n",
              "      <td>0.05395</td>\n",
              "      <td>0.61</td>\n",
              "      <td>-0.00133</td>\n",
              "    </tr>\n",
              "  </tbody>\n",
              "</table>\n",
              "</div>\n",
              "      <button class=\"colab-df-convert\" onclick=\"convertToInteractive('df-ab95b734-d9a6-4cd4-9267-ea052d5a670a')\"\n",
              "              title=\"Convert this dataframe to an interactive table.\"\n",
              "              style=\"display:none;\">\n",
              "        \n",
              "  <svg xmlns=\"http://www.w3.org/2000/svg\" height=\"24px\"viewBox=\"0 0 24 24\"\n",
              "       width=\"24px\">\n",
              "    <path d=\"M0 0h24v24H0V0z\" fill=\"none\"/>\n",
              "    <path d=\"M18.56 5.44l.94 2.06.94-2.06 2.06-.94-2.06-.94-.94-2.06-.94 2.06-2.06.94zm-11 1L8.5 8.5l.94-2.06 2.06-.94-2.06-.94L8.5 2.5l-.94 2.06-2.06.94zm10 10l.94 2.06.94-2.06 2.06-.94-2.06-.94-.94-2.06-.94 2.06-2.06.94z\"/><path d=\"M17.41 7.96l-1.37-1.37c-.4-.4-.92-.59-1.43-.59-.52 0-1.04.2-1.43.59L10.3 9.45l-7.72 7.72c-.78.78-.78 2.05 0 2.83L4 21.41c.39.39.9.59 1.41.59.51 0 1.02-.2 1.41-.59l7.78-7.78 2.81-2.81c.8-.78.8-2.07 0-2.86zM5.41 20L4 18.59l7.72-7.72 1.47 1.35L5.41 20z\"/>\n",
              "  </svg>\n",
              "      </button>\n",
              "      \n",
              "  <style>\n",
              "    .colab-df-container {\n",
              "      display:flex;\n",
              "      flex-wrap:wrap;\n",
              "      gap: 12px;\n",
              "    }\n",
              "\n",
              "    .colab-df-convert {\n",
              "      background-color: #E8F0FE;\n",
              "      border: none;\n",
              "      border-radius: 50%;\n",
              "      cursor: pointer;\n",
              "      display: none;\n",
              "      fill: #1967D2;\n",
              "      height: 32px;\n",
              "      padding: 0 0 0 0;\n",
              "      width: 32px;\n",
              "    }\n",
              "\n",
              "    .colab-df-convert:hover {\n",
              "      background-color: #E2EBFA;\n",
              "      box-shadow: 0px 1px 2px rgba(60, 64, 67, 0.3), 0px 1px 3px 1px rgba(60, 64, 67, 0.15);\n",
              "      fill: #174EA6;\n",
              "    }\n",
              "\n",
              "    [theme=dark] .colab-df-convert {\n",
              "      background-color: #3B4455;\n",
              "      fill: #D2E3FC;\n",
              "    }\n",
              "\n",
              "    [theme=dark] .colab-df-convert:hover {\n",
              "      background-color: #434B5C;\n",
              "      box-shadow: 0px 1px 3px 1px rgba(0, 0, 0, 0.15);\n",
              "      filter: drop-shadow(0px 1px 2px rgba(0, 0, 0, 0.3));\n",
              "      fill: #FFFFFF;\n",
              "    }\n",
              "  </style>\n",
              "\n",
              "      <script>\n",
              "        const buttonEl =\n",
              "          document.querySelector('#df-ab95b734-d9a6-4cd4-9267-ea052d5a670a button.colab-df-convert');\n",
              "        buttonEl.style.display =\n",
              "          google.colab.kernel.accessAllowed ? 'block' : 'none';\n",
              "\n",
              "        async function convertToInteractive(key) {\n",
              "          const element = document.querySelector('#df-ab95b734-d9a6-4cd4-9267-ea052d5a670a');\n",
              "          const dataTable =\n",
              "            await google.colab.kernel.invokeFunction('convertToInteractive',\n",
              "                                                     [key], {});\n",
              "          if (!dataTable) return;\n",
              "\n",
              "          const docLinkHtml = 'Like what you see? Visit the ' +\n",
              "            '<a target=\"_blank\" href=https://colab.research.google.com/notebooks/data_table.ipynb>data table notebook</a>'\n",
              "            + ' to learn more about interactive tables.';\n",
              "          element.innerHTML = '';\n",
              "          dataTable['output_type'] = 'display_data';\n",
              "          await google.colab.output.renderOutput(dataTable, element);\n",
              "          const docLink = document.createElement('div');\n",
              "          docLink.innerHTML = docLinkHtml;\n",
              "          element.appendChild(docLink);\n",
              "        }\n",
              "      </script>\n",
              "    </div>\n",
              "  </div>\n",
              "  "
            ],
            "text/plain": [
              "                 v0    theta    kappa    sigma   rho   Feller\n",
              "Initial     0.10000  0.05000  0.50000  0.20000 -0.70 -0.01000\n",
              "Actual      0.04000  0.04000  1.50000  0.30000 -0.50 -0.03000\n",
              "Calibrated  0.05571  0.07846  0.02703  0.05395  0.61 -0.00133"
            ]
          },
          "execution_count": 25,
          "metadata": {},
          "output_type": "execute_result"
        }
      ],
      "source": [
        "report_calibration(params0, actual_params, xgb_params_cal)"
      ]
    },
    {
      "cell_type": "code",
      "execution_count": null,
      "metadata": {
        "id": "iScPJXz38NX-"
      },
      "outputs": [],
      "source": [
        "no_of_comb = 20000\n",
        "e_fourier_test3 = eurocall_fourier_generator(v0, theta, kappa, sigma, rho, no_of_comb, 'eurocall_fourier_test3.csv')\n",
        "\n",
        "e_ft_data = pd.read_csv('/content/drive/MyDrive/Practicum/data/eurocall_fourier_test3.csv', index_col=0)\n",
        "X = e_ft_data.drop(['eurocall_ft'], axis=1)\n",
        "y = e_ft_data['eurocall_ft']\n",
        "X_train, X_test, y_train, y_test = train_test_split(X, y, test_size=0.3, random_state=10)\n",
        "\n",
        "xgb2 = xgb.XGBRegressor(**{'colsample_bytree': 0.9, 'eta': 0.05, 'gamma': 0, 'reg_alpha': 0,\n",
        "                           'reg_lambda': 0, 'min_child_weight': 2, 'n_estimators': 3000, 'max_depth':6})\n",
        "\n",
        "def obj_fun_xgb(params, data):\n",
        "  v0, theta, kappa, sigma, rho = params\n",
        "  data_set = np.empty((data.shape[0], 9))\n",
        "  data_set[:,:4] = data.iloc[:,:4]\n",
        "  data_set[:,4:] = params\n",
        "  market_price = data.iloc[:,-1]\n",
        "  model_price = xgb2.predict(data_set)\n",
        "  return np.mean((market_price - model_price)**2)\n",
        "\n",
        "bounds = [(1e-15, 0.5), (1e-15, 2), (1e-15, 2), (1e-15, 1), (-1, 1)]\n",
        "nlc = NonlinearConstraint(Feller, -np.inf, 0)\n",
        "xgb_params_cal = differential_evolution(obj_fun_xgb, bounds=bounds, args=(e_fourier_test3,),\n",
        "                                        maxiter=300, tol=1e-5, constraints=nlc, x0=params0).x\n",
        "print('Calibrated parameters - XGB: v0 = %.4f, theta = %.4f, kappa = %.4f, sigma = %.4f, rho = %.4f' % tuple(xgb_params_cal))"
      ]
    },
    {
      "cell_type": "code",
      "execution_count": null,
      "metadata": {
        "id": "YtHRDRD88rhF"
      },
      "outputs": [],
      "source": []
    },
    {
      "cell_type": "markdown",
      "metadata": {
        "id": "MaIJCqF2ZdIy"
      },
      "source": [
        "### LightGBM"
      ]
    },
    {
      "cell_type": "code",
      "execution_count": null,
      "metadata": {
        "id": "Zk24J8G2q6qs"
      },
      "outputs": [],
      "source": [
        "e_ft_data = pd.read_csv('/content/drive/MyDrive/Practicum/data/eurocall_fourier_100k_final.csv', index_col=0)\n",
        "X = e_ft_data.drop(['eurocall_ft'], axis=1)\n",
        "y = e_ft_data['eurocall_ft']\n",
        "X_train, X_test, y_train, y_test = train_test_split(X, y, test_size=0.3, random_state=10)"
      ]
    },
    {
      "cell_type": "code",
      "execution_count": null,
      "metadata": {
        "colab": {
          "base_uri": "https://localhost:8080/"
        },
        "id": "Arh5iHC1cYhb",
        "outputId": "601ed54f-8e87-4bb4-ea4e-d5737c007311"
      },
      "outputs": [
        {
          "name": "stdout",
          "output_type": "stream",
          "text": [
            "Current Best LGB Performance:\n",
            "LGBMRegressor(colsample_bytree=0.8, learning_rate=0.05, max_depth=8,\n",
            "              n_estimators=6000, num_leaves=30, reg_alpha=0.08, reg_lambda=0.5,\n",
            "              subsample=0.6)\n",
            "Train Set rmse:  0.00283\n",
            "LGB rmse:  0.00527 mae: 0.00345\n",
            "LGB r2:  0.99924\n"
          ]
        }
      ],
      "source": [
        "lgb1 = train_best_reg(lgb.LGBMRegressor, X_train, y_train, X_test, y_test,\n",
        "                      'LGB', **{'colsample_bytree': 0.8, 'learning_rate': 0.05, 'num_leaves': 30, 'reg_alpha': 0.08,\n",
        "                                'reg_lambda': 0.5, 'subsample': 0.6, 'n_estimators': 6000, 'max_depth':8})"
      ]
    },
    {
      "cell_type": "code",
      "execution_count": null,
      "metadata": {
        "id": "dGXcViDiZUCP"
      },
      "outputs": [],
      "source": [
        "def obj_fun_lgb(params, data):\n",
        "  v0, theta, kappa, sigma, rho = params\n",
        "  data_set = np.empty((data.shape[0], 9))\n",
        "  data_set[:,:4] = data.iloc[:,:4]\n",
        "  data_set[:,4:] = params\n",
        "  market_price = data.iloc[:,-1]\n",
        "  model_price = lgb1.predict(data_set)\n",
        "  return np.mean((market_price - model_price)**2)"
      ]
    },
    {
      "cell_type": "code",
      "execution_count": null,
      "metadata": {
        "colab": {
          "background_save": true
        },
        "id": "_fD64NJkc_ff",
        "outputId": "73e1da17-a677-4c2d-ea87-0c8a928d632c"
      },
      "outputs": [
        {
          "name": "stdout",
          "output_type": "stream",
          "text": [
            "Calibrated parameters - LGB: v0 = 0.0377, theta = 0.0812, kappa = 0.0925, sigma = 0.1114, rho = 0.6158\n"
          ]
        }
      ],
      "source": [
        "bounds = [(1e-15, 0.5), (1e-15, 2), (1e-15, 2), (1e-15, 1), (-1, 1)]\n",
        "nlc = NonlinearConstraint(Feller, -np.inf, 0)\n",
        "lgb_params_cal = differential_evolution(obj_fun_lgb, bounds=bounds, args=(e_fourier_test,),\n",
        "                                        maxiter=200, tol=1e-5, constraints=nlc, x0=params0).x\n",
        "print('Calibrated parameters - LGB: v0 = %.4f, theta = %.4f, kappa = %.4f, sigma = %.4f, rho = %.4f' % tuple(lgb_params_cal))"
      ]
    },
    {
      "cell_type": "code",
      "execution_count": null,
      "metadata": {
        "colab": {
          "background_save": true
        },
        "id": "dtQn7wZZKxFS",
        "outputId": "9e557b2c-c578-491b-aa50-2b1da38bc3c5"
      },
      "outputs": [
        {
          "data": {
            "text/html": [
              "\n",
              "  <div id=\"df-19e97100-df3d-491e-ac92-917e5834f00e\">\n",
              "    <div class=\"colab-df-container\">\n",
              "      <div>\n",
              "<style scoped>\n",
              "    .dataframe tbody tr th:only-of-type {\n",
              "        vertical-align: middle;\n",
              "    }\n",
              "\n",
              "    .dataframe tbody tr th {\n",
              "        vertical-align: top;\n",
              "    }\n",
              "\n",
              "    .dataframe thead th {\n",
              "        text-align: right;\n",
              "    }\n",
              "</style>\n",
              "<table border=\"1\" class=\"dataframe\">\n",
              "  <thead>\n",
              "    <tr style=\"text-align: right;\">\n",
              "      <th></th>\n",
              "      <th>v0</th>\n",
              "      <th>theta</th>\n",
              "      <th>kappa</th>\n",
              "      <th>sigma</th>\n",
              "      <th>rho</th>\n",
              "      <th>Feller</th>\n",
              "    </tr>\n",
              "  </thead>\n",
              "  <tbody>\n",
              "    <tr>\n",
              "      <th>Initial</th>\n",
              "      <td>0.1000</td>\n",
              "      <td>0.05000</td>\n",
              "      <td>0.50000</td>\n",
              "      <td>0.20000</td>\n",
              "      <td>-0.70000</td>\n",
              "      <td>-0.01000</td>\n",
              "    </tr>\n",
              "    <tr>\n",
              "      <th>Actual</th>\n",
              "      <td>0.0400</td>\n",
              "      <td>0.04000</td>\n",
              "      <td>1.50000</td>\n",
              "      <td>0.30000</td>\n",
              "      <td>-0.50000</td>\n",
              "      <td>-0.03000</td>\n",
              "    </tr>\n",
              "    <tr>\n",
              "      <th>Calibrated</th>\n",
              "      <td>0.0377</td>\n",
              "      <td>0.08122</td>\n",
              "      <td>0.09245</td>\n",
              "      <td>0.11137</td>\n",
              "      <td>0.61584</td>\n",
              "      <td>-0.00262</td>\n",
              "    </tr>\n",
              "  </tbody>\n",
              "</table>\n",
              "</div>\n",
              "      <button class=\"colab-df-convert\" onclick=\"convertToInteractive('df-19e97100-df3d-491e-ac92-917e5834f00e')\"\n",
              "              title=\"Convert this dataframe to an interactive table.\"\n",
              "              style=\"display:none;\">\n",
              "        \n",
              "  <svg xmlns=\"http://www.w3.org/2000/svg\" height=\"24px\"viewBox=\"0 0 24 24\"\n",
              "       width=\"24px\">\n",
              "    <path d=\"M0 0h24v24H0V0z\" fill=\"none\"/>\n",
              "    <path d=\"M18.56 5.44l.94 2.06.94-2.06 2.06-.94-2.06-.94-.94-2.06-.94 2.06-2.06.94zm-11 1L8.5 8.5l.94-2.06 2.06-.94-2.06-.94L8.5 2.5l-.94 2.06-2.06.94zm10 10l.94 2.06.94-2.06 2.06-.94-2.06-.94-.94-2.06-.94 2.06-2.06.94z\"/><path d=\"M17.41 7.96l-1.37-1.37c-.4-.4-.92-.59-1.43-.59-.52 0-1.04.2-1.43.59L10.3 9.45l-7.72 7.72c-.78.78-.78 2.05 0 2.83L4 21.41c.39.39.9.59 1.41.59.51 0 1.02-.2 1.41-.59l7.78-7.78 2.81-2.81c.8-.78.8-2.07 0-2.86zM5.41 20L4 18.59l7.72-7.72 1.47 1.35L5.41 20z\"/>\n",
              "  </svg>\n",
              "      </button>\n",
              "      \n",
              "  <style>\n",
              "    .colab-df-container {\n",
              "      display:flex;\n",
              "      flex-wrap:wrap;\n",
              "      gap: 12px;\n",
              "    }\n",
              "\n",
              "    .colab-df-convert {\n",
              "      background-color: #E8F0FE;\n",
              "      border: none;\n",
              "      border-radius: 50%;\n",
              "      cursor: pointer;\n",
              "      display: none;\n",
              "      fill: #1967D2;\n",
              "      height: 32px;\n",
              "      padding: 0 0 0 0;\n",
              "      width: 32px;\n",
              "    }\n",
              "\n",
              "    .colab-df-convert:hover {\n",
              "      background-color: #E2EBFA;\n",
              "      box-shadow: 0px 1px 2px rgba(60, 64, 67, 0.3), 0px 1px 3px 1px rgba(60, 64, 67, 0.15);\n",
              "      fill: #174EA6;\n",
              "    }\n",
              "\n",
              "    [theme=dark] .colab-df-convert {\n",
              "      background-color: #3B4455;\n",
              "      fill: #D2E3FC;\n",
              "    }\n",
              "\n",
              "    [theme=dark] .colab-df-convert:hover {\n",
              "      background-color: #434B5C;\n",
              "      box-shadow: 0px 1px 3px 1px rgba(0, 0, 0, 0.15);\n",
              "      filter: drop-shadow(0px 1px 2px rgba(0, 0, 0, 0.3));\n",
              "      fill: #FFFFFF;\n",
              "    }\n",
              "  </style>\n",
              "\n",
              "      <script>\n",
              "        const buttonEl =\n",
              "          document.querySelector('#df-19e97100-df3d-491e-ac92-917e5834f00e button.colab-df-convert');\n",
              "        buttonEl.style.display =\n",
              "          google.colab.kernel.accessAllowed ? 'block' : 'none';\n",
              "\n",
              "        async function convertToInteractive(key) {\n",
              "          const element = document.querySelector('#df-19e97100-df3d-491e-ac92-917e5834f00e');\n",
              "          const dataTable =\n",
              "            await google.colab.kernel.invokeFunction('convertToInteractive',\n",
              "                                                     [key], {});\n",
              "          if (!dataTable) return;\n",
              "\n",
              "          const docLinkHtml = 'Like what you see? Visit the ' +\n",
              "            '<a target=\"_blank\" href=https://colab.research.google.com/notebooks/data_table.ipynb>data table notebook</a>'\n",
              "            + ' to learn more about interactive tables.';\n",
              "          element.innerHTML = '';\n",
              "          dataTable['output_type'] = 'display_data';\n",
              "          await google.colab.output.renderOutput(dataTable, element);\n",
              "          const docLink = document.createElement('div');\n",
              "          docLink.innerHTML = docLinkHtml;\n",
              "          element.appendChild(docLink);\n",
              "        }\n",
              "      </script>\n",
              "    </div>\n",
              "  </div>\n",
              "  "
            ],
            "text/plain": [
              "                v0    theta    kappa    sigma      rho   Feller\n",
              "Initial     0.1000  0.05000  0.50000  0.20000 -0.70000 -0.01000\n",
              "Actual      0.0400  0.04000  1.50000  0.30000 -0.50000 -0.03000\n",
              "Calibrated  0.0377  0.08122  0.09245  0.11137  0.61584 -0.00262"
            ]
          },
          "execution_count": 44,
          "metadata": {},
          "output_type": "execute_result"
        }
      ],
      "source": [
        "report_calibration(params0, actual_params, lgb_params_cal)"
      ]
    },
    {
      "cell_type": "code",
      "execution_count": null,
      "metadata": {
        "id": "eqZ2ihY5vYem"
      },
      "outputs": [],
      "source": [
        "no_of_comb = 20000\n",
        "e_fourier_test2 = eurocall_fourier_generator(v0, theta, kappa, sigma, rho, no_of_comb, 'eurocall_fourier_test2.csv')\n",
        "\n",
        "e_ft_data = pd.read_csv('/content/drive/MyDrive/Practicum/data/eurocall_fourier_test2.csv', index_col=0)\n",
        "X = e_ft_data.drop(['eurocall_ft'], axis=1)\n",
        "y = e_ft_data['eurocall_ft']\n",
        "X_train, X_test, y_train, y_test = train_test_split(X, y, test_size=0.3, random_state=10)\n",
        "\n",
        "lgb2 = train_best_reg(lgb.LGBMRegressor, X_train, y_train, X_test, y_test,\n",
        "                      'LGB', **{'colsample_bytree': 0.8, 'learning_rate': 0.05, 'num_leaves': 30, 'reg_alpha': 0.08,\n",
        "                                'reg_lambda': 0.5, 'subsample': 0.6, 'n_estimators': 6000, 'max_depth':8})\n",
        "\n",
        "def obj_fun_lgb(params, data):\n",
        "  v0, theta, kappa, sigma, rho = params\n",
        "  data_set = np.empty((data.shape[0], 9))\n",
        "  data_set[:,:4] = data.iloc[:,:4]\n",
        "  data_set[:,4:] = params\n",
        "  market_price = data.iloc[:,-1]\n",
        "  model_price = lgb2.predict(data_set)\n",
        "  return np.mean((market_price - model_price)**2)\n",
        "\n",
        "bounds = [(1e-15, 0.5), (1e-15, 2), (1e-15, 2), (1e-15, 1), (-1, 1)]\n",
        "nlc = NonlinearConstraint(Feller, -np.inf, 0)\n",
        "lgb_params_cal = differential_evolution(obj_fun_lgb, bounds=bounds, args=(e_fourier_test2,),\n",
        "                                        maxiter=200, tol=1e-5, constraints=nlc, x0=params0).x\n",
        "print('Calibrated parameters - LGB: v0 = %.4f, theta = %.4f, kappa = %.4f, sigma = %.4f, rho = %.4f' % tuple(lgb_params_cal))"
      ]
    },
    {
      "cell_type": "code",
      "execution_count": null,
      "metadata": {
        "id": "SH4ihQmzx6BS"
      },
      "outputs": [],
      "source": [
        "report_calibration(params0, actual_params, lgb_params_cal)"
      ]
    },
    {
      "cell_type": "code",
      "execution_count": null,
      "metadata": {
        "id": "GsCj32wF4ngY"
      },
      "outputs": [],
      "source": []
    }
  ],
  "metadata": {
    "colab": {
      "provenance": []
    },
    "kernelspec": {
      "display_name": "Python 3",
      "name": "python3"
    },
    "language_info": {
      "name": "python"
    }
  },
  "nbformat": 4,
  "nbformat_minor": 0
}