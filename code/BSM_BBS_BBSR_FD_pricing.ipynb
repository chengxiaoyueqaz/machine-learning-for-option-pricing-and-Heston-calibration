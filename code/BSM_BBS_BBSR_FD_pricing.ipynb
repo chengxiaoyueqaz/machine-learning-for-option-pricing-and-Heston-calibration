{
  "cells": [
    {
      "cell_type": "code",
      "execution_count": null,
      "metadata": {
        "colab": {
          "base_uri": "https://localhost:8080/"
        },
        "id": "FLfUa8w8ijno",
        "outputId": "496c7aae-c50b-43d1-ecd0-ebacd5b7ae8f"
      },
      "outputs": [
        {
          "output_type": "stream",
          "name": "stdout",
          "text": [
            "Looking in indexes: https://pypi.org/simple, https://us-python.pkg.dev/colab-wheels/public/simple/\n",
            "Collecting QuantLib\n",
            "  Downloading QuantLib-1.30-cp39-cp39-manylinux_2_17_x86_64.manylinux2014_x86_64.whl (19.1 MB)\n",
            "\u001b[2K     \u001b[90m━━━━━━━━━━━━━━━━━━━━━━━━━━━━━━━━━━━━━━━━\u001b[0m \u001b[32m19.1/19.1 MB\u001b[0m \u001b[31m29.4 MB/s\u001b[0m eta \u001b[36m0:00:00\u001b[0m\n",
            "\u001b[?25hInstalling collected packages: QuantLib\n",
            "Successfully installed QuantLib-1.30\n"
          ]
        }
      ],
      "source": [
        "pip install QuantLib"
      ]
    },
    {
      "cell_type": "code",
      "execution_count": null,
      "metadata": {
        "id": "-sXyMdHoUFPA"
      },
      "outputs": [],
      "source": [
        "from sklearn.metrics import mean_squared_error\n"
      ]
    },
    {
      "cell_type": "markdown",
      "metadata": {
        "id": "bbZs0GwdjCuO"
      },
      "source": [
        "# 总览\n"
      ]
    },
    {
      "cell_type": "code",
      "execution_count": null,
      "metadata": {
        "colab": {
          "base_uri": "https://localhost:8080/",
          "height": 461
        },
        "id": "0D_hKzY-JsOn",
        "outputId": "1c85f91c-33bc-4053-9fb8-1f87bacd0b6f"
      },
      "outputs": [
        {
          "output_type": "stream",
          "name": "stderr",
          "text": [
            "<ipython-input-3-39c12c9e27d7>:108: FutureWarning: this method is deprecated in favour of `Styler.hide(axis=\"index\")`\n",
            "  df.style.hide_index()\n"
          ]
        },
        {
          "output_type": "execute_result",
          "data": {
            "text/plain": [
              "                   Method  Option value\n",
              "0     Barone-Adesi-Whaley      0.144287\n",
              "1     Bjerksund-Stensland      0.144287\n",
              "2      finite differences      0.144263\n",
              "3                     QD+      0.144287\n",
              "4         QD+ fixed point      0.144287\n",
              "5           Binomial (JR)      0.142195\n",
              "6          Binomial (CRR)      0.144723\n",
              "7          Binomial (EQP)      0.160094\n",
              "8   Binomial (Trigeorgis)      0.145619\n",
              "9         Binomial (Tian)      0.144912\n",
              "10          Binomial (LR)      0.141091\n",
              "11      Binomial (Joshi4)      0.141091"
            ],
            "text/html": [
              "\n",
              "  <div id=\"df-fd223434-153d-49bf-b04f-fe4ab9f058e7\">\n",
              "    <div class=\"colab-df-container\">\n",
              "      <div>\n",
              "<style scoped>\n",
              "    .dataframe tbody tr th:only-of-type {\n",
              "        vertical-align: middle;\n",
              "    }\n",
              "\n",
              "    .dataframe tbody tr th {\n",
              "        vertical-align: top;\n",
              "    }\n",
              "\n",
              "    .dataframe thead th {\n",
              "        text-align: right;\n",
              "    }\n",
              "</style>\n",
              "<table border=\"1\" class=\"dataframe\">\n",
              "  <thead>\n",
              "    <tr style=\"text-align: right;\">\n",
              "      <th></th>\n",
              "      <th>Method</th>\n",
              "      <th>Option value</th>\n",
              "    </tr>\n",
              "  </thead>\n",
              "  <tbody>\n",
              "    <tr>\n",
              "      <th>0</th>\n",
              "      <td>Barone-Adesi-Whaley</td>\n",
              "      <td>0.144287</td>\n",
              "    </tr>\n",
              "    <tr>\n",
              "      <th>1</th>\n",
              "      <td>Bjerksund-Stensland</td>\n",
              "      <td>0.144287</td>\n",
              "    </tr>\n",
              "    <tr>\n",
              "      <th>2</th>\n",
              "      <td>finite differences</td>\n",
              "      <td>0.144263</td>\n",
              "    </tr>\n",
              "    <tr>\n",
              "      <th>3</th>\n",
              "      <td>QD+</td>\n",
              "      <td>0.144287</td>\n",
              "    </tr>\n",
              "    <tr>\n",
              "      <th>4</th>\n",
              "      <td>QD+ fixed point</td>\n",
              "      <td>0.144287</td>\n",
              "    </tr>\n",
              "    <tr>\n",
              "      <th>5</th>\n",
              "      <td>Binomial (JR)</td>\n",
              "      <td>0.142195</td>\n",
              "    </tr>\n",
              "    <tr>\n",
              "      <th>6</th>\n",
              "      <td>Binomial (CRR)</td>\n",
              "      <td>0.144723</td>\n",
              "    </tr>\n",
              "    <tr>\n",
              "      <th>7</th>\n",
              "      <td>Binomial (EQP)</td>\n",
              "      <td>0.160094</td>\n",
              "    </tr>\n",
              "    <tr>\n",
              "      <th>8</th>\n",
              "      <td>Binomial (Trigeorgis)</td>\n",
              "      <td>0.145619</td>\n",
              "    </tr>\n",
              "    <tr>\n",
              "      <th>9</th>\n",
              "      <td>Binomial (Tian)</td>\n",
              "      <td>0.144912</td>\n",
              "    </tr>\n",
              "    <tr>\n",
              "      <th>10</th>\n",
              "      <td>Binomial (LR)</td>\n",
              "      <td>0.141091</td>\n",
              "    </tr>\n",
              "    <tr>\n",
              "      <th>11</th>\n",
              "      <td>Binomial (Joshi4)</td>\n",
              "      <td>0.141091</td>\n",
              "    </tr>\n",
              "  </tbody>\n",
              "</table>\n",
              "</div>\n",
              "      <button class=\"colab-df-convert\" onclick=\"convertToInteractive('df-fd223434-153d-49bf-b04f-fe4ab9f058e7')\"\n",
              "              title=\"Convert this dataframe to an interactive table.\"\n",
              "              style=\"display:none;\">\n",
              "        \n",
              "  <svg xmlns=\"http://www.w3.org/2000/svg\" height=\"24px\"viewBox=\"0 0 24 24\"\n",
              "       width=\"24px\">\n",
              "    <path d=\"M0 0h24v24H0V0z\" fill=\"none\"/>\n",
              "    <path d=\"M18.56 5.44l.94 2.06.94-2.06 2.06-.94-2.06-.94-.94-2.06-.94 2.06-2.06.94zm-11 1L8.5 8.5l.94-2.06 2.06-.94-2.06-.94L8.5 2.5l-.94 2.06-2.06.94zm10 10l.94 2.06.94-2.06 2.06-.94-2.06-.94-.94-2.06-.94 2.06-2.06.94z\"/><path d=\"M17.41 7.96l-1.37-1.37c-.4-.4-.92-.59-1.43-.59-.52 0-1.04.2-1.43.59L10.3 9.45l-7.72 7.72c-.78.78-.78 2.05 0 2.83L4 21.41c.39.39.9.59 1.41.59.51 0 1.02-.2 1.41-.59l7.78-7.78 2.81-2.81c.8-.78.8-2.07 0-2.86zM5.41 20L4 18.59l7.72-7.72 1.47 1.35L5.41 20z\"/>\n",
              "  </svg>\n",
              "      </button>\n",
              "      \n",
              "  <style>\n",
              "    .colab-df-container {\n",
              "      display:flex;\n",
              "      flex-wrap:wrap;\n",
              "      gap: 12px;\n",
              "    }\n",
              "\n",
              "    .colab-df-convert {\n",
              "      background-color: #E8F0FE;\n",
              "      border: none;\n",
              "      border-radius: 50%;\n",
              "      cursor: pointer;\n",
              "      display: none;\n",
              "      fill: #1967D2;\n",
              "      height: 32px;\n",
              "      padding: 0 0 0 0;\n",
              "      width: 32px;\n",
              "    }\n",
              "\n",
              "    .colab-df-convert:hover {\n",
              "      background-color: #E2EBFA;\n",
              "      box-shadow: 0px 1px 2px rgba(60, 64, 67, 0.3), 0px 1px 3px 1px rgba(60, 64, 67, 0.15);\n",
              "      fill: #174EA6;\n",
              "    }\n",
              "\n",
              "    [theme=dark] .colab-df-convert {\n",
              "      background-color: #3B4455;\n",
              "      fill: #D2E3FC;\n",
              "    }\n",
              "\n",
              "    [theme=dark] .colab-df-convert:hover {\n",
              "      background-color: #434B5C;\n",
              "      box-shadow: 0px 1px 3px 1px rgba(0, 0, 0, 0.15);\n",
              "      filter: drop-shadow(0px 1px 2px rgba(0, 0, 0, 0.3));\n",
              "      fill: #FFFFFF;\n",
              "    }\n",
              "  </style>\n",
              "\n",
              "      <script>\n",
              "        const buttonEl =\n",
              "          document.querySelector('#df-fd223434-153d-49bf-b04f-fe4ab9f058e7 button.colab-df-convert');\n",
              "        buttonEl.style.display =\n",
              "          google.colab.kernel.accessAllowed ? 'block' : 'none';\n",
              "\n",
              "        async function convertToInteractive(key) {\n",
              "          const element = document.querySelector('#df-fd223434-153d-49bf-b04f-fe4ab9f058e7');\n",
              "          const dataTable =\n",
              "            await google.colab.kernel.invokeFunction('convertToInteractive',\n",
              "                                                     [key], {});\n",
              "          if (!dataTable) return;\n",
              "\n",
              "          const docLinkHtml = 'Like what you see? Visit the ' +\n",
              "            '<a target=\"_blank\" href=https://colab.research.google.com/notebooks/data_table.ipynb>data table notebook</a>'\n",
              "            + ' to learn more about interactive tables.';\n",
              "          element.innerHTML = '';\n",
              "          dataTable['output_type'] = 'display_data';\n",
              "          await google.colab.output.renderOutput(dataTable, element);\n",
              "          const docLink = document.createElement('div');\n",
              "          docLink.innerHTML = docLinkHtml;\n",
              "          element.appendChild(docLink);\n",
              "        }\n",
              "      </script>\n",
              "    </div>\n",
              "  </div>\n",
              "  "
            ]
          },
          "metadata": {},
          "execution_count": 3
        }
      ],
      "source": [
        "\n",
        "import QuantLib as ql\n",
        "import pandas as pd\n",
        "\n",
        "\n",
        "todaysDate = ql.Date(11, 5, 2017)\n",
        "ql.Settings.instance().evaluationDate = todaysDate\n",
        "\n",
        "\n",
        "interactive = \"get_ipython\" in globals()\n",
        "\n",
        "spot_price = 1\n",
        "K=2.5\n",
        "q=0.0\n",
        "r=0.001\n",
        "sigma=2\n",
        "maturity_date = ql.Date(11, 8, 2017)#到期日\n",
        "  # %%\n",
        "exercise = ql.AmericanExercise(todaysDate, maturity_date)\n",
        "payoff = ql.PlainVanillaPayoff(ql.Option.Call, K)\n",
        "\n",
        "  # %%\n",
        "option = ql.VanillaOption(payoff, exercise)\n",
        "\n",
        "  # %% [markdown]\n",
        "  # ### Market data\n",
        "\n",
        "  # %%\n",
        "\n",
        "\n",
        "underlying = ql.SimpleQuote(spot_price)\n",
        "dividendYield = ql.FlatForward(todaysDate, q, ql.Actual365Fixed())\n",
        "volatility = ql.BlackConstantVol(todaysDate, ql.TARGET(), sigma, ql.Actual365Fixed())\n",
        "riskFreeRate = ql.FlatForward(todaysDate, r, ql.Actual365Fixed())\n",
        "\n",
        "\n",
        "  # %%\n",
        "process = ql.BlackScholesMertonProcess(\n",
        "      ql.QuoteHandle(underlying),\n",
        "      ql.YieldTermStructureHandle(dividendYield),\n",
        "      ql.YieldTermStructureHandle(riskFreeRate),\n",
        "      ql.BlackVolTermStructureHandle(volatility),\n",
        "  )\n",
        "\n",
        "  # %% [markdown]\n",
        "  # ### Pricing\n",
        "  #\n",
        "  # We'll collect tuples of method name, option value, and estimated error from the analytic formula.\n",
        "\n",
        "  # %%\n",
        "results = []\n",
        "\n",
        "  # %% [markdown]\n",
        "  # #### Analytic approximations\n",
        "\n",
        "  # %%\n",
        "option.setPricingEngine(ql.BaroneAdesiWhaleyApproximationEngine(process))\n",
        "results.append((\"Barone-Adesi-Whaley\", option.NPV()))\n",
        "\n",
        "  # %%\n",
        "option.setPricingEngine(ql.BjerksundStenslandApproximationEngine(process))\n",
        "results.append((\"Bjerksund-Stensland\", option.NPV()))\n",
        "\n",
        "  # %% [markdown]\n",
        "  # #### Finite-difference method\n",
        "\n",
        "  # %%\n",
        "timeSteps = 201\n",
        "gridPoints = 200\n",
        "\n",
        "  # %%\n",
        "option.setPricingEngine(ql.FdBlackScholesVanillaEngine(process, timeSteps, gridPoints))\n",
        "results.append((\"finite differences\", option.NPV()))\n",
        "\n",
        "\n",
        "  # %% [markdown]\n",
        "  # #### Li, M. QD+ American engine\n",
        "\n",
        "  # %%\n",
        "option.setPricingEngine(ql.QdPlusAmericanEngine(process))\n",
        "results.append((\"QD+\", option.NPV()))\n",
        "\n",
        "\n",
        "  # %% [markdown]\n",
        "  # #### Leif Andersen, Mark Lake and Dimitri Offengenden high performance American engine\n",
        "\n",
        "  # %%\n",
        "option.setPricingEngine(ql.QdFpAmericanEngine(\n",
        "      process, ql.QdFpAmericanEngine.accurateScheme()))\n",
        "results.append((\"QD+ fixed point\", option.NPV()))\n",
        "\n",
        "\n",
        "  # %% [markdown]\n",
        "  # #### Binomial method\n",
        "\n",
        "  # %%\n",
        "timeSteps =100\n",
        "\n",
        "  # %%\n",
        "for tree in [\"JR\", \"CRR\", \"EQP\", \"Trigeorgis\", \"Tian\", \"LR\", \"Joshi4\"]:\n",
        "      option.setPricingEngine(ql.BinomialVanillaEngine(process, tree, timeSteps))\n",
        "      results.append((\"Binomial (%s)\" % tree, option.NPV()))\n",
        "\n",
        "  # %% [markdown]\n",
        "  # ### Results\n",
        "\n",
        "  # %%\n",
        "df = pd.DataFrame(results, columns=[\"Method\", \"Option value\"])\n",
        "df.style.hide_index()\n",
        "\n",
        "  # %% [markdown]\n",
        "  # The following displays the results when this is run as a Python script (in which case the cell above is not displayed).\n",
        "\n",
        "  # %%\n",
        "if not interactive:\n",
        "      print(df)\n",
        "df"
      ]
    },
    {
      "cell_type": "markdown",
      "metadata": {
        "id": "btgMYowzKJta"
      },
      "source": []
    },
    {
      "cell_type": "markdown",
      "metadata": {
        "id": "QndGLJU1jAEL"
      },
      "source": [
        "# BAW\n"
      ]
    },
    {
      "cell_type": "code",
      "execution_count": null,
      "metadata": {
        "colab": {
          "base_uri": "https://localhost:8080/"
        },
        "id": "BVh05wC4pvNb",
        "outputId": "87c8af71-3e36-499f-b9bc-2e2e6c0fae65"
      },
      "outputs": [
        {
          "output_type": "stream",
          "name": "stdout",
          "text": [
            "0.14428730291973105\n"
          ]
        }
      ],
      "source": [
        "#Barone-Adesi-Whaley\n",
        "import QuantLib as ql\n",
        "def Americanop(m,T,r,sigma,q):\n",
        "  todaysDate = ql.Date(11, 5, 2017)\n",
        "  ql.Settings.instance().evaluationDate = todaysDate\n",
        "  K = m\n",
        "  spot_price = 1\n",
        "  maturity_date = todaysDate + ql.Period(f\"{int(T*365)}d\")#到期日\n",
        "\n",
        "  exercise = ql.AmericanExercise(todaysDate, maturity_date)\n",
        "  payoff = ql.PlainVanillaPayoff(ql.Option.Call, K)\n",
        "  # %%\n",
        "  option = ql.VanillaOption(payoff, exercise)\n",
        "  underlying = ql.SimpleQuote(spot_price)\n",
        "  dividendYield = ql.FlatForward(todaysDate, q, ql.Actual365Fixed())\n",
        "  volatility = ql.BlackConstantVol(todaysDate, ql.TARGET(), sigma, ql.Actual365Fixed())\n",
        "  riskFreeRate = ql.FlatForward(todaysDate, r, ql.Actual365Fixed())\n",
        "  # %%\n",
        "  process = ql.BlackScholesMertonProcess(\n",
        "      ql.QuoteHandle(underlying),\n",
        "      ql.YieldTermStructureHandle(dividendYield),\n",
        "      ql.YieldTermStructureHandle(riskFreeRate),\n",
        "      ql.BlackVolTermStructureHandle(volatility),\n",
        "  )\n",
        "  option.setPricingEngine(ql.BaroneAdesiWhaleyApproximationEngine(process))\n",
        "  return option.NPV()\n",
        "\n",
        "print(Americanop(2.5,92/365,0.001,2,0.0))\n"
      ]
    },
    {
      "cell_type": "markdown",
      "metadata": {
        "id": "7uCKiK5OjOQ4"
      },
      "source": [
        "# CRR\n"
      ]
    },
    {
      "cell_type": "code",
      "execution_count": null,
      "metadata": {
        "colab": {
          "base_uri": "https://localhost:8080/"
        },
        "id": "YYjGxOmLDPRZ",
        "outputId": "7006ef63-b27b-4d64-f075-d000688d9a01"
      },
      "outputs": [
        {
          "output_type": "stream",
          "name": "stdout",
          "text": [
            "0.14433108541939632\n"
          ]
        }
      ],
      "source": [
        "#crr\n",
        "import QuantLib as ql\n",
        "def ameri_crr(m,T,r,sigma,q):\n",
        "  todaysDate = ql.Date(11, 5, 2017)\n",
        "  ql.Settings.instance().evaluationDate = todaysDate\n",
        "  K = m\n",
        "  spot_price = 1\n",
        "\n",
        "\n",
        "  #timeSteps = 100\n",
        "  timeSteps = max(1000, int(4000 * T))\n",
        "  maturity_date = todaysDate + ql.Period(f\"{int(T*365)}d\")#到期日\n",
        "\n",
        "  exercise = ql.AmericanExercise(todaysDate, maturity_date)\n",
        "  payoff = ql.PlainVanillaPayoff(ql.Option.Call, K)\n",
        "  # %%\n",
        "  option = ql.VanillaOption(payoff, exercise)\n",
        "  underlying = ql.SimpleQuote(spot_price)\n",
        "  dividendYield = ql.FlatForward(todaysDate, q, ql.Actual365Fixed())\n",
        "  volatility = ql.BlackConstantVol(todaysDate, ql.TARGET(), sigma, ql.Actual365Fixed())\n",
        "  riskFreeRate = ql.FlatForward(todaysDate, r, ql.Actual365Fixed())\n",
        "  # %%\n",
        "  process = ql.BlackScholesMertonProcess(\n",
        "      ql.QuoteHandle(underlying),\n",
        "      ql.YieldTermStructureHandle(dividendYield),\n",
        "      ql.YieldTermStructureHandle(riskFreeRate),\n",
        "      ql.BlackVolTermStructureHandle(volatility),\n",
        "  )\n",
        "  option.setPricingEngine(ql.BinomialVanillaEngine(process, \"CRR\", timeSteps))\n",
        "  return option.NPV()\n",
        "\n",
        "print(ameri_crr(2.5,92/365,0.001,2,0.0))\n"
      ]
    },
    {
      "cell_type": "markdown",
      "metadata": {
        "id": "Cd19RU05jS1e"
      },
      "source": [
        "# BBS + BBSR\n"
      ]
    },
    {
      "cell_type": "code",
      "execution_count": null,
      "metadata": {
        "id": "Tn1vHcuJOru2",
        "colab": {
          "base_uri": "https://localhost:8080/",
          "height": 133
        },
        "outputId": "d3152dc6-591c-475d-acd5-accf48a36420"
      },
      "outputs": [
        {
          "output_type": "error",
          "ename": "SyntaxError",
          "evalue": "ignored",
          "traceback": [
            "\u001b[0;36m  File \u001b[0;32m\"<ipython-input-3-85eac2b189fd>\"\u001b[0;36m, line \u001b[0;32m68\u001b[0m\n\u001b[0;31m    , 1, X, t, rfr, vol,q)\u001b[0m\n\u001b[0m      ^\u001b[0m\n\u001b[0;31mSyntaxError\u001b[0m\u001b[0;31m:\u001b[0m positional argument follows keyword argument\n"
          ]
        }
      ],
      "source": [
        "import matplotlib.pyplot as plt\n",
        "import numpy as np\n",
        "import scipy.stats as si\n",
        "from sklearn.metrics import mean_squared_error\n",
        "import time\n",
        "\n",
        "def BSM(Put_Call, S_0, X, rfr, vol, t,q):\n",
        "    d1 = (np.log(X/S_0) + (rfr + 0.5 * vol ** 2) * t -q) / (vol * np.sqrt(t))\n",
        "    d2 = (np.log(X/S_0) + (rfr - 0.5 * vol ** 2) * t-q) / (vol * np.sqrt(t))\n",
        "\n",
        "    if Put_Call == \"C\":\n",
        "        opt_price = S_0*si.norm.cdf(d1) - X*np.exp(-rfr*t)*si.norm.cdf(d2)\n",
        "    elif Put_Call == \"P\":\n",
        "        opt_price = X*np.exp(-rfr*t)*si.norm.cdf(-d2) - S_0*si.norm.cdf(-d1)\n",
        "\n",
        "    return opt_price\n",
        "def BBS(Put_Call, n, S_0, X, t,rfr, vol,q):  #rfr is risk free rate, vol is volatility\n",
        "    deltaT = t/n\n",
        "    u = np.exp(vol*np.sqrt(deltaT))\n",
        "    d = 1./u\n",
        "    R = np.exp(rfr*deltaT)\n",
        "    p = (R-d)/(u-d)\n",
        "    q = 1-p\n",
        "\n",
        "    # simulating the underlying price paths\n",
        "    S = np.zeros((n+1,n+1))\n",
        "    S[0,0] = S_0\n",
        "    for i in range(1,n+1):\n",
        "        S[i,0] = S[i-1,0]*u\n",
        "        for j in range(1,i+1):\n",
        "            S[i,j] = S[i-1,j-1]*d\n",
        "\n",
        "    # option value at final node\n",
        "    V = np.zeros((n+1,n+1)) # V[i,j] is the option value at node (i,j)\n",
        "    for j in range(n+1):\n",
        "        if Put_Call==\"C\":\n",
        "            V[n,j] = max(0, S[n,j]-X)\n",
        "        elif Put_Call==\"P\":\n",
        "            V[n,j] = max(0, X-S[n,j])\n",
        "    #for j in range(n):\n",
        "    #    V[n-1,j] = BSM(Put_Call, S[n-1,j], X, rfr, vol, t/n,q)\n",
        "\n",
        "\n",
        "    for i in range(n-2,-1,-1):\n",
        "        for j in range(i+1):\n",
        "            if Put_Call==\"P\":\n",
        "                V[i,j] = max(0, X-S[i,j], 1/R*(p*V[i+1,j]+q*V[i+1,j+1]))\n",
        "            elif Put_Call==\"C\":\n",
        "                V[i,j] = max(0, S[i,j]-X, 1/R*(p*V[i+1,j]+q*V[i+1,j+1]))\n",
        "        opt_price = V[0,0]\n",
        "\n",
        "    return opt_price\n",
        "def BBSR(Put_Call, n, S_0, X, t, rfr, vol,q):\n",
        "    #opt_price = 2*BBS(Put_Call, n, S_0, X,t, rfr, vol,q) - BBS(Put_Call, int(n/2), S_0, X, t,rfr, vol,q)\n",
        "    opt_price = 8/3*BBS(Put_Call,n,S_0, X,t, rfr, vol,q)- 2*BBS(Put_Call,int(n/2),S_0, X,t, rfr, vol,q) + 1/3*BBS(Put_Call,int(n/4),S_0, X,t, rfr, vol,q)\n",
        "\n",
        "    return opt_price\n",
        "S_0 = 1\n",
        "rfr = 0.001\n",
        "vol = 2\n",
        "X = 2.5\n",
        "t = 92/365\n",
        "q=0\n",
        "\n",
        "v_BBSR = BBSR(\"C\", 1000, 1, X,t, rfr, vol,q)\n",
        "\n",
        "v_BBS = BBS(\"C\", 1000, 1, X, t, rfr, vol,q)\n",
        "\n",
        "print(v_BBSR, v_BBS)\n"
      ]
    },
    {
      "cell_type": "code",
      "source": [],
      "metadata": {
        "id": "dG_QBq5AkLe-"
      },
      "execution_count": null,
      "outputs": []
    },
    {
      "cell_type": "code",
      "source": [],
      "metadata": {
        "id": "DJTHFFtYQzrZ"
      },
      "execution_count": null,
      "outputs": []
    },
    {
      "cell_type": "markdown",
      "metadata": {
        "id": "CpTX4AMEjYP1"
      },
      "source": [
        "\n",
        "\n",
        "# FDE"
      ]
    },
    {
      "cell_type": "code",
      "execution_count": null,
      "metadata": {
        "colab": {
          "base_uri": "https://localhost:8080/"
        },
        "id": "ccQm54S2U3IC",
        "outputId": "4a698c92-e856-413e-b242-e1bbd4e721ea"
      },
      "outputs": [
        {
          "output_type": "stream",
          "name": "stdout",
          "text": [
            "0.14428370555828793\n"
          ]
        }
      ],
      "source": [
        "#FDE\n",
        "import QuantLib as ql\n",
        "def amer_fde(m,T,r,sigma,q):\n",
        "  #%%\n",
        "  todaysDate = ql.Date(11, 5, 2017)\n",
        "  maturity_date = todaysDate + ql.Period(f\"{int(T*365)}d\")#到期日\n",
        "\n",
        "  #timeSteps = 800  #801\n",
        "  timeSteps = max(1000, int(4000 * T))\n",
        "  gridPoints = max(1000, int(1000 * T))#timeSteps-1  #801-1\n",
        "\n",
        "\n",
        "  #%%\n",
        "\n",
        "  #initial\n",
        "  ql.Settings.instance().evaluationDate = todaysDate\n",
        "  K = m\n",
        "  spot_price = 1\n",
        "\n",
        "\n",
        "  exercise = ql.AmericanExercise(todaysDate, maturity_date)\n",
        "  payoff = ql.PlainVanillaPayoff(ql.Option.Call, K)\n",
        "  # %%\n",
        "  option = ql.VanillaOption(payoff, exercise)\n",
        "  underlying = ql.SimpleQuote(spot_price)\n",
        "  dividendYield = ql.FlatForward(todaysDate, q, ql.Actual365Fixed())\n",
        "  volatility = ql.BlackConstantVol(todaysDate, ql.TARGET(), sigma, ql.Actual365Fixed())\n",
        "  riskFreeRate = ql.FlatForward(todaysDate, r, ql.Actual365Fixed())\n",
        "  # %%\n",
        "  process = ql.BlackScholesMertonProcess(\n",
        "      ql.QuoteHandle(underlying),\n",
        "      ql.YieldTermStructureHandle(dividendYield),\n",
        "      ql.YieldTermStructureHandle(riskFreeRate),\n",
        "      ql.BlackVolTermStructureHandle(volatility),\n",
        "  )\n",
        "\n",
        "\n",
        "    # %%\n",
        "  option.setPricingEngine(ql.FdBlackScholesVanillaEngine(process, timeSteps, gridPoints,int(timeSteps * 0.2)))\n",
        "  return option.NPV()\n",
        "\n",
        "print(amer_fde(2.5,92/365,0.001,2,0.0))\n"
      ]
    },
    {
      "cell_type": "code",
      "source": [
        "#FDE\n",
        "import QuantLib as ql\n",
        "def amer_fde2(m,T,r,sigma,q):\n",
        "  #%%\n",
        "  todaysDate = ql.Date(11, 5, 2017)\n",
        "  maturity_date = todaysDate + ql.Period(f\"{int(T*365)}d\")#到期日\n",
        "\n",
        "  #timeSteps = 800  #801\n",
        "  timeSteps = max(1000, int(4000 * T))\n",
        "  gridPoints = max(1000, int(1000 * T))#timeSteps-1  #801-1\n",
        "\n",
        "  #%%\n",
        "\n",
        "  #initial\n",
        "  ql.Settings.instance().evaluationDate = todaysDate\n",
        "  K = m\n",
        "  spot_price = 1\n",
        "\n",
        "\n",
        "  exercise = ql.AmericanExercise(todaysDate, maturity_date)\n",
        "  payoff = ql.PlainVanillaPayoff(ql.Option.Call, K)\n",
        "  # %%\n",
        "  option = ql.VanillaOption(payoff, exercise)\n",
        "  underlying = ql.SimpleQuote(spot_price)\n",
        "  dividendYield = ql.FlatForward(todaysDate, q, ql.Actual365Fixed())\n",
        "  volatility = ql.BlackConstantVol(todaysDate, ql.TARGET(), sigma, ql.Actual365Fixed())\n",
        "  riskFreeRate = ql.FlatForward(todaysDate, r, ql.Actual365Fixed())\n",
        "  # %%\n",
        "  process = ql.BlackScholesMertonProcess(\n",
        "      ql.QuoteHandle(underlying),\n",
        "      ql.YieldTermStructureHandle(dividendYield),\n",
        "      ql.YieldTermStructureHandle(riskFreeRate),\n",
        "      ql.BlackVolTermStructureHandle(volatility),\n",
        "  )\n",
        "\n",
        "\n",
        "    # %%\n",
        "  option.setPricingEngine(ql.FdBlackScholesVanillaEngine(process, timeSteps, gridPoints))\n",
        "  return option.NPV()\n",
        "\n",
        "print(amer_fde(2.5,92/365,0.001,2,0.0))\n"
      ],
      "metadata": {
        "colab": {
          "base_uri": "https://localhost:8080/"
        },
        "id": "rIOOwMPoc-op",
        "outputId": "ed00d667-6e9b-4bea-8612-bd6543938a29"
      },
      "execution_count": null,
      "outputs": [
        {
          "output_type": "stream",
          "name": "stdout",
          "text": [
            "0.14428370555828793\n"
          ]
        }
      ]
    },
    {
      "cell_type": "markdown",
      "metadata": {
        "id": "q1mUhxUwmKnW"
      },
      "source": [
        "# MC\n",
        "\n"
      ]
    },
    {
      "cell_type": "code",
      "source": [
        "#PseudoRandom\n",
        "import QuantLib as ql\n",
        "mcSeed = 100\n",
        "method = 'MC (Longstaff Schwartz)'\n",
        "\n",
        "def ameri_mc(m,T,r,sigma,q):\n",
        "  todaysDate = ql.Date(11, 5, 2017)\n",
        "  ql.Settings.instance().evaluationDate = todaysDate\n",
        "  K = m\n",
        "  spot_price = 1\n",
        "\n",
        "\n",
        "  #timeSteps = 100\n",
        "  timeSteps = max(100, int(200 * T))\n",
        "  maturity_date = todaysDate + ql.Period(f\"{int(T*365)}d\")#到期日\n",
        "\n",
        "  exercise = ql.AmericanExercise(todaysDate, maturity_date)\n",
        "  payoff = ql.PlainVanillaPayoff(ql.Option.Call, K)\n",
        "  # %%\n",
        "  option = ql.VanillaOption(payoff, exercise)\n",
        "  underlying = ql.SimpleQuote(spot_price)\n",
        "  dividendYield = ql.FlatForward(todaysDate, q, ql.Actual365Fixed())\n",
        "  volatility = ql.BlackConstantVol(todaysDate, ql.TARGET(), sigma, ql.Actual365Fixed())\n",
        "  riskFreeRate = ql.FlatForward(todaysDate, r, ql.Actual365Fixed())\n",
        "  # %%\n",
        "  process = ql.BlackScholesMertonProcess(\n",
        "      ql.QuoteHandle(underlying),\n",
        "      ql.YieldTermStructureHandle(dividendYield),\n",
        "      ql.YieldTermStructureHandle(riskFreeRate),\n",
        "      ql.BlackVolTermStructureHandle(volatility),\n",
        "  )\n",
        "  rng='pseudorandom'\n",
        "  #rng='lowdiscrepancy'\n",
        "  mcengine3 = ql.MCAmericanEngine(\n",
        "    process,\n",
        "    rng,\n",
        "    timeSteps,\n",
        "    antitheticVariate=True,\n",
        "    #nCalibrationSamples=5000,\n",
        "    #requiredTolerance=0.02,\n",
        "    requiredSamples=10000,\n",
        "    seed=mcSeed)\n",
        "  option.setPricingEngine(mcengine3)\n",
        "\n",
        "  return option.NPV()\n",
        "\n",
        "print(ameri_crr(2.5,92/365,0.001,2,0.0))\n"
      ],
      "metadata": {
        "colab": {
          "base_uri": "https://localhost:8080/"
        },
        "id": "TetPQZ9vYKhq",
        "outputId": "2a2b6af7-4e6a-4bc9-b47e-7af899234d4a"
      },
      "execution_count": null,
      "outputs": [
        {
          "output_type": "stream",
          "name": "stdout",
          "text": [
            "0.1446640497614923\n"
          ]
        }
      ]
    },
    {
      "cell_type": "markdown",
      "source": [
        "# BBS(误差超大—）\n"
      ],
      "metadata": {
        "id": "j19Nr_4gW8sO"
      }
    },
    {
      "cell_type": "code",
      "source": [
        "#crr\n",
        "import QuantLib as ql\n",
        "def BBS1(m,T,r,sigma,q,ts):\n",
        "  todaysDate = ql.Date(11, 5, 2017)\n",
        "  ql.Settings.instance().evaluationDate = todaysDate\n",
        "  K = m\n",
        "  spot_price = 1\n",
        "  timeSteps = 2\n",
        "\n",
        "\n",
        "  #timeSteps = 100\n",
        "  #timeSteps = max(1000, int(4000 * T))\n",
        "  if ts == '0':\n",
        "      timeSteps = int(max(1000, int(4000 * T))/2)\n",
        "  if ts == '1':\n",
        "      timeSteps = max(1000, int(4000 * T))\n",
        "\n",
        "  maturity_date = todaysDate + ql.Period(f\"{int(T*365)}d\")#到期日\n",
        "\n",
        "  exercise = ql.AmericanExercise(todaysDate, maturity_date)\n",
        "  payoff = ql.PlainVanillaPayoff(ql.Option.Call, K)\n",
        "  # %%\n",
        "  option = ql.VanillaOption(payoff, exercise)\n",
        "  underlying = ql.SimpleQuote(spot_price)\n",
        "  dividendYield = ql.FlatForward(todaysDate, q, ql.Actual365Fixed())\n",
        "  volatility = ql.BlackConstantVol(todaysDate, ql.TARGET(), sigma, ql.Actual365Fixed())\n",
        "  riskFreeRate = ql.FlatForward(todaysDate, r, ql.Actual365Fixed())\n",
        "  # %%\n",
        "  process = ql.BlackScholesMertonProcess(\n",
        "      ql.QuoteHandle(underlying),\n",
        "      ql.YieldTermStructureHandle(dividendYield),\n",
        "      ql.YieldTermStructureHandle(riskFreeRate),\n",
        "      ql.BlackVolTermStructureHandle(volatility),\n",
        "  )\n",
        "  option.setPricingEngine(ql.BinomialVanillaEngine(process, 'CRR', timeSteps))\n",
        "  return option.NPV()\n",
        "\n",
        "\n",
        "print(BBS1(2.5,92/365,0.001,2,0.0,'0'))\n"
      ],
      "metadata": {
        "colab": {
          "base_uri": "https://localhost:8080/"
        },
        "id": "fRMP1LaLXABe",
        "outputId": "40743217-104e-4ed9-ca37-40ba3a9caa74"
      },
      "execution_count": null,
      "outputs": [
        {
          "output_type": "stream",
          "name": "stdout",
          "text": [
            "0.1442754982209777\n"
          ]
        }
      ]
    },
    {
      "cell_type": "code",
      "source": [
        "def BBSR1( X, t, rfr, vol,q):\n",
        "  opt_price = 2*BBS1( X,t, rfr, vol,q,'1') - BBS1(X, t,rfr, vol,q,'0')\n",
        "    #opt_price = 8/3*BBS1(Put_Call,n,S_0, X,t, rfr, vol,q)- 2*BBS1(Put_Call,int(n/2),S_0, X,t, rfr, vol,q) + 1/3*BBS1(Put_Call,int(n/4),S_0, X,t, rfr, vol,q)\n",
        "  return opt_price\n",
        "print(BBSR1(2.5,92/365,0.001,2,0.0))"
      ],
      "metadata": {
        "colab": {
          "base_uri": "https://localhost:8080/"
        },
        "id": "NBIGd8T2kTPh",
        "outputId": "9f96467b-ad3c-4315-b388-cb313886424d"
      },
      "execution_count": null,
      "outputs": [
        {
          "output_type": "stream",
          "name": "stdout",
          "text": [
            "0.14438667261781493\n"
          ]
        }
      ]
    },
    {
      "cell_type": "markdown",
      "source": [
        "# 欧式\n"
      ],
      "metadata": {
        "id": "BKjLNw0ACXQx"
      }
    },
    {
      "cell_type": "code",
      "source": [
        "#\n",
        "def eurocall_ql(strike_price,T,risk_free_rate,volatility,dividend_rate):\n",
        "  spot_price=1\n",
        "  option_type = ql.Option.Call\n",
        "\n",
        "  day_count = ql.Actual365Fixed()\n",
        "  calendar = ql.UnitedStates(ql.UnitedStates.GovernmentBond)\n",
        "\n",
        "  calculation_date = ql.Date(11, 5, 2017)#起始日期\n",
        "  ql.Settings.instance().evaluationDate = calculation_date\n",
        "  maturity_date = calculation_date + ql.Period(f\"{int(T*365)}d\")\n",
        "  payoff = ql.PlainVanillaPayoff(option_type, strike_price)\n",
        "  exercise = ql.EuropeanExercise(maturity_date)\n",
        "  european_option = ql.VanillaOption(payoff, exercise)\n",
        "\n",
        "  spot_handle = ql.QuoteHandle(ql.SimpleQuote(spot_price))\n",
        "  flat_ts = ql.YieldTermStructureHandle(ql.FlatForward(calculation_date, risk_free_rate, day_count))\n",
        "\n",
        "  dividend_yield = ql.YieldTermStructureHandle(ql.FlatForward(calculation_date, dividend_rate, day_count))\n",
        "  flat_vol_ts = ql.BlackVolTermStructureHandle(ql.BlackConstantVol(calculation_date, calendar, volatility, day_count))\n",
        "\n",
        "  bsm_process = ql.BlackScholesMertonProcess(spot_handle, dividend_yield, flat_ts, flat_vol_ts)\n",
        "\n",
        "  european_option.setPricingEngine(ql.AnalyticEuropeanEngine(bsm_process))\n",
        "  return   european_option.NPV()\n",
        "\n",
        "\n",
        "print(eurocall_ql(2.5,92/365,0.001,2,0.0))\n"
      ],
      "metadata": {
        "colab": {
          "base_uri": "https://localhost:8080/"
        },
        "id": "NQKta6SLCa8o",
        "outputId": "fadbac29-5356-4bf8-bfc6-dd7ea61e2bdd"
      },
      "execution_count": null,
      "outputs": [
        {
          "output_type": "stream",
          "name": "stdout",
          "text": [
            "0.14428730291973105\n"
          ]
        }
      ]
    },
    {
      "cell_type": "markdown",
      "metadata": {
        "id": "tAbVv8QCjiOy"
      },
      "source": [
        "# 生成数据\n"
      ]
    },
    {
      "cell_type": "code",
      "execution_count": null,
      "metadata": {
        "id": "HqyL655as5Jp"
      },
      "outputs": [],
      "source": [
        "import os\n",
        "import numpy as np\n",
        "import pandas as pd\n",
        "from pathlib import Path\n",
        "os.getcwd()\n",
        "p = Path(\".\")\n",
        "\n",
        "m = np.random.uniform(0.8,1.2,size = 10000)\n",
        "T = np.array([4.0/365, 11.0/365, 18.0/365, 25.0/365, 32.0/365, 39.0/365, 46.0/365, 73.96/365, 100.96/365, 136.96/365, 164.96/365, 192.96/365, 255.96/365, 382.0/365, 437.96/365, 528.96/365, 619.96/365, 746.0/365])\n",
        "#%%\n",
        "#%%\n",
        "r = np.random.uniform(0,0.08,size=1000)\n",
        "\n",
        "#q = np.random.uniform(0,0,size=1000)\n",
        "q = np.random.uniform(0,0.05,size=1000)\n",
        "\n",
        "sigma = np.random.uniform(0.05,2,size=1000)\n",
        "\n",
        "\n",
        "\n",
        "g_m = np.random.choice(m, 10000)\n",
        "g_T = np.random.choice(T, 10000)\n",
        "g_r = np.random.choice(r, 10000)\n",
        "g_q = np.random.choice(q, 10000)\n",
        "g_sigma =np.random.choice(sigma,10000)\n",
        "\n",
        "eurocall =[]\n",
        "amer_CRR =[]\n",
        "amer_BAW =[]\n",
        "amer_BBS =[]\n",
        "amer_BBSR =[]\n",
        "amer_FDE =[]\n",
        "amer_FDE2 = []\n",
        "amer_MC = []\n",
        "\n",
        "\n",
        "#for i in range(2000):\n",
        "#  amer_CRR.append(ameri_crr(g_m[i],g_T[i],g_r[i],g_sigma[i],g_q[i]))\n",
        "#for i in range(2000):\n",
        "#  amer_BAW.append(Americanop(g_m[i],g_T[i],g_r[i],g_sigma[i],g_q[i]))\n",
        "#for i in range(2000):\n",
        "#  amer_BBS.append(BBS1(\"C\",1000,1,g_m[i],g_T[i],g_r[i],g_sigma[i],g_q[i]))\n",
        "#for i in range(2000):\n",
        "#  amer_BBSR.append(BBSR1(\"C\",1000,1,g_m[i],g_T[i],g_r[i],g_sigma[i],g_q[i]))\n",
        "for i in range(10000):\n",
        "  amer_FDE.append(amer_fde(g_m[i],g_T[i],g_r[i],g_sigma[i],g_q[i]))\n",
        "#for i in range(2000):\n",
        "#  amer_FDE2.append(amer_fde2(g_m[i],g_T[i],g_r[i],g_sigma[i],g_q[i]))\n",
        "#for i in range(2000):\n",
        "# amer_FDE3.append(amer_fde3(g_m[i],g_T[i],g_r[i],g_sigma[i],g_q[i]))\n",
        "\n",
        "#for i in range(2000):\n",
        "#  amer_BBS.append(BBS1(g_m[i],g_T[i],g_r[i],g_sigma[i],g_q[i]))\n",
        "#for i in range(2000):\n",
        "#  amer_BBSR.append(BBSR1(g_m[i],g_T[i],g_r[i],g_sigma[i],g_q[i]))\n",
        "#for i in range(2000):\n",
        "#  amer_MC.append(ameri_mc(g_m[i],g_T[i],g_r[i],g_sigma[i],g_q[i]))\n",
        "\n",
        "#for i in range(2000):\n",
        "#  eurocall.append(eurocall_ql(g_m[i],g_T[i],g_r[i],g_sigma[i],g_q[i]))\n",
        "\n",
        "\n",
        "g_eurocall = eurocall\n",
        "g_amercall_crr = amer_CRR\n",
        "g_amercall_baw = amer_BAW\n",
        "g_amercall_fde = amer_FDE\n",
        "g_amercall_bbs = amer_BBS\n",
        "g_amercall_bbsr = amer_BBSR\n",
        "\n",
        "g_amercall_fde2 = amer_FDE2\n",
        "g_amercall_mc = amer_MC\n",
        "\n",
        "\n",
        "generated_data = pd.DataFrame({\n",
        "  'g_m':g_m,\n",
        "  'g_T': g_T,\n",
        "  'g_r':g_r,\n",
        "  'g_q':g_q,\n",
        "  'g_sigma':g_sigma,\n",
        "\n",
        "# 'g_eurocall':g_eurocall,\n",
        "\n",
        "# 'g_amercall_crr':g_amercall_crr,\n",
        "#  'g_amercall_baw':g_amercall_baw,\n",
        "  'g_amercall_fde':g_amercall_fde,\n",
        "#  'g_amercall_fde2':g_amercall_fde2,\n",
        "#  'g_amercall_mc':g_amercall_mc,\n",
        "\n",
        "#  'g_amercall_bbs':g_amercall_bbs,\n",
        "#  'g_amercall_bbsr':g_amercall_bbsr\n",
        "\n",
        "  }).to_csv(p /\"/content\" / \"generated_data.csv\")"
      ]
    },
    {
      "cell_type": "code",
      "execution_count": null,
      "metadata": {
        "id": "O1v4MWul-j-J",
        "colab": {
          "base_uri": "https://localhost:8080/",
          "height": 206
        },
        "outputId": "67de81fa-beb9-468f-b5a0-dc2d5074470e"
      },
      "outputs": [
        {
          "output_type": "execute_result",
          "data": {
            "text/plain": [
              "   Unnamed: 0       g_m       g_T       g_r  g_q   g_sigma     g_eurocall  \\\n",
              "0           0  4.056438  1.698521  0.054303  0.0  0.263485   1.050735e-05   \n",
              "1           1  4.957985  0.701260  0.014452  0.0  0.084536  1.015390e-114   \n",
              "2           2  4.005761  1.046575  0.036741  0.0  0.317575   2.198618e-06   \n",
              "3           3  3.325164  0.528658  0.052374  0.0  1.243657   6.863528e-02   \n",
              "4           4  2.434647  1.199890  0.075319  0.0  0.244126   1.545958e-04   \n",
              "\n",
              "   g_amercall_fde  g_amercall_fde2  \n",
              "0        0.000011         0.000011  \n",
              "1        0.000000         0.000000  \n",
              "2        0.000002         0.000002  \n",
              "3        0.068636         0.068634  \n",
              "4        0.000155         0.000155  "
            ],
            "text/html": [
              "\n",
              "  <div id=\"df-6aab9a2f-f5dc-4f83-9e16-01384c986cfa\">\n",
              "    <div class=\"colab-df-container\">\n",
              "      <div>\n",
              "<style scoped>\n",
              "    .dataframe tbody tr th:only-of-type {\n",
              "        vertical-align: middle;\n",
              "    }\n",
              "\n",
              "    .dataframe tbody tr th {\n",
              "        vertical-align: top;\n",
              "    }\n",
              "\n",
              "    .dataframe thead th {\n",
              "        text-align: right;\n",
              "    }\n",
              "</style>\n",
              "<table border=\"1\" class=\"dataframe\">\n",
              "  <thead>\n",
              "    <tr style=\"text-align: right;\">\n",
              "      <th></th>\n",
              "      <th>Unnamed: 0</th>\n",
              "      <th>g_m</th>\n",
              "      <th>g_T</th>\n",
              "      <th>g_r</th>\n",
              "      <th>g_q</th>\n",
              "      <th>g_sigma</th>\n",
              "      <th>g_eurocall</th>\n",
              "      <th>g_amercall_fde</th>\n",
              "      <th>g_amercall_fde2</th>\n",
              "    </tr>\n",
              "  </thead>\n",
              "  <tbody>\n",
              "    <tr>\n",
              "      <th>0</th>\n",
              "      <td>0</td>\n",
              "      <td>4.056438</td>\n",
              "      <td>1.698521</td>\n",
              "      <td>0.054303</td>\n",
              "      <td>0.0</td>\n",
              "      <td>0.263485</td>\n",
              "      <td>1.050735e-05</td>\n",
              "      <td>0.000011</td>\n",
              "      <td>0.000011</td>\n",
              "    </tr>\n",
              "    <tr>\n",
              "      <th>1</th>\n",
              "      <td>1</td>\n",
              "      <td>4.957985</td>\n",
              "      <td>0.701260</td>\n",
              "      <td>0.014452</td>\n",
              "      <td>0.0</td>\n",
              "      <td>0.084536</td>\n",
              "      <td>1.015390e-114</td>\n",
              "      <td>0.000000</td>\n",
              "      <td>0.000000</td>\n",
              "    </tr>\n",
              "    <tr>\n",
              "      <th>2</th>\n",
              "      <td>2</td>\n",
              "      <td>4.005761</td>\n",
              "      <td>1.046575</td>\n",
              "      <td>0.036741</td>\n",
              "      <td>0.0</td>\n",
              "      <td>0.317575</td>\n",
              "      <td>2.198618e-06</td>\n",
              "      <td>0.000002</td>\n",
              "      <td>0.000002</td>\n",
              "    </tr>\n",
              "    <tr>\n",
              "      <th>3</th>\n",
              "      <td>3</td>\n",
              "      <td>3.325164</td>\n",
              "      <td>0.528658</td>\n",
              "      <td>0.052374</td>\n",
              "      <td>0.0</td>\n",
              "      <td>1.243657</td>\n",
              "      <td>6.863528e-02</td>\n",
              "      <td>0.068636</td>\n",
              "      <td>0.068634</td>\n",
              "    </tr>\n",
              "    <tr>\n",
              "      <th>4</th>\n",
              "      <td>4</td>\n",
              "      <td>2.434647</td>\n",
              "      <td>1.199890</td>\n",
              "      <td>0.075319</td>\n",
              "      <td>0.0</td>\n",
              "      <td>0.244126</td>\n",
              "      <td>1.545958e-04</td>\n",
              "      <td>0.000155</td>\n",
              "      <td>0.000155</td>\n",
              "    </tr>\n",
              "  </tbody>\n",
              "</table>\n",
              "</div>\n",
              "      <button class=\"colab-df-convert\" onclick=\"convertToInteractive('df-6aab9a2f-f5dc-4f83-9e16-01384c986cfa')\"\n",
              "              title=\"Convert this dataframe to an interactive table.\"\n",
              "              style=\"display:none;\">\n",
              "        \n",
              "  <svg xmlns=\"http://www.w3.org/2000/svg\" height=\"24px\"viewBox=\"0 0 24 24\"\n",
              "       width=\"24px\">\n",
              "    <path d=\"M0 0h24v24H0V0z\" fill=\"none\"/>\n",
              "    <path d=\"M18.56 5.44l.94 2.06.94-2.06 2.06-.94-2.06-.94-.94-2.06-.94 2.06-2.06.94zm-11 1L8.5 8.5l.94-2.06 2.06-.94-2.06-.94L8.5 2.5l-.94 2.06-2.06.94zm10 10l.94 2.06.94-2.06 2.06-.94-2.06-.94-.94-2.06-.94 2.06-2.06.94z\"/><path d=\"M17.41 7.96l-1.37-1.37c-.4-.4-.92-.59-1.43-.59-.52 0-1.04.2-1.43.59L10.3 9.45l-7.72 7.72c-.78.78-.78 2.05 0 2.83L4 21.41c.39.39.9.59 1.41.59.51 0 1.02-.2 1.41-.59l7.78-7.78 2.81-2.81c.8-.78.8-2.07 0-2.86zM5.41 20L4 18.59l7.72-7.72 1.47 1.35L5.41 20z\"/>\n",
              "  </svg>\n",
              "      </button>\n",
              "      \n",
              "  <style>\n",
              "    .colab-df-container {\n",
              "      display:flex;\n",
              "      flex-wrap:wrap;\n",
              "      gap: 12px;\n",
              "    }\n",
              "\n",
              "    .colab-df-convert {\n",
              "      background-color: #E8F0FE;\n",
              "      border: none;\n",
              "      border-radius: 50%;\n",
              "      cursor: pointer;\n",
              "      display: none;\n",
              "      fill: #1967D2;\n",
              "      height: 32px;\n",
              "      padding: 0 0 0 0;\n",
              "      width: 32px;\n",
              "    }\n",
              "\n",
              "    .colab-df-convert:hover {\n",
              "      background-color: #E2EBFA;\n",
              "      box-shadow: 0px 1px 2px rgba(60, 64, 67, 0.3), 0px 1px 3px 1px rgba(60, 64, 67, 0.15);\n",
              "      fill: #174EA6;\n",
              "    }\n",
              "\n",
              "    [theme=dark] .colab-df-convert {\n",
              "      background-color: #3B4455;\n",
              "      fill: #D2E3FC;\n",
              "    }\n",
              "\n",
              "    [theme=dark] .colab-df-convert:hover {\n",
              "      background-color: #434B5C;\n",
              "      box-shadow: 0px 1px 3px 1px rgba(0, 0, 0, 0.15);\n",
              "      filter: drop-shadow(0px 1px 2px rgba(0, 0, 0, 0.3));\n",
              "      fill: #FFFFFF;\n",
              "    }\n",
              "  </style>\n",
              "\n",
              "      <script>\n",
              "        const buttonEl =\n",
              "          document.querySelector('#df-6aab9a2f-f5dc-4f83-9e16-01384c986cfa button.colab-df-convert');\n",
              "        buttonEl.style.display =\n",
              "          google.colab.kernel.accessAllowed ? 'block' : 'none';\n",
              "\n",
              "        async function convertToInteractive(key) {\n",
              "          const element = document.querySelector('#df-6aab9a2f-f5dc-4f83-9e16-01384c986cfa');\n",
              "          const dataTable =\n",
              "            await google.colab.kernel.invokeFunction('convertToInteractive',\n",
              "                                                     [key], {});\n",
              "          if (!dataTable) return;\n",
              "\n",
              "          const docLinkHtml = 'Like what you see? Visit the ' +\n",
              "            '<a target=\"_blank\" href=https://colab.research.google.com/notebooks/data_table.ipynb>data table notebook</a>'\n",
              "            + ' to learn more about interactive tables.';\n",
              "          element.innerHTML = '';\n",
              "          dataTable['output_type'] = 'display_data';\n",
              "          await google.colab.output.renderOutput(dataTable, element);\n",
              "          const docLink = document.createElement('div');\n",
              "          docLink.innerHTML = docLinkHtml;\n",
              "          element.appendChild(docLink);\n",
              "        }\n",
              "      </script>\n",
              "    </div>\n",
              "  </div>\n",
              "  "
            ]
          },
          "metadata": {},
          "execution_count": 12
        }
      ],
      "source": [
        "import pandas as pd\n",
        "data = pd.read_csv(\"/content/generated_data.csv\")\n",
        "data.head()"
      ]
    },
    {
      "cell_type": "code",
      "execution_count": null,
      "metadata": {
        "id": "gyezD_stAN2e",
        "colab": {
          "base_uri": "https://localhost:8080/",
          "height": 112
        },
        "outputId": "791b5e2d-fd62-4eab-efbb-4f8d4a6e8a9a"
      },
      "outputs": [
        {
          "output_type": "execute_result",
          "data": {
            "text/plain": [
              "<pandas.io.formats.style.Styler at 0x7f144d6d1100>"
            ],
            "text/html": [
              "<style type=\"text/css\">\n",
              "</style>\n",
              "<table id=\"T_c5fa2_\" class=\"dataframe\">\n",
              "  <thead>\n",
              "    <tr>\n",
              "      <th class=\"col_heading level0 col0\" >Method</th>\n",
              "      <th class=\"col_heading level0 col1\" >RMSE</th>\n",
              "    </tr>\n",
              "  </thead>\n",
              "  <tbody>\n",
              "    <tr>\n",
              "      <td id=\"T_c5fa2_row0_col0\" class=\"data row0 col0\" >Crank-Nicolson Finite Differences</td>\n",
              "      <td id=\"T_c5fa2_row0_col1\" class=\"data row0 col1\" >0.000004</td>\n",
              "    </tr>\n",
              "    <tr>\n",
              "      <td id=\"T_c5fa2_row1_col0\" class=\"data row1 col0\" >Implicit Finite Differences</td>\n",
              "      <td id=\"T_c5fa2_row1_col1\" class=\"data row1 col1\" >0.000003</td>\n",
              "    </tr>\n",
              "  </tbody>\n",
              "</table>\n"
            ]
          },
          "metadata": {},
          "execution_count": 14
        }
      ],
      "source": [
        "\n",
        "rsme = []\n",
        "#rsme.append(('CRR',np.sqrt(mean_squared_error(data.g_amercall_crr, data.g_eurocall))))\n",
        "#rsme.append(('Barone-Adesi-Whaley',np.sqrt(mean_squared_error(data.g_amercall_baw, data.g_eurocall))))\n",
        "rsme.append(('Crank-Nicolson Finite Differences',np.sqrt(mean_squared_error(data.g_amercall_fde, data.g_eurocall))))\n",
        "\n",
        "rsme.append(('Implicit Finite Differences',np.sqrt(mean_squared_error(data.g_amercall_fde2, data.g_eurocall))))\n",
        "\n",
        "#rsme.append(('BBS',np.sqrt(mean_squared_error(data.g_amercall_bbs, data.g_eurocall))))\n",
        "#rsme.append(('BBSR',np.sqrt(mean_squared_error(data.g_amercall_bbsr, data.g_eurocall))))\n",
        "\n",
        "df = pd.DataFrame(rsme, columns=[\"Method\", \"RMSE\"])\n",
        "df.style.hide_index()"
      ]
    }
  ],
  "metadata": {
    "colab": {
      "provenance": [],
      "collapsed_sections": [
        "bbZs0GwdjCuO",
        "QndGLJU1jAEL",
        "7uCKiK5OjOQ4",
        "Cd19RU05jS1e",
        "q1mUhxUwmKnW",
        "j19Nr_4gW8sO",
        "MpaX-P-jje8u"
      ]
    },
    "kernelspec": {
      "display_name": "Python 3",
      "name": "python3"
    },
    "language_info": {
      "name": "python"
    }
  },
  "nbformat": 4,
  "nbformat_minor": 0
}