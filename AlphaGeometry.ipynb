{
  "cells": [
    {
      "cell_type": "markdown",
      "metadata": {
        "id": "CTlZm2r5Yx8P"
      },
      "source": [
        "## Download source code from github"
      ]
    },
    {
      "cell_type": "code",
      "execution_count": null,
      "metadata": {
        "id": "IaKgLon21ohf"
      },
      "outputs": [],
      "source": [
        "### Install TensorRT"
      ]
    },
    {
      "cell_type": "code",
      "execution_count": null,
      "metadata": {
        "id": "l4NBZvaK1ohf"
      },
      "outputs": [],
      "source": [
        "!python3 -m pip install --upgrade tensorrt"
      ]
    },
    {
      "cell_type": "markdown",
      "metadata": {
        "id": "rfNQRwFt33vR"
      },
      "source": [
        "### Verify that TensorRT installation is working"
      ]
    },
    {
      "cell_type": "code",
      "execution_count": null,
      "metadata": {
        "colab": {
          "base_uri": "https://localhost:8080/"
        },
        "id": "4WnN0sU03n_b",
        "outputId": "a792ddb9-7dc7-4b63-d60a-2d7a63109415"
      },
      "outputs": [
        {
          "name": "stdout",
          "output_type": "stream",
          "text": [
            "8.6.1\n"
          ]
        }
      ],
      "source": [
        "import tensorrt\n",
        "print(tensorrt.__version__)\n",
        "assert tensorrt.Builder(tensorrt.Logger())"
      ]
    },
    {
      "cell_type": "markdown",
      "metadata": {
        "id": "pEwMDVVr1ohf"
      },
      "source": [
        "### Test alphageometry"
      ]
    },
    {
      "cell_type": "code",
      "execution_count": null,
      "metadata": {
        "colab": {
          "base_uri": "https://localhost:8080/",
          "height": 1000
        },
        "id": "JkL7krdv9wGe",
        "outputId": "3ef04e46-010a-43c3-bf74-7cd53382cc03"
      },
      "outputs": [
        {
          "name": "stdout",
          "output_type": "stream",
          "text": [
            "/env/python:/content/alphageometry/meliad_lib/meliad\n",
            "2024-01-21 21:42:38.626466: W tensorflow/compiler/tf2tensorrt/utils/py_utils.cc:38] TF-TRT Warning: Could not find TensorRT\n",
            "Traceback (most recent call last):\n",
            "  File \"/content/alphageometry/alphageometry_test.py\", line 21, in <module>\n",
            "    import alphageometry\n",
            "  File \"/content/alphageometry/alphageometry.py\", line 28, in <module>\n",
            "    import lm_inference as lm\n",
            "  File \"/content/alphageometry/lm_inference.py\", line 20, in <module>\n",
            "    import models  # pylint: disable=unused-import\n",
            "  File \"/content/alphageometry/models.py\", line 24, in <module>\n",
            "    from transformer import models\n",
            "  File \"/content/alphageometry/meliad_lib/meliad/transformer/models.py\", line 25, in <module>\n",
            "    import  metrics_summary\n",
            "  File \"/content/alphageometry/meliad_lib/meliad/metrics_summary.py\", line 20, in <module>\n",
            "    from clu import metric_writers\n",
            "  File \"/usr/local/lib/python3.10/dist-packages/clu/metric_writers/__init__.py\", line 53, in <module>\n",
            "    from clu.metric_writers.summary_writer import SummaryWriter\n",
            "  File \"/usr/local/lib/python3.10/dist-packages/clu/metric_writers/summary_writer.py\", line 18, in <module>\n",
            "    from .tf.summary_writer import SummaryWriter\n",
            "  File \"/usr/local/lib/python3.10/dist-packages/clu/metric_writers/tf/summary_writer.py\", line 30, in <module>\n",
            "    from tensorboard.plugins.hparams import api as hparams_api\n",
            "  File \"/usr/local/lib/python3.10/dist-packages/tensorboard/plugins/hparams/api.py\", line 113, in <module>\n",
            "    from tensorboard.plugins.hparams import _keras\n",
            "  File \"/usr/local/lib/python3.10/dist-packages/tensorboard/plugins/hparams/_keras.py\", line 28, in <module>\n",
            "    class Callback(tf.keras.callbacks.Callback):\n",
            "  File \"/usr/local/lib/python3.10/dist-packages/tensorflow/python/util/lazy_loader.py\", line 58, in __getattr__\n",
            "    module = self._load()\n",
            "  File \"/usr/local/lib/python3.10/dist-packages/tensorflow/python/util/lazy_loader.py\", line 41, in _load\n",
            "    module = importlib.import_module(self.__name__)\n",
            "  File \"/usr/lib/python3.10/importlib/__init__.py\", line 126, in import_module\n",
            "    return _bootstrap._gcd_import(name[level:], package, level)\n",
            "  File \"/usr/local/lib/python3.10/dist-packages/keras/__init__.py\", line 3, in <module>\n",
            "    from keras import __internal__\n",
            "  File \"/usr/local/lib/python3.10/dist-packages/keras/__internal__/__init__.py\", line 3, in <module>\n",
            "    from keras.__internal__ import backend\n",
            "  File \"/usr/local/lib/python3.10/dist-packages/keras/__internal__/backend/__init__.py\", line 3, in <module>\n",
            "    from keras.src.backend import _initialize_variables as initialize_variables\n",
            "  File \"/usr/local/lib/python3.10/dist-packages/keras/src/__init__.py\", line 21, in <module>\n",
            "    from keras.src import models\n",
            "  File \"/usr/local/lib/python3.10/dist-packages/keras/src/models/__init__.py\", line 18, in <module>\n",
            "    from keras.src.engine.functional import Functional\n",
            "  File \"/usr/local/lib/python3.10/dist-packages/keras/src/engine/functional.py\", line 25, in <module>\n",
            "    from keras.src import backend\n",
            "  File \"/usr/local/lib/python3.10/dist-packages/keras/src/backend/__init__.py\", line 9, in <module>\n",
            "    from keras.src.backend.common.dtypes import result_type\n",
            "  File \"/usr/local/lib/python3.10/dist-packages/keras/src/backend/common/__init__.py\", line 2, in <module>\n",
            "    from keras.src.backend.common.dtypes import result_type\n",
            "  File \"/usr/local/lib/python3.10/dist-packages/keras/src/backend/common/dtypes.py\", line 5, in <module>\n",
            "    from keras.src.backend.common.variables import ALLOWED_DTYPES\n",
            "  File \"/usr/local/lib/python3.10/dist-packages/keras/src/backend/common/variables.py\", line 9, in <module>\n",
            "    from keras.src.utils.module_utils import tensorflow as tf\n",
            "  File \"/usr/local/lib/python3.10/dist-packages/keras/src/utils/__init__.py\", line 53, in <module>\n",
            "    from keras.src.utils.feature_space import FeatureSpace\n",
            "  File \"/usr/local/lib/python3.10/dist-packages/keras/src/utils/feature_space.py\", line 20, in <module>\n",
            "    from keras.src.engine import base_layer\n",
            "  File \"/usr/local/lib/python3.10/dist-packages/keras/src/engine/base_layer.py\", line 32, in <module>\n",
            "    from keras.src import constraints\n",
            "  File \"/usr/local/lib/python3.10/dist-packages/keras/src/constraints/__init__.py\", line 4, in <module>\n",
            "    from keras.src.constraints.constraints import Constraint\n",
            "  File \"/usr/local/lib/python3.10/dist-packages/keras/src/constraints/constraints.py\", line 2, in <module>\n",
            "    from keras.src import ops\n",
            "  File \"/usr/local/lib/python3.10/dist-packages/keras/src/ops/__init__.py\", line 5, in <module>\n",
            "    from keras.src.backend import cast\n",
            "ImportError: cannot import name 'cast' from partially initialized module 'keras.src.backend' (most likely due to a circular import) (/usr/local/lib/python3.10/dist-packages/keras/src/backend/__init__.py)\n"
          ]
        },
        {
          "ename": "CalledProcessError",
          "evalue": "Command '\nMELIAD_PATH=meliad_lib/meliad\nexport PYTHONPATH=$PYTHONPATH:/content/alphageometry/$MELIAD_PATH\n\necho $PYTHONPATH\n\nxvfb-run python alphageometry_test.py\n' returned non-zero exit status 1.",
          "output_type": "error",
          "traceback": [
            "\u001b[0;31m---------------------------------------------------------------------------\u001b[0m",
            "\u001b[0;31mCalledProcessError\u001b[0m                        Traceback (most recent call last)",
            "\u001b[0;32m<ipython-input-26-8138ba0b9974>\u001b[0m in \u001b[0;36m<cell line: 1>\u001b[0;34m()\u001b[0m\n\u001b[0;32m----> 1\u001b[0;31m \u001b[0mget_ipython\u001b[0m\u001b[0;34m(\u001b[0m\u001b[0;34m)\u001b[0m\u001b[0;34m.\u001b[0m\u001b[0mrun_cell_magic\u001b[0m\u001b[0;34m(\u001b[0m\u001b[0;34m'shell'\u001b[0m\u001b[0;34m,\u001b[0m \u001b[0;34m''\u001b[0m\u001b[0;34m,\u001b[0m \u001b[0;34m'\\nMELIAD_PATH=meliad_lib/meliad\\nexport PYTHONPATH=$PYTHONPATH:/content/alphageometry/$MELIAD_PATH\\n\\necho $PYTHONPATH\\n\\nxvfb-run python alphageometry_test.py\\n'\u001b[0m\u001b[0;34m)\u001b[0m\u001b[0;34m\u001b[0m\u001b[0;34m\u001b[0m\u001b[0m\n\u001b[0m",
            "\u001b[0;32m/usr/local/lib/python3.10/dist-packages/google/colab/_shell.py\u001b[0m in \u001b[0;36mrun_cell_magic\u001b[0;34m(self, magic_name, line, cell)\u001b[0m\n\u001b[1;32m    332\u001b[0m     \u001b[0;32mif\u001b[0m \u001b[0mline\u001b[0m \u001b[0;32mand\u001b[0m \u001b[0;32mnot\u001b[0m \u001b[0mcell\u001b[0m\u001b[0;34m:\u001b[0m\u001b[0;34m\u001b[0m\u001b[0;34m\u001b[0m\u001b[0m\n\u001b[1;32m    333\u001b[0m       \u001b[0mcell\u001b[0m \u001b[0;34m=\u001b[0m \u001b[0;34m' '\u001b[0m\u001b[0;34m\u001b[0m\u001b[0;34m\u001b[0m\u001b[0m\n\u001b[0;32m--> 334\u001b[0;31m     \u001b[0;32mreturn\u001b[0m \u001b[0msuper\u001b[0m\u001b[0;34m(\u001b[0m\u001b[0;34m)\u001b[0m\u001b[0;34m.\u001b[0m\u001b[0mrun_cell_magic\u001b[0m\u001b[0;34m(\u001b[0m\u001b[0mmagic_name\u001b[0m\u001b[0;34m,\u001b[0m \u001b[0mline\u001b[0m\u001b[0;34m,\u001b[0m \u001b[0mcell\u001b[0m\u001b[0;34m)\u001b[0m\u001b[0;34m\u001b[0m\u001b[0;34m\u001b[0m\u001b[0m\n\u001b[0m\u001b[1;32m    335\u001b[0m \u001b[0;34m\u001b[0m\u001b[0m\n\u001b[1;32m    336\u001b[0m \u001b[0;34m\u001b[0m\u001b[0m\n",
            "\u001b[0;32m/usr/local/lib/python3.10/dist-packages/IPython/core/interactiveshell.py\u001b[0m in \u001b[0;36mrun_cell_magic\u001b[0;34m(self, magic_name, line, cell)\u001b[0m\n\u001b[1;32m   2471\u001b[0m             \u001b[0;32mwith\u001b[0m \u001b[0mself\u001b[0m\u001b[0;34m.\u001b[0m\u001b[0mbuiltin_trap\u001b[0m\u001b[0;34m:\u001b[0m\u001b[0;34m\u001b[0m\u001b[0;34m\u001b[0m\u001b[0m\n\u001b[1;32m   2472\u001b[0m                 \u001b[0margs\u001b[0m \u001b[0;34m=\u001b[0m \u001b[0;34m(\u001b[0m\u001b[0mmagic_arg_s\u001b[0m\u001b[0;34m,\u001b[0m \u001b[0mcell\u001b[0m\u001b[0;34m)\u001b[0m\u001b[0;34m\u001b[0m\u001b[0;34m\u001b[0m\u001b[0m\n\u001b[0;32m-> 2473\u001b[0;31m                 \u001b[0mresult\u001b[0m \u001b[0;34m=\u001b[0m \u001b[0mfn\u001b[0m\u001b[0;34m(\u001b[0m\u001b[0;34m*\u001b[0m\u001b[0margs\u001b[0m\u001b[0;34m,\u001b[0m \u001b[0;34m**\u001b[0m\u001b[0mkwargs\u001b[0m\u001b[0;34m)\u001b[0m\u001b[0;34m\u001b[0m\u001b[0;34m\u001b[0m\u001b[0m\n\u001b[0m\u001b[1;32m   2474\u001b[0m             \u001b[0;32mreturn\u001b[0m \u001b[0mresult\u001b[0m\u001b[0;34m\u001b[0m\u001b[0;34m\u001b[0m\u001b[0m\n\u001b[1;32m   2475\u001b[0m \u001b[0;34m\u001b[0m\u001b[0m\n",
            "\u001b[0;32m/usr/local/lib/python3.10/dist-packages/google/colab/_system_commands.py\u001b[0m in \u001b[0;36m_shell_cell_magic\u001b[0;34m(args, cmd)\u001b[0m\n\u001b[1;32m    110\u001b[0m   \u001b[0mresult\u001b[0m \u001b[0;34m=\u001b[0m \u001b[0m_run_command\u001b[0m\u001b[0;34m(\u001b[0m\u001b[0mcmd\u001b[0m\u001b[0;34m,\u001b[0m \u001b[0mclear_streamed_output\u001b[0m\u001b[0;34m=\u001b[0m\u001b[0;32mFalse\u001b[0m\u001b[0;34m)\u001b[0m\u001b[0;34m\u001b[0m\u001b[0;34m\u001b[0m\u001b[0m\n\u001b[1;32m    111\u001b[0m   \u001b[0;32mif\u001b[0m \u001b[0;32mnot\u001b[0m \u001b[0mparsed_args\u001b[0m\u001b[0;34m.\u001b[0m\u001b[0mignore_errors\u001b[0m\u001b[0;34m:\u001b[0m\u001b[0;34m\u001b[0m\u001b[0;34m\u001b[0m\u001b[0m\n\u001b[0;32m--> 112\u001b[0;31m     \u001b[0mresult\u001b[0m\u001b[0;34m.\u001b[0m\u001b[0mcheck_returncode\u001b[0m\u001b[0;34m(\u001b[0m\u001b[0;34m)\u001b[0m\u001b[0;34m\u001b[0m\u001b[0;34m\u001b[0m\u001b[0m\n\u001b[0m\u001b[1;32m    113\u001b[0m   \u001b[0;32mreturn\u001b[0m \u001b[0mresult\u001b[0m\u001b[0;34m\u001b[0m\u001b[0;34m\u001b[0m\u001b[0m\n\u001b[1;32m    114\u001b[0m \u001b[0;34m\u001b[0m\u001b[0m\n",
            "\u001b[0;32m/usr/local/lib/python3.10/dist-packages/google/colab/_system_commands.py\u001b[0m in \u001b[0;36mcheck_returncode\u001b[0;34m(self)\u001b[0m\n\u001b[1;32m    135\u001b[0m   \u001b[0;32mdef\u001b[0m \u001b[0mcheck_returncode\u001b[0m\u001b[0;34m(\u001b[0m\u001b[0mself\u001b[0m\u001b[0;34m)\u001b[0m\u001b[0;34m:\u001b[0m\u001b[0;34m\u001b[0m\u001b[0;34m\u001b[0m\u001b[0m\n\u001b[1;32m    136\u001b[0m     \u001b[0;32mif\u001b[0m \u001b[0mself\u001b[0m\u001b[0;34m.\u001b[0m\u001b[0mreturncode\u001b[0m\u001b[0;34m:\u001b[0m\u001b[0;34m\u001b[0m\u001b[0;34m\u001b[0m\u001b[0m\n\u001b[0;32m--> 137\u001b[0;31m       raise subprocess.CalledProcessError(\n\u001b[0m\u001b[1;32m    138\u001b[0m           \u001b[0mreturncode\u001b[0m\u001b[0;34m=\u001b[0m\u001b[0mself\u001b[0m\u001b[0;34m.\u001b[0m\u001b[0mreturncode\u001b[0m\u001b[0;34m,\u001b[0m \u001b[0mcmd\u001b[0m\u001b[0;34m=\u001b[0m\u001b[0mself\u001b[0m\u001b[0;34m.\u001b[0m\u001b[0margs\u001b[0m\u001b[0;34m,\u001b[0m \u001b[0moutput\u001b[0m\u001b[0;34m=\u001b[0m\u001b[0mself\u001b[0m\u001b[0;34m.\u001b[0m\u001b[0moutput\u001b[0m\u001b[0;34m\u001b[0m\u001b[0;34m\u001b[0m\u001b[0m\n\u001b[1;32m    139\u001b[0m       )\n",
            "\u001b[0;31mCalledProcessError\u001b[0m: Command '\nMELIAD_PATH=meliad_lib/meliad\nexport PYTHONPATH=$PYTHONPATH:/content/alphageometry/$MELIAD_PATH\n\necho $PYTHONPATH\n\nxvfb-run python alphageometry_test.py\n' returned non-zero exit status 1."
          ]
        }
      ],
      "source": [
        "%%shell\n",
        "\n",
        "MELIAD_PATH=meliad_lib/meliad\n",
        "export PYTHONPATH=$PYTHONPATH:/content/alphageometry/$MELIAD_PATH\n",
        "\n",
        "echo $PYTHONPATH\n",
        "\n",
        "CUDNN_PATH=\"/usr/local/lib/python3.10/dist-packages/nvidia/cudnn/\"\n",
        "TENSOR_LIBS=\"/usr/local/lib/python3.10/dist-packages/tensorrt_libs\"\n",
        "export LD_LIBRARY_PATH=$TENSOR_LIBS:$CUDNN_PATH/lib:$LD_LIBRARY_PATH\n",
        "\n",
        "echo $LD_LIBRARY_PATH\n",
        "\n",
        "xvfb-run python alphageometry_test.py"
      ]
    },
    {
      "cell_type": "code",
      "execution_count": null,
      "metadata": {
        "id": "kiH_trs69wGe"
      },
      "outputs": [],
      "source": [
        "%%shell\n",
        "\n",
        "MELIAD_PATH=meliad_lib/meliad\n",
        "export PYTHONPATH=$PYTHONPATH:/content/alphageometry/$MELIAD_PATH\n",
        "\n",
        "echo $PYTHONPATH\n",
        "\n",
        "DATA=\"/content/drive/MyDrive/ag_ckpt_vocab\"\n",
        "\n",
        "echo $DATA\n",
        "\n",
        "CUDNN_PATH=\"/usr/local/lib/python3.10/dist-packages/nvidia/cudnn/\"\n",
        "TENSOR_LIBS=\"/usr/local/lib/python3.10/dist-packages/tensorrt_libs\"\n",
        "export LD_LIBRARY_PATH=$TENSOR_LIBS:$CUDNN_PATH/lib:$LD_LIBRARY_PATH\n",
        "\n",
        "echo $LD_LIBRARY_PATH\n",
        "\n",
        "python lm_inference_test.py --meliad_path=$MELIAD_PATH --data_path=$DATA"
      ]
    },
    {
      "cell_type": "markdown",
      "metadata": {
        "id": "PuqLUJXN9wGe"
      },
      "source": [
        "## Run DDAR"
      ]
    },
    {
      "cell_type": "code",
      "execution_count": null,
      "metadata": {
        "id": "zVrFGlJp9wGe"
      },
      "outputs": [],
      "source": [
        "%%shell\n",
        "\n",
        "MELIAD_PATH=meliad_lib/meliad\n",
        "export PYTHONPATH=$PYTHONPATH:/content/alphageometry/$MELIAD_PATH\n",
        "\n",
        "echo $PYTHONPATH\n",
        "\n",
        "DATA=\"/content/drive/MyDrive/ag_ckpt_vocab\"\n",
        "\n",
        "echo $DATA\n",
        "\n",
        "CUDNN_PATH=\"/usr/local/lib/python3.10/dist-packages/nvidia/cudnn/\"\n",
        "TENSOR_LIBS=\"/usr/local/lib/python3.10/dist-packages/tensorrt_libs\"\n",
        "export LD_LIBRARY_PATH=$TENSOR_LIBS:$CUDNN_PATH/lib:$LD_LIBRARY_PATH\n",
        "\n",
        "echo $LD_LIBRARY_PATH\n",
        "\n",
        "xvfb-run python -m alphageometry \\\n",
        "--alsologtostderr \\\n",
        "--problems_file=$(pwd)/imo_ag_30.txt \\\n",
        "--problem_name=translated_imo_2000_p1 \\\n",
        "--mode=ddar \\\n",
        "\"${DDAR_ARGS[@]}\""
      ]
    },
    {
      "cell_type": "markdown",
      "metadata": {
        "id": "Uvpp6QUQ9wGe"
      },
      "source": [
        "## Run AlphaGeometry"
      ]
    },
    {
      "cell_type": "code",
      "execution_count": null,
      "metadata": {
        "id": "uxhMrGL89wGe"
      },
      "outputs": [],
      "source": [
        "%%shell\n",
        "\n",
        "MELIAD_PATH=meliad_lib/meliad\n",
        "export PYTHONPATH=$PYTHONPATH:/content/alphageometry/$MELIAD_PATH\n",
        "\n",
        "echo $PYTHONPATH\n",
        "\n",
        "DATA=\"/content/drive/MyDrive/ag_ckpt_vocab\"\n",
        "\n",
        "echo $DATA\n",
        "\n",
        "CUDNN_PATH=\"/usr/local/lib/python3.10/dist-packages/nvidia/cudnn/\"\n",
        "TENSOR_LIBS=\"/usr/local/lib/python3.10/dist-packages/tensorrt_libs\"\n",
        "export LD_LIBRARY_PATH=$TENSOR_LIBS:$CUDNN_PATH/lib:$LD_LIBRARY_PATH\n",
        "\n",
        "echo $LD_LIBRARY_PATH\n",
        "\n",
        "BATCH_SIZE=2\n",
        "BEAM_SIZE=2\n",
        "DEPTH=2\n",
        "\n",
        "SEARCH_ARGS=(\n",
        "  --beam_size=$BEAM_SIZE\n",
        "  --search_depth=$DEPTH\n",
        ")\n",
        "\n",
        "LM_ARGS=(\n",
        "  --ckpt_path=$DATA \\\n",
        "  --vocab_path=$DATA/geometry.757.model \\\n",
        "  --gin_search_paths=$MELIAD_PATH/transformer/configs \\\n",
        "  --gin_file=base_htrans.gin \\\n",
        "  --gin_file=size/medium_150M.gin \\\n",
        "  --gin_file=options/positions_t5.gin \\\n",
        "  --gin_file=options/lr_cosine_decay.gin \\\n",
        "  --gin_file=options/seq_1024_nocache.gin \\\n",
        "  --gin_file=geometry_150M_generate.gin \\\n",
        "  --gin_param=DecoderOnlyLanguageModelGenerate.output_token_losses=True \\\n",
        "  --gin_param=TransformerTaskConfig.batch_size=$BATCH_SIZE \\\n",
        "  --gin_param=TransformerTaskConfig.sequence_length=128 \\\n",
        "  --gin_param=Trainer.restore_state_variables=False\n",
        ");\n",
        "\n",
        "xvfb-run python -m alphageometry \\\n",
        "--alsologtostderr \\\n",
        "--problems_file=$(pwd)/examples.txt \\\n",
        "--problem_name=orthocenter \\\n",
        "--mode=alphageometry \\\n",
        "\"${DDAR_ARGS[@]}\" \\\n",
        "\"${SEARCH_ARGS[@]}\" \\\n",
        "\"${LM_ARGS[@]}\""
      ]
    }
  ],
  "metadata": {
    "accelerator": "GPU",
    "colab": {
      "gpuType": "T4",
      "provenance": []
    },
    "kernelspec": {
      "display_name": "Python 3",
      "name": "python3"
    },
    "language_info": {
      "name": "python"
    }
  },
  "nbformat": 4,
  "nbformat_minor": 0
}